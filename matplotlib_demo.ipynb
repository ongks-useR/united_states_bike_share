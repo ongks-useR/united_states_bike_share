{
  "nbformat": 4,
  "nbformat_minor": 0,
  "metadata": {
    "colab": {
      "name": "matplotlib_demo.ipynb",
      "provenance": [],
      "mount_file_id": "1hTlCcs0xARHUaEBezab986T7NKDsiSGI",
      "authorship_tag": "ABX9TyONm64r/7klq+myQ3rKqSgg",
      "include_colab_link": true
    },
    "kernelspec": {
      "name": "python3",
      "display_name": "Python 3"
    },
    "language_info": {
      "name": "python"
    }
  },
  "cells": [
    {
      "cell_type": "markdown",
      "metadata": {
        "id": "view-in-github",
        "colab_type": "text"
      },
      "source": [
        "<a href=\"https://colab.research.google.com/github/ongks-useR/united_states_bike_share/blob/main/matplotlib_demo.ipynb\" target=\"_parent\"><img src=\"https://colab.research.google.com/assets/colab-badge.svg\" alt=\"Open In Colab\"/></a>"
      ]
    },
    {
      "cell_type": "markdown",
      "metadata": {
        "id": "rM_Zs_qwWi4c"
      },
      "source": [
        "## Python Library"
      ]
    },
    {
      "cell_type": "code",
      "metadata": {
        "id": "K-XMe41MWOB5"
      },
      "source": [
        "# data analysis\n",
        "import pandas as pd\n",
        "import numpy as np\n",
        "\n",
        "# matplotlib\n",
        "import matplotlib.pyplot as plt\n",
        "\n",
        "# colormap of matplotlib\n",
        "from matplotlib import cm\n",
        "%matplotlib inline\n",
        "\n",
        "# Operating System\n",
        "from glob import glob\n",
        "from os import path\n",
        "from pathlib import Path\n",
        "\n",
        "from functools import reduce"
      ],
      "execution_count": 1,
      "outputs": []
    },
    {
      "cell_type": "markdown",
      "metadata": {
        "id": "g0jIqCiTWseD"
      },
      "source": [
        "## Explore Data"
      ]
    },
    {
      "cell_type": "code",
      "metadata": {
        "colab": {
          "base_uri": "https://localhost:8080/"
        },
        "id": "kqMgg-qB0Svr",
        "outputId": "e96be894-3b1e-48e8-827a-b4a0ed97969b"
      },
      "source": [
        "# current path of working directory for jupyter notebook and CSV files in Google Colab\n",
        "file_dir = '/content/drive/MyDrive/New York Bike Share'\n",
        "\n",
        "# getting file names within the directory and sort file name\n",
        "file_names = glob(path.join(file_dir, '*-citibike-tripdata.csv'))\n",
        "file_names"
      ],
      "execution_count": 2,
      "outputs": [
        {
          "output_type": "execute_result",
          "data": {
            "text/plain": [
              "['/content/drive/MyDrive/New York Bike Share/201901-citibike-tripdata.csv',\n",
              " '/content/drive/MyDrive/New York Bike Share/201902-citibike-tripdata.csv',\n",
              " '/content/drive/MyDrive/New York Bike Share/201903-citibike-tripdata.csv',\n",
              " '/content/drive/MyDrive/New York Bike Share/201904-citibike-tripdata.csv',\n",
              " '/content/drive/MyDrive/New York Bike Share/201905-citibike-tripdata.csv',\n",
              " '/content/drive/MyDrive/New York Bike Share/201906-citibike-tripdata.csv',\n",
              " '/content/drive/MyDrive/New York Bike Share/201907-citibike-tripdata.csv',\n",
              " '/content/drive/MyDrive/New York Bike Share/201908-citibike-tripdata.csv',\n",
              " '/content/drive/MyDrive/New York Bike Share/201909-citibike-tripdata.csv',\n",
              " '/content/drive/MyDrive/New York Bike Share/201910-citibike-tripdata.csv',\n",
              " '/content/drive/MyDrive/New York Bike Share/201911-citibike-tripdata.csv',\n",
              " '/content/drive/MyDrive/New York Bike Share/201912-citibike-tripdata.csv']"
            ]
          },
          "metadata": {
            "tags": []
          },
          "execution_count": 2
        }
      ]
    },
    {
      "cell_type": "code",
      "metadata": {
        "colab": {
          "base_uri": "https://localhost:8080/"
        },
        "id": "VFTduRD50c4D",
        "outputId": "69720590-c788-4b4e-91e0-060fd1b17828"
      },
      "source": [
        "# quick look into the dataset\n",
        "\n",
        "pd.read_csv('/content/drive/MyDrive/New York Bike Share/201901-citibike-tripdata.csv', nrows=100).info()"
      ],
      "execution_count": 3,
      "outputs": [
        {
          "output_type": "stream",
          "text": [
            "<class 'pandas.core.frame.DataFrame'>\n",
            "RangeIndex: 100 entries, 0 to 99\n",
            "Data columns (total 15 columns):\n",
            " #   Column                   Non-Null Count  Dtype  \n",
            "---  ------                   --------------  -----  \n",
            " 0   tripduration             100 non-null    int64  \n",
            " 1   starttime                100 non-null    object \n",
            " 2   stoptime                 100 non-null    object \n",
            " 3   start station id         100 non-null    int64  \n",
            " 4   start station name       100 non-null    object \n",
            " 5   start station latitude   100 non-null    float64\n",
            " 6   start station longitude  100 non-null    float64\n",
            " 7   end station id           100 non-null    int64  \n",
            " 8   end station name         100 non-null    object \n",
            " 9   end station latitude     100 non-null    float64\n",
            " 10  end station longitude    100 non-null    float64\n",
            " 11  bikeid                   100 non-null    int64  \n",
            " 12  usertype                 100 non-null    object \n",
            " 13  birth year               100 non-null    int64  \n",
            " 14  gender                   100 non-null    int64  \n",
            "dtypes: float64(4), int64(6), object(5)\n",
            "memory usage: 11.8+ KB\n"
          ],
          "name": "stdout"
        }
      ]
    },
    {
      "cell_type": "code",
      "metadata": {
        "id": "g2Yv41ehWwRa"
      },
      "source": [
        "# subset column 1 (starttime) & 12 (usertype) for demo\n",
        "col_index = [1, 12]\n",
        "col_names = ['time_start', 'user_type']\n",
        "col_type = {'user_type': 'category'}\n",
        "\n",
        "# self defined function to create dataframe\n",
        "def create_df(f, size = 100_000):\n",
        "\n",
        "    # create chunks of data frame with 100K per chunk. Result is an iteratable of dataframes\n",
        "    result = pd.read_csv(f, chunksize=size, usecols=col_index, names=col_names, dtype=col_type, header=0, parse_dates=['time_start'])\n",
        "    \n",
        "    # store each dataframe in list\n",
        "    result = [chunk for chunk in result]\n",
        "\n",
        "    # merge all dataframes\n",
        "    result = pd.concat(result, ignore_index=True)\n",
        "\n",
        "    return result"
      ],
      "execution_count": 4,
      "outputs": []
    },
    {
      "cell_type": "code",
      "metadata": {
        "id": "tB9Pur96W4SM"
      },
      "source": [
        "# apply create_df function to each file in file_names to create list of dataframes\n",
        "\n",
        "df = [create_df(file) for file in file_names]"
      ],
      "execution_count": 5,
      "outputs": []
    },
    {
      "cell_type": "code",
      "metadata": {
        "colab": {
          "base_uri": "https://localhost:8080/",
          "height": 204
        },
        "id": "J0n1aBNY2UOo",
        "outputId": "42138606-7956-488a-e17c-6e553f5a0d73"
      },
      "source": [
        "# combine list of dataframes\n",
        "\n",
        "df = pd.concat(df, ignore_index=True)\n",
        "df.head()"
      ],
      "execution_count": 6,
      "outputs": [
        {
          "output_type": "execute_result",
          "data": {
            "text/html": [
              "<div>\n",
              "<style scoped>\n",
              "    .dataframe tbody tr th:only-of-type {\n",
              "        vertical-align: middle;\n",
              "    }\n",
              "\n",
              "    .dataframe tbody tr th {\n",
              "        vertical-align: top;\n",
              "    }\n",
              "\n",
              "    .dataframe thead th {\n",
              "        text-align: right;\n",
              "    }\n",
              "</style>\n",
              "<table border=\"1\" class=\"dataframe\">\n",
              "  <thead>\n",
              "    <tr style=\"text-align: right;\">\n",
              "      <th></th>\n",
              "      <th>time_start</th>\n",
              "      <th>user_type</th>\n",
              "    </tr>\n",
              "  </thead>\n",
              "  <tbody>\n",
              "    <tr>\n",
              "      <th>0</th>\n",
              "      <td>2019-01-01 00:01:47.401</td>\n",
              "      <td>Subscriber</td>\n",
              "    </tr>\n",
              "    <tr>\n",
              "      <th>1</th>\n",
              "      <td>2019-01-01 00:04:43.736</td>\n",
              "      <td>Subscriber</td>\n",
              "    </tr>\n",
              "    <tr>\n",
              "      <th>2</th>\n",
              "      <td>2019-01-01 00:06:03.997</td>\n",
              "      <td>Subscriber</td>\n",
              "    </tr>\n",
              "    <tr>\n",
              "      <th>3</th>\n",
              "      <td>2019-01-01 00:07:03.545</td>\n",
              "      <td>Subscriber</td>\n",
              "    </tr>\n",
              "    <tr>\n",
              "      <th>4</th>\n",
              "      <td>2019-01-01 00:07:35.945</td>\n",
              "      <td>Subscriber</td>\n",
              "    </tr>\n",
              "  </tbody>\n",
              "</table>\n",
              "</div>"
            ],
            "text/plain": [
              "               time_start   user_type\n",
              "0 2019-01-01 00:01:47.401  Subscriber\n",
              "1 2019-01-01 00:04:43.736  Subscriber\n",
              "2 2019-01-01 00:06:03.997  Subscriber\n",
              "3 2019-01-01 00:07:03.545  Subscriber\n",
              "4 2019-01-01 00:07:35.945  Subscriber"
            ]
          },
          "metadata": {
            "tags": []
          },
          "execution_count": 6
        }
      ]
    },
    {
      "cell_type": "code",
      "metadata": {
        "colab": {
          "base_uri": "https://localhost:8080/"
        },
        "id": "PiIoii3tXNTL",
        "outputId": "90a987f3-d8f2-44d2-ac3b-e7ec7d4d48c1"
      },
      "source": [
        "df.info()"
      ],
      "execution_count": 7,
      "outputs": [
        {
          "output_type": "stream",
          "text": [
            "<class 'pandas.core.frame.DataFrame'>\n",
            "RangeIndex: 20551697 entries, 0 to 20551696\n",
            "Data columns (total 2 columns):\n",
            " #   Column      Dtype         \n",
            "---  ------      -----         \n",
            " 0   time_start  datetime64[ns]\n",
            " 1   user_type   category      \n",
            "dtypes: category(1), datetime64[ns](1)\n",
            "memory usage: 176.4 MB\n"
          ],
          "name": "stdout"
        }
      ]
    },
    {
      "cell_type": "markdown",
      "metadata": {
        "id": "y9IbebDOXdNa"
      },
      "source": [
        "## **Monthly Activity of Bike Sharing by Customer Type**"
      ]
    },
    {
      "cell_type": "code",
      "metadata": {
        "colab": {
          "base_uri": "https://localhost:8080/",
          "height": 452
        },
        "id": "TyUQMkx7XgOi",
        "outputId": "f4eb9dcd-4171-4944-e57e-8c1d0bfb051f"
      },
      "source": [
        "# preparing data for Subscriber\n",
        "\n",
        "monthly_subscriber = df.loc[df.user_type == 'Subscriber', ['time_start']].reset_index()\n",
        "monthly_subscriber = monthly_subscriber.assign(index = 1)\n",
        "monthly_subscriber = monthly_subscriber.resample('M', on='time_start').sum().rename(columns={'index': 'subscriber'})\n",
        "monthly_subscriber"
      ],
      "execution_count": 8,
      "outputs": [
        {
          "output_type": "execute_result",
          "data": {
            "text/html": [
              "<div>\n",
              "<style scoped>\n",
              "    .dataframe tbody tr th:only-of-type {\n",
              "        vertical-align: middle;\n",
              "    }\n",
              "\n",
              "    .dataframe tbody tr th {\n",
              "        vertical-align: top;\n",
              "    }\n",
              "\n",
              "    .dataframe thead th {\n",
              "        text-align: right;\n",
              "    }\n",
              "</style>\n",
              "<table border=\"1\" class=\"dataframe\">\n",
              "  <thead>\n",
              "    <tr style=\"text-align: right;\">\n",
              "      <th></th>\n",
              "      <th>subscriber</th>\n",
              "    </tr>\n",
              "    <tr>\n",
              "      <th>time_start</th>\n",
              "      <th></th>\n",
              "    </tr>\n",
              "  </thead>\n",
              "  <tbody>\n",
              "    <tr>\n",
              "      <th>2019-01-31</th>\n",
              "      <td>927114</td>\n",
              "    </tr>\n",
              "    <tr>\n",
              "      <th>2019-02-28</th>\n",
              "      <td>897393</td>\n",
              "    </tr>\n",
              "    <tr>\n",
              "      <th>2019-03-31</th>\n",
              "      <td>1221302</td>\n",
              "    </tr>\n",
              "    <tr>\n",
              "      <th>2019-04-30</th>\n",
              "      <td>1536661</td>\n",
              "    </tr>\n",
              "    <tr>\n",
              "      <th>2019-05-31</th>\n",
              "      <td>1629997</td>\n",
              "    </tr>\n",
              "    <tr>\n",
              "      <th>2019-06-30</th>\n",
              "      <td>1752526</td>\n",
              "    </tr>\n",
              "    <tr>\n",
              "      <th>2019-07-31</th>\n",
              "      <td>1803055</td>\n",
              "    </tr>\n",
              "    <tr>\n",
              "      <th>2019-08-31</th>\n",
              "      <td>1900359</td>\n",
              "    </tr>\n",
              "    <tr>\n",
              "      <th>2019-09-30</th>\n",
              "      <td>2010493</td>\n",
              "    </tr>\n",
              "    <tr>\n",
              "      <th>2019-10-31</th>\n",
              "      <td>1796820</td>\n",
              "    </tr>\n",
              "    <tr>\n",
              "      <th>2019-11-30</th>\n",
              "      <td>1326216</td>\n",
              "    </tr>\n",
              "    <tr>\n",
              "      <th>2019-12-31</th>\n",
              "      <td>877585</td>\n",
              "    </tr>\n",
              "  </tbody>\n",
              "</table>\n",
              "</div>"
            ],
            "text/plain": [
              "            subscriber\n",
              "time_start            \n",
              "2019-01-31      927114\n",
              "2019-02-28      897393\n",
              "2019-03-31     1221302\n",
              "2019-04-30     1536661\n",
              "2019-05-31     1629997\n",
              "2019-06-30     1752526\n",
              "2019-07-31     1803055\n",
              "2019-08-31     1900359\n",
              "2019-09-30     2010493\n",
              "2019-10-31     1796820\n",
              "2019-11-30     1326216\n",
              "2019-12-31      877585"
            ]
          },
          "metadata": {
            "tags": []
          },
          "execution_count": 8
        }
      ]
    },
    {
      "cell_type": "code",
      "metadata": {
        "colab": {
          "base_uri": "https://localhost:8080/",
          "height": 452
        },
        "id": "j4DNQKC51ThD",
        "outputId": "053608ec-3d04-46f5-8a4c-2d083a0ce6d1"
      },
      "source": [
        "# preparing data for Customer\n",
        "\n",
        "monthly_customer = df.loc[df.user_type == 'Customer', ['time_start']].reset_index()\n",
        "monthly_customer = monthly_customer.assign(index = 1)\n",
        "monthly_customer = monthly_customer.resample('M', on='time_start').sum().rename(columns={'index': 'customer'})\n",
        "monthly_customer"
      ],
      "execution_count": 9,
      "outputs": [
        {
          "output_type": "execute_result",
          "data": {
            "text/html": [
              "<div>\n",
              "<style scoped>\n",
              "    .dataframe tbody tr th:only-of-type {\n",
              "        vertical-align: middle;\n",
              "    }\n",
              "\n",
              "    .dataframe tbody tr th {\n",
              "        vertical-align: top;\n",
              "    }\n",
              "\n",
              "    .dataframe thead th {\n",
              "        text-align: right;\n",
              "    }\n",
              "</style>\n",
              "<table border=\"1\" class=\"dataframe\">\n",
              "  <thead>\n",
              "    <tr style=\"text-align: right;\">\n",
              "      <th></th>\n",
              "      <th>customer</th>\n",
              "    </tr>\n",
              "    <tr>\n",
              "      <th>time_start</th>\n",
              "      <th></th>\n",
              "    </tr>\n",
              "  </thead>\n",
              "  <tbody>\n",
              "    <tr>\n",
              "      <th>2019-01-31</th>\n",
              "      <td>40173</td>\n",
              "    </tr>\n",
              "    <tr>\n",
              "      <th>2019-02-28</th>\n",
              "      <td>46351</td>\n",
              "    </tr>\n",
              "    <tr>\n",
              "      <th>2019-03-31</th>\n",
              "      <td>106658</td>\n",
              "    </tr>\n",
              "    <tr>\n",
              "      <th>2019-04-30</th>\n",
              "      <td>229433</td>\n",
              "    </tr>\n",
              "    <tr>\n",
              "      <th>2019-05-31</th>\n",
              "      <td>294566</td>\n",
              "    </tr>\n",
              "    <tr>\n",
              "      <th>2019-06-30</th>\n",
              "      <td>372844</td>\n",
              "    </tr>\n",
              "    <tr>\n",
              "      <th>2019-07-31</th>\n",
              "      <td>378009</td>\n",
              "    </tr>\n",
              "    <tr>\n",
              "      <th>2019-08-31</th>\n",
              "      <td>443865</td>\n",
              "    </tr>\n",
              "    <tr>\n",
              "      <th>2019-09-30</th>\n",
              "      <td>434407</td>\n",
              "    </tr>\n",
              "    <tr>\n",
              "      <th>2019-10-31</th>\n",
              "      <td>295753</td>\n",
              "    </tr>\n",
              "    <tr>\n",
              "      <th>2019-11-30</th>\n",
              "      <td>152492</td>\n",
              "    </tr>\n",
              "    <tr>\n",
              "      <th>2019-12-31</th>\n",
              "      <td>77625</td>\n",
              "    </tr>\n",
              "  </tbody>\n",
              "</table>\n",
              "</div>"
            ],
            "text/plain": [
              "            customer\n",
              "time_start          \n",
              "2019-01-31     40173\n",
              "2019-02-28     46351\n",
              "2019-03-31    106658\n",
              "2019-04-30    229433\n",
              "2019-05-31    294566\n",
              "2019-06-30    372844\n",
              "2019-07-31    378009\n",
              "2019-08-31    443865\n",
              "2019-09-30    434407\n",
              "2019-10-31    295753\n",
              "2019-11-30    152492\n",
              "2019-12-31     77625"
            ]
          },
          "metadata": {
            "tags": []
          },
          "execution_count": 9
        }
      ]
    },
    {
      "cell_type": "markdown",
      "metadata": {
        "id": "gqih5851X0vf"
      },
      "source": [
        "## *Matplotlib Components*\n",
        "\n",
        "Below are basic components of Matplotlib chart:\n",
        "\n",
        "1. Figure & Chart\n",
        "2. Data\n",
        "3. Color\n",
        "4. Major Title & Subtitle\n",
        "5. Axis Label\n",
        "6. Legend\n",
        "7. Ticks & Ticklabels\n",
        "8. Style Sheet"
      ]
    },
    {
      "cell_type": "markdown",
      "metadata": {
        "id": "8Rey_0U6Y6rV"
      },
      "source": [
        "## *1. Figure & Chart*"
      ]
    },
    {
      "cell_type": "code",
      "metadata": {
        "colab": {
          "base_uri": "https://localhost:8080/",
          "height": 269
        },
        "id": "GWD-fRifYbkF",
        "outputId": "daf96602-72c0-4fe6-dd9d-9a8db8f1fa63"
      },
      "source": [
        "'''\n",
        "fig >> variable for 'Figure'\n",
        "ax >> variable for 'Chart'\n",
        "\n",
        "create a chart (ax) on a A4 paper (figure) with plt.subplots()\n",
        "default setting: 1 chart per figure\n",
        "\n",
        "'''\n",
        "\n",
        "# create figure (fig) & chart (ax)\n",
        "fig, ax = plt.subplots()\n",
        "\n",
        "# use .get_height() & get_width() to obatin default height & width of the Figure\n",
        "h = fig.get_figheight()\n",
        "w = fig.get_figwidth()\n",
        "\n",
        "# use .get_xticks() & .get_xticklabels() to obtain default tickmark of the chart\n",
        "xtick = ax.get_xticks()\n",
        "xticklabel = ax.get_xticklabels();"
      ],
      "execution_count": 10,
      "outputs": [
        {
          "output_type": "display_data",
          "data": {
            "image/png": "[encoded data removed]",
            "text/plain": [
              "<Figure size 432x288 with 1 Axes>"
            ]
          },
          "metadata": {
            "tags": [],
            "needs_background": "light"
          }
        }
      ]
    },
    {
      "cell_type": "code",
      "metadata": {
        "colab": {
          "base_uri": "https://localhost:8080/",
          "height": 35
        },
        "id": "Bn6y0JbtT66h",
        "outputId": "963fdda8-58c4-41d4-edd8-01f55e634699"
      },
      "source": [
        "# height & width of Figure\n",
        "\n",
        "f\"Figure height: {h} & width: {w}\""
      ],
      "execution_count": 11,
      "outputs": [
        {
          "output_type": "execute_result",
          "data": {
            "application/vnd.google.colaboratory.intrinsic+json": {
              "type": "string"
            },
            "text/plain": [
              "'Figure height: 4.0 & width: 6.0'"
            ]
          },
          "metadata": {
            "tags": []
          },
          "execution_count": 11
        }
      ]
    },
    {
      "cell_type": "code",
      "metadata": {
        "colab": {
          "base_uri": "https://localhost:8080/"
        },
        "id": "nzaCI6jzT_UZ",
        "outputId": "1d57ecc3-ac2d-4a5d-ed91-e5ce2cedc1a1"
      },
      "source": [
        "# xticks of chart\n",
        "\n",
        "xtick"
      ],
      "execution_count": 12,
      "outputs": [
        {
          "output_type": "execute_result",
          "data": {
            "text/plain": [
              "array([0. , 0.2, 0.4, 0.6, 0.8, 1. ])"
            ]
          },
          "metadata": {
            "tags": []
          },
          "execution_count": 12
        }
      ]
    },
    {
      "cell_type": "code",
      "metadata": {
        "colab": {
          "base_uri": "https://localhost:8080/"
        },
        "id": "7LFLesx0U5_Y",
        "outputId": "8083d81c-3bdb-43d6-9407-b4dc62edf335"
      },
      "source": [
        "# xticklabels of chart\n",
        "\n",
        "[label for label in xticklabel]"
      ],
      "execution_count": 13,
      "outputs": [
        {
          "output_type": "execute_result",
          "data": {
            "text/plain": [
              "[Text(0.0, 0, '0.0'),\n",
              " Text(0.2, 0, '0.2'),\n",
              " Text(0.4, 0, '0.4'),\n",
              " Text(0.6000000000000001, 0, '0.6'),\n",
              " Text(0.8, 0, '0.8'),\n",
              " Text(1.0, 0, '1.0')]"
            ]
          },
          "metadata": {
            "tags": []
          },
          "execution_count": 13
        }
      ]
    },
    {
      "cell_type": "code",
      "metadata": {
        "id": "WsvG4RgGVNaW"
      },
      "source": [
        ""
      ],
      "execution_count": 13,
      "outputs": []
    },
    {
      "cell_type": "code",
      "metadata": {
        "colab": {
          "base_uri": "https://localhost:8080/",
          "height": 269
        },
        "id": "-BtHS8oGZYTR",
        "outputId": "5c0e2e6e-26c1-4de7-d990-b29e76fe6d8c"
      },
      "source": [
        "# create 2 charts in one row & 2 columns\n",
        "\n",
        "fig, ax = plt.subplots(nrows=1, ncols=2)"
      ],
      "execution_count": 14,
      "outputs": [
        {
          "output_type": "display_data",
          "data": {
            "image/png": "[encoded data removed]",
            "text/plain": [
              "<Figure size 432x288 with 2 Axes>"
            ]
          },
          "metadata": {
            "tags": [],
            "needs_background": "light"
          }
        }
      ]
    },
    {
      "cell_type": "code",
      "metadata": {
        "colab": {
          "base_uri": "https://localhost:8080/",
          "height": 378
        },
        "id": "Xik-0kLUZ7TS",
        "outputId": "4942e7da-52a4-4cf7-aeff-3a01a5064e61"
      },
      "source": [
        "'''\n",
        "figsize >> adjust size of figure\n",
        "figsize = (14, 6) >> 14 px for x-axis & 6 px for y-axis\n",
        "\n",
        "imagine we use larger piece of drawing paper to fit 2 charts\n",
        "\n",
        "'''\n",
        "\n",
        "fig, ax = plt.subplots(nrows=1, ncols=2, figsize = (14, 6))"
      ],
      "execution_count": 15,
      "outputs": [
        {
          "output_type": "display_data",
          "data": {
            "image/png": "[encoded data removed]",
            "text/plain": [
              "<Figure size 1008x432 with 2 Axes>"
            ]
          },
          "metadata": {
            "tags": [],
            "needs_background": "light"
          }
        }
      ]
    },
    {
      "cell_type": "code",
      "metadata": {
        "id": "IVQ7YeT2VTX3"
      },
      "source": [
        ""
      ],
      "execution_count": 15,
      "outputs": []
    },
    {
      "cell_type": "code",
      "metadata": {
        "colab": {
          "base_uri": "https://localhost:8080/",
          "height": 378
        },
        "id": "yQfS0l-Yantd",
        "outputId": "885bb58b-9f24-4b39-b625-922863485cbe"
      },
      "source": [
        "'''\n",
        "We only focus on drawing ONE professional chart in this demo\n",
        "Figure & Chart with figsize = (10, 6)\n",
        "\n",
        "'''\n",
        "\n",
        "fig, ax = plt.subplots(figsize = (10, 6))"
      ],
      "execution_count": 16,
      "outputs": [
        {
          "output_type": "display_data",
          "data": {
            "image/png": "[encoded data removed]",
            "text/plain": [
              "<Figure size 720x432 with 1 Axes>"
            ]
          },
          "metadata": {
            "tags": [],
            "needs_background": "light"
          }
        }
      ]
    },
    {
      "cell_type": "markdown",
      "metadata": {
        "id": "izK2eOLebnhz"
      },
      "source": [
        "## *2. Data*\n",
        "\n",
        "We draw the data points on the **Chart**, not **Figure**."
      ]
    },
    {
      "cell_type": "code",
      "metadata": {
        "colab": {
          "base_uri": "https://localhost:8080/"
        },
        "id": "NFYEc0R-5kx4",
        "outputId": "80171322-4a69-4a38-e597-b2aa64f99475"
      },
      "source": [
        "# extract month number\n",
        "# 1 >> January & 12 >> December\n",
        "\n",
        "monthly_subscriber.index.month"
      ],
      "execution_count": 17,
      "outputs": [
        {
          "output_type": "execute_result",
          "data": {
            "text/plain": [
              "Int64Index([1, 2, 3, 4, 5, 6, 7, 8, 9, 10, 11, 12], dtype='int64', name='time_start')"
            ]
          },
          "metadata": {
            "tags": []
          },
          "execution_count": 17
        }
      ]
    },
    {
      "cell_type": "code",
      "metadata": {
        "colab": {
          "base_uri": "https://localhost:8080/",
          "height": 385
        },
        "id": "N_PtTYGKbkz5",
        "outputId": "e76156c5-95d8-4dd1-f1cc-41dcfb9e2afe"
      },
      "source": [
        "# create figure (fig) & a chart (ax)\n",
        "fig, ax = plt.subplots(figsize = (10, 6))\n",
        "\n",
        "'''\n",
        "put data on chart\n",
        "\n",
        ".fill_between() >> draw AREA chart\n",
        "x-axis >> monthly_subscriber.index.month will produce array range from 1 (January) - 12 (December)\n",
        "alpha >> set transparency level of the area chart; 0: 100% transparent, 1: NOT tranparent at all\n",
        "\n",
        "'''\n",
        "\n",
        "ax.fill_between(monthly_subscriber.index.month, monthly_subscriber.subscriber, alpha=0.4)\n",
        "ax.fill_between(monthly_customer.index.month, monthly_customer.customer, alpha=0.4);"
      ],
      "execution_count": 18,
      "outputs": [
        {
          "output_type": "display_data",
          "data": {
            "image/png": "[encoded data removed]",
            "text/plain": [
              "<Figure size 720x432 with 1 Axes>"
            ]
          },
          "metadata": {
            "tags": [],
            "needs_background": "light"
          }
        }
      ]
    },
    {
      "cell_type": "code",
      "metadata": {
        "id": "3mxEyP7LcWnR"
      },
      "source": [
        ""
      ],
      "execution_count": 18,
      "outputs": []
    },
    {
      "cell_type": "markdown",
      "metadata": {
        "id": "uywxj-mp38l9"
      },
      "source": [
        "## *3. Color*\n",
        "\n",
        "We can use Colormap build into Matplotlib.   \n",
        "Ref: https://matplotlib.org/stable/gallery/color/colormap_reference.html\n",
        "\n",
        "At the very beginning of the tutorial, we import Color Manager (cm)\n",
        "`from matplotlib import cm`. We can call `cm.<colormapname>` to select individual color from the colormap.\n",
        "\n",
        "Example:  \n",
        "`cm.tab20()` consists of 20 colors provided by Tableau. By calling `cm.tab20(0)`, we get color at index 0 of `tab20` colormap which is `darkblue`."
      ]
    },
    {
      "cell_type": "code",
      "metadata": {
        "colab": {
          "base_uri": "https://localhost:8080/",
          "height": 385
        },
        "id": "A5mPrHb538IN",
        "outputId": "8b3714b1-5750-4359-a574-7385de4f5807"
      },
      "source": [
        "# create figure (fig) & a chart (ax)\n",
        "fig, ax = plt.subplots(figsize = (10, 6))\n",
        "\n",
        "'''\n",
        "paramater 'color' within fill_between, with cm.tab20()\n",
        "'''\n",
        "ax.fill_between(monthly_subscriber.index.month, monthly_subscriber.subscriber, \n",
        "                alpha=0.4, color=cm.tab20(7))\n",
        "ax.fill_between(monthly_customer.index.month, monthly_customer.customer, \n",
        "                alpha=0.4, color=cm.tab20(4));"
      ],
      "execution_count": 19,
      "outputs": [
        {
          "output_type": "display_data",
          "data": {
            "image/png": "[encoded data removed]",
            "text/plain": [
              "<Figure size 720x432 with 1 Axes>"
            ]
          },
          "metadata": {
            "tags": [],
            "needs_background": "light"
          }
        }
      ]
    },
    {
      "cell_type": "markdown",
      "metadata": {
        "id": "2_fygbQ0c3Kx"
      },
      "source": [
        "## *4. Major Title + Subtitle*\n",
        "\n",
        "Please note that, **Major Title** is set on **Figure** while **Subtitle** is set on **Chart**.   \n",
        "\n",
        "`fig.suptitle()` create Major Title;   \n",
        "`ax.set_title()` create Subtitle.\n",
        "\n",
        "We can draw multiple charts on a figure, therefore, we can create subtitle for each chart and set a major title for the figure."
      ]
    },
    {
      "cell_type": "code",
      "metadata": {
        "colab": {
          "base_uri": "https://localhost:8080/",
          "height": 417
        },
        "id": "VBCHhhc6c92O",
        "outputId": "df6ae127-38b4-4978-b59d-c9f98e8c5dac"
      },
      "source": [
        "# create figure (fig) & a chart (ax)\n",
        "fig, ax = plt.subplots(figsize = (10, 6))\n",
        "\n",
        "ax.fill_between(monthly_subscriber.index.month, monthly_subscriber.subscriber, \n",
        "                alpha=0.4, color=cm.tab20(7))\n",
        "ax.fill_between(monthly_customer.index.month, monthly_customer.customer, \n",
        "                alpha=0.4, color=cm.tab20(4))\n",
        "\n",
        "# create Major Title\n",
        "fig.suptitle('New York Bike Share 2019')\n",
        "\n",
        "# create a Subtitle\n",
        "ax.set_title('Monthly Trend by Customer Type');"
      ],
      "execution_count": 20,
      "outputs": [
        {
          "output_type": "display_data",
          "data": {
            "image/png": "[encoded data removed]",
            "text/plain": [
              "<Figure size 720x432 with 1 Axes>"
            ]
          },
          "metadata": {
            "tags": [],
            "needs_background": "light"
          }
        }
      ]
    },
    {
      "cell_type": "markdown",
      "metadata": {
        "id": "fl7IFLsFq58k"
      },
      "source": [
        "## *5. Axis Label*\n",
        "\n",
        "For x-axis, 'Month' is presented. 1 represents *January* & 12 represents *December*. So, label is not required.\n",
        "\n",
        "We will put label for y-axis to let users know it is **number of user**."
      ]
    },
    {
      "cell_type": "code",
      "metadata": {
        "colab": {
          "base_uri": "https://localhost:8080/",
          "height": 417
        },
        "id": "T-RLMYlSq8mB",
        "outputId": "7afcdd84-b2ea-4db1-ea1f-6d6027d00917"
      },
      "source": [
        "# create figure (fig) & a chart (ax)\n",
        "fig, ax = plt.subplots(figsize = (10, 6))\n",
        "\n",
        "ax.fill_between(monthly_subscriber.index.month, monthly_subscriber.subscriber, \n",
        "                alpha=0.4, color=cm.tab20(7))\n",
        "ax.fill_between(monthly_customer.index.month, monthly_customer.customer, \n",
        "                alpha=0.4, color=cm.tab20(4))\n",
        "\n",
        "# create Major Title\n",
        "fig.suptitle('New York Bike Share 2019')\n",
        "\n",
        "# create a Subtitle\n",
        "ax.set_title('Monthly Trend by Customer Type')\n",
        "\n",
        "# set y-axis label\n",
        "ax.set_ylabel(\"# of User ('000)\");"
      ],
      "execution_count": 31,
      "outputs": [
        {
          "output_type": "display_data",
          "data": {
            "image/png": "[encoded data removed]",
            "text/plain": [
              "<Figure size 720x432 with 1 Axes>"
            ]
          },
          "metadata": {
            "tags": [],
            "needs_background": "light"
          }
        }
      ]
    },
    {
      "cell_type": "markdown",
      "metadata": {
        "id": "FAIycvcIa18A"
      },
      "source": [
        "## *6. Legend*\n",
        "\n",
        "At the moment, we see 2 colors on the chart but users might not know which color belong to *Subscriber* & *Customer*."
      ]
    },
    {
      "cell_type": "code",
      "metadata": {
        "colab": {
          "base_uri": "https://localhost:8080/",
          "height": 417
        },
        "id": "3uHHI_xfbHxQ",
        "outputId": "a07937ac-fa28-49c5-832f-6e314fe7e16c"
      },
      "source": [
        "# create figure (fig) & a chart (ax)\n",
        "fig, ax = plt.subplots(figsize = (10, 6))\n",
        "\n",
        "ax.fill_between(monthly_subscriber.index.month, monthly_subscriber.subscriber, \n",
        "                alpha=0.4, color=cm.tab20(7))\n",
        "ax.fill_between(monthly_customer.index.month, monthly_customer.customer, \n",
        "                alpha=0.4, color=cm.tab20(4))\n",
        "\n",
        "# create Major Title\n",
        "fig.suptitle('New York Bike Share 2019')\n",
        "\n",
        "# create a Subtitle\n",
        "ax.set_title('Monthly Trend by Customer Type')\n",
        "\n",
        "# set y-axis label\n",
        "ax.set_ylabel(\"# of User ('000)\")\n",
        "\n",
        "# set legend; title & labels\n",
        "ax.legend(title = 'Customer Type', labels = ['Subscriber', 'Customer']);"
      ],
      "execution_count": 22,
      "outputs": [
        {
          "output_type": "display_data",
          "data": {
            "image/png": "[encoded data removed]",
            "text/plain": [
              "<Figure size 720x432 with 1 Axes>"
            ]
          },
          "metadata": {
            "tags": [],
            "needs_background": "light"
          }
        }
      ]
    },
    {
      "cell_type": "markdown",
      "metadata": {
        "id": "REDtaLbUeOnR"
      },
      "source": [
        "## *7. Ticks & Ticklabels*\n",
        "\n",
        "We have ticks & ticklabels for x & y axis. \n",
        "\n",
        "For example: \n",
        "\n",
        "x-ticks & x-ticklabels >> year & month from 2019-02 to 2020-02 <br>\n",
        "y-ticks & y-ticklabels >> -25k to 2.0 million (notice the 1e6)\n",
        "\n",
        "We can obtain ticks & ticklabels on a chart with: <br>\n",
        "`.get_xticks()` & `get_xticklabels()` for x-axis <br>\n",
        "`.get_yticks()` & `get_yticklabels()` for y-axis\n"
      ]
    },
    {
      "cell_type": "code",
      "metadata": {
        "colab": {
          "base_uri": "https://localhost:8080/"
        },
        "id": "8GJcKQ7ebqrU",
        "outputId": "b839e7f0-25cc-404d-8d2c-6718eccbc5e5"
      },
      "source": [
        "'''\n",
        "ticks for x-axis\n",
        "\n",
        "NOTE: \n",
        "1. These numbers in 'float' format\n",
        "2. These numbers form the backend of chart; they are NOT presented on the chart.\n",
        "\n",
        "0 >> origin of the chart\n",
        "1, 2, 3, .... 14 >> represent month number. 2 >> February, 12 >> December & 14 >> February of 2020\n",
        "\n",
        "'''\n",
        "\n",
        "ax.get_xticks()"
      ],
      "execution_count": 23,
      "outputs": [
        {
          "output_type": "execute_result",
          "data": {
            "text/plain": [
              "array([ 0.,  2.,  4.,  6.,  8., 10., 12., 14.])"
            ]
          },
          "metadata": {
            "tags": []
          },
          "execution_count": 23
        }
      ]
    },
    {
      "cell_type": "code",
      "metadata": {
        "colab": {
          "base_uri": "https://localhost:8080/"
        },
        "id": "txveW6UscFGU",
        "outputId": "dcb515df-be79-4903-88f9-3d5b32fe8848"
      },
      "source": [
        "'''\n",
        "ticklabels for x-axis\n",
        "\n",
        "NOTE: \n",
        "1. These numbers in 'string' format\n",
        "2. These numbers form the front end of chart; they are presented on the chart & we can FORMAT the presentation.\n",
        "\n",
        "'''\n",
        "\n",
        "[label for label in ax.get_xticklabels()]"
      ],
      "execution_count": 24,
      "outputs": [
        {
          "output_type": "execute_result",
          "data": {
            "text/plain": [
              "[Text(0.0, 0, '0'),\n",
              " Text(2.0, 0, '2'),\n",
              " Text(4.0, 0, '4'),\n",
              " Text(6.0, 0, '6'),\n",
              " Text(8.0, 0, '8'),\n",
              " Text(10.0, 0, '10'),\n",
              " Text(12.0, 0, '12'),\n",
              " Text(14.0, 0, '14')]"
            ]
          },
          "metadata": {
            "tags": []
          },
          "execution_count": 24
        }
      ]
    },
    {
      "cell_type": "code",
      "metadata": {
        "colab": {
          "base_uri": "https://localhost:8080/"
        },
        "id": "CFhQcaU-c9Mm",
        "outputId": "a24c7ea2-8d72-4691-85ca-91de6a54d46b"
      },
      "source": [
        "'''\n",
        "ticks for y-axis\n",
        "\n",
        "NOTE: \n",
        "1. These numbers in 'float' format\n",
        "2. These numbers form the backend of chart; they are NOT presented on the chart.\n",
        "\n",
        "y-axis start from -25k up to 2 millions\n",
        "\n",
        "'''\n",
        "\n",
        "ax.get_yticks()"
      ],
      "execution_count": 25,
      "outputs": [
        {
          "output_type": "execute_result",
          "data": {
            "text/plain": [
              "array([-250000.,       0.,  250000.,  500000.,  750000., 1000000.,\n",
              "       1250000., 1500000., 1750000., 2000000., 2250000.])"
            ]
          },
          "metadata": {
            "tags": []
          },
          "execution_count": 25
        }
      ]
    },
    {
      "cell_type": "code",
      "metadata": {
        "colab": {
          "base_uri": "https://localhost:8080/"
        },
        "id": "AFXp256BdShC",
        "outputId": "62ef37a2-4775-47e4-e759-a5965a16a861"
      },
      "source": [
        "'''\n",
        "ticklabels for y-axis\n",
        "\n",
        "NOTE: \n",
        "1. These numbers in 'string' format\n",
        "2. These numbers form the front end of chart; they are presented on the chart & we can FORMAT the presentation.\n",
        "\n",
        "Matplotlib present the ticklabels as <string> * 1e6.\n",
        "Example: '1.75' * 1e6 is presented on the chart, which represent 175,000 tick\n",
        "\n",
        "'''\n",
        "\n",
        "[label for label in ax.get_yticklabels()]"
      ],
      "execution_count": 26,
      "outputs": [
        {
          "output_type": "execute_result",
          "data": {
            "text/plain": [
              "[Text(0, -250000.0, '−0.25'),\n",
              " Text(0, 0.0, '0.00'),\n",
              " Text(0, 250000.0, '0.25'),\n",
              " Text(0, 500000.0, '0.50'),\n",
              " Text(0, 750000.0, '0.75'),\n",
              " Text(0, 1000000.0, '1.00'),\n",
              " Text(0, 1250000.0, '1.25'),\n",
              " Text(0, 1500000.0, '1.50'),\n",
              " Text(0, 1750000.0, '1.75'),\n",
              " Text(0, 2000000.0, '2.00'),\n",
              " Text(0, 2250000.0, '2.25')]"
            ]
          },
          "metadata": {
            "tags": []
          },
          "execution_count": 26
        }
      ]
    },
    {
      "cell_type": "code",
      "metadata": {
        "colab": {
          "base_uri": "https://localhost:8080/",
          "height": 417
        },
        "id": "4RmaKpTJeRfL",
        "outputId": "362e278b-733e-4849-a45a-4e1bbbfbe98d"
      },
      "source": [
        "# create figure (fig) & a chart (ax)\n",
        "fig, ax = plt.subplots(figsize = (10, 6))\n",
        "\n",
        "ax.fill_between(monthly_subscriber.index.month, monthly_subscriber.subscriber, \n",
        "                alpha=0.4, color=cm.tab20(7))\n",
        "ax.fill_between(monthly_customer.index.month, monthly_customer.customer, \n",
        "                alpha=0.4, color=cm.tab20(4))\n",
        "\n",
        "# create Major Title\n",
        "fig.suptitle('New York Bike Share 2019')\n",
        "\n",
        "# create a Subtitle\n",
        "ax.set_title('Monthly Trend by Customer Type')\n",
        "\n",
        "# set y-axis label\n",
        "ax.set_ylabel(\"# of User ('000)\")\n",
        "\n",
        "# set legend; title & labels\n",
        "ax.legend(title = 'Customer Type', labels = ['Subscriber', 'Customer'])\n",
        "\n",
        "'''\n",
        "set ticks & ticklabels for x-axis\n",
        "\n",
        "NOTE: must set xticks first then set xticklabels\n",
        "\n",
        "Only want to display February (ie 2) up to December 2019 (ie 12)\n",
        "'''\n",
        "ax.set_xticks([2, 4, 6, 8, 10, 12])\n",
        "ax.set_xticklabels(['Feb', 'Apr', 'Jun', 'Aug', 'Oct', 'Dec'])\n",
        "\n",
        "'''\n",
        "set ticks & ticklabels for y-axis\n",
        "\n",
        "NOTE: must set yticks first then set yticklabels\n",
        "yticks are [0, 500,000, 1,000,000, 1,500,000, 2,000,000], in 'integer' format\n",
        "yticklabels are formatted as 'string' >> [0, 500, 1,000, 1,500, 2,000]\n",
        "\n",
        "REMEMBER!! ticks are actual number & ticklabels are number formatted for presentation.\n",
        "\n",
        "'''\n",
        "\n",
        "ax.set_yticks([0, 0.5e6, 1e6, 1.5e6, 2e6])\n",
        "ax.set_yticklabels([f\"{int(num):,}\" for num in np.array([0, 0.5e6, 1e6, 1.5e6, 2e6])/1000]);"
      ],
      "execution_count": 27,
      "outputs": [
        {
          "output_type": "display_data",
          "data": {
            "image/png": "[encoded data removed]",
            "text/plain": [
              "<Figure size 720x432 with 1 Axes>"
            ]
          },
          "metadata": {
            "tags": [],
            "needs_background": "light"
          }
        }
      ]
    },
    {
      "cell_type": "markdown",
      "metadata": {
        "id": "u5lEnG7y3xFq"
      },
      "source": [
        "## *8. Style Sheet*\n",
        "\n",
        "Style sheets are essentially a *theme* for chart. It improves aesthetic of the chart by applying customized style.   \n",
        "\n",
        "Add `with plt.style.context(<style sheet name>):` at the beginning of the figure to apply temporary theme for specific figure."
      ]
    },
    {
      "cell_type": "code",
      "metadata": {
        "colab": {
          "base_uri": "https://localhost:8080/"
        },
        "id": "PDdL0SSwjTGZ",
        "outputId": "08e4108f-4bed-42ab-ff17-9d9158f6f35a"
      },
      "source": [
        "# all style sheets avaialble in Matplotlib\n",
        "\n",
        "plt.style.available"
      ],
      "execution_count": 28,
      "outputs": [
        {
          "output_type": "execute_result",
          "data": {
            "text/plain": [
              "['Solarize_Light2',\n",
              " '_classic_test_patch',\n",
              " 'bmh',\n",
              " 'classic',\n",
              " 'dark_background',\n",
              " 'fast',\n",
              " 'fivethirtyeight',\n",
              " 'ggplot',\n",
              " 'grayscale',\n",
              " 'seaborn',\n",
              " 'seaborn-bright',\n",
              " 'seaborn-colorblind',\n",
              " 'seaborn-dark',\n",
              " 'seaborn-dark-palette',\n",
              " 'seaborn-darkgrid',\n",
              " 'seaborn-deep',\n",
              " 'seaborn-muted',\n",
              " 'seaborn-notebook',\n",
              " 'seaborn-paper',\n",
              " 'seaborn-pastel',\n",
              " 'seaborn-poster',\n",
              " 'seaborn-talk',\n",
              " 'seaborn-ticks',\n",
              " 'seaborn-white',\n",
              " 'seaborn-whitegrid',\n",
              " 'tableau-colorblind10']"
            ]
          },
          "metadata": {
            "tags": []
          },
          "execution_count": 28
        }
      ]
    },
    {
      "cell_type": "code",
      "metadata": {
        "colab": {
          "base_uri": "https://localhost:8080/",
          "height": 442
        },
        "id": "_LHuESex3qpv",
        "outputId": "4688662f-6ece-4e3a-e293-f083b05ad87a"
      },
      "source": [
        "with plt.style.context('fivethirtyeight'):\n",
        "\n",
        "    # create figure (fig) & a chart (ax)\n",
        "    fig, ax = plt.subplots(figsize = (10, 6))\n",
        "\n",
        "    ax.fill_between(monthly_subscriber.index.month, monthly_subscriber.subscriber, \n",
        "                    alpha=0.4, color=cm.tab20(7))\n",
        "    ax.fill_between(monthly_customer.index.month, monthly_customer.customer, \n",
        "                    alpha=0.4, color=cm.tab20(4))\n",
        "\n",
        "    # create Major Title\n",
        "    fig.suptitle('New York Bike Share 2019')\n",
        "\n",
        "    # create a Subtitle\n",
        "    ax.set_title('Monthly Trend by Customer Type')\n",
        "\n",
        "    # set y-axis label\n",
        "    ax.set_ylabel(\"# of User ('000)\")\n",
        "\n",
        "    # set legend; title & labels\n",
        "    ax.legend(title = 'Customer Type', labels = ['Subscriber', 'Customer'])\n",
        "\n",
        "    '''\n",
        "    set ticks & ticklabels for x-axis\n",
        "\n",
        "    NOTE: must set xticks first then set xticklabels\n",
        "\n",
        "    Only want to display February (ie 2) up to December 2019 (ie 12)\n",
        "    '''\n",
        "    ax.set_xticks([2, 4, 6, 8, 10, 12])\n",
        "    ax.set_xticklabels(['Feb', 'Apr', 'Jun', 'Aug', 'Oct', 'Dec'])\n",
        "\n",
        "    '''\n",
        "    set ticks & ticklabels for y-axis\n",
        "\n",
        "    NOTE: must set yticks first then set yticklabels\n",
        "    yticks are [0, 500,000, 1,000,000, 1,500,000, 2,000,000], in 'integer' format\n",
        "    yticklabels are formatted as 'string' >> [0, 500, 1,000, 1,500, 2,000]\n",
        "\n",
        "    REMEMBER!! ticks are actual number & ticklabels are number formatted for presentation.\n",
        "\n",
        "    '''\n",
        "\n",
        "    ax.set_yticks([0, 0.5e6, 1e6, 1.5e6, 2e6])\n",
        "    ax.set_yticklabels([f\"{int(num):,}\" for num in np.array([0, 0.5e6, 1e6, 1.5e6, 2e6])/1000]);"
      ],
      "execution_count": 29,
      "outputs": [
        {
          "output_type": "display_data",
          "data": {
            "image/png": "[encoded data removed]",
            "text/plain": [
              "<Figure size 720x432 with 1 Axes>"
            ]
          },
          "metadata": {
            "tags": []
          }
        }
      ]
    },
    {
      "cell_type": "markdown",
      "metadata": {
        "id": "36CgsleI4_un"
      },
      "source": [
        "## *Go Extra Miles*\n",
        "\n",
        "Let's improve the following: *Major Title* & *Subtitle*, *Font*,*Legend* & *axis label*.\n",
        "\n",
        "We can adjust font size, position, and style of these components."
      ]
    },
    {
      "cell_type": "code",
      "metadata": {
        "id": "c-CCkpKz5rSt",
        "colab": {
          "base_uri": "https://localhost:8080/",
          "height": 463
        },
        "outputId": "4944c76e-9092-44a5-b723-93018094cb3e"
      },
      "source": [
        "with plt.style.context('fivethirtyeight'):\n",
        "\n",
        "    # create figure (fig) & a chart (ax)\n",
        "    fig, ax = plt.subplots(figsize = (10, 6))\n",
        "\n",
        "    ax.fill_between(monthly_subscriber.index.month, monthly_subscriber.subscriber, \n",
        "                    alpha=0.4, color=cm.tab20(7))\n",
        "    ax.fill_between(monthly_customer.index.month, monthly_customer.customer, \n",
        "                    alpha=0.4, color=cm.tab20(4))\n",
        "\n",
        "    # create Major Title\n",
        "    fig.suptitle('New York Bike Share 2019', x=0.25, y=1.03, fontsize=22, fontweight='bold')\n",
        "\n",
        "    # create a Subtitle\n",
        "    ax.set_title('Monthly Trend by Customer Type', fontdict={'fontsize': 16, 'style': 'italic'}, position = [0.15, 1.06])\n",
        "\n",
        "    # set y-axis label\n",
        "    ax.set_ylabel(\"# of User ('000)\", fontdict={'fontsize': 16, 'fontweight': 'bold'})\n",
        "\n",
        "    '''\n",
        "    set legend; title & labels\n",
        "    frameon = False >> remove the frame of legend\n",
        "    bbox_to_anchor >> moves legend out of the chart window\n",
        "    \n",
        "    '''\n",
        "    ax.legend(title = 'Customer Type', labels = ['Subscriber', 'Customer'], frameon = False, bbox_to_anchor=(1.25, 0.6))\n",
        "\n",
        "    # set axes ticks & ticklabels\n",
        "    ax.set_xticks([2, 4, 6, 8, 10, 12])\n",
        "    ax.set_xticklabels(['Feb', 'Apr', 'Jun', 'Aug', 'Oct', 'Dec'])\n",
        "\n",
        "    ax.set_yticks([0, 0.5e6, 1e6, 1.5e6, 2e6])\n",
        "    ax.set_yticklabels([f\"{int(num):,}\" for num in np.array([0, 0.5e6, 1e6, 1.5e6, 2e6])/1000]);"
      ],
      "execution_count": 30,
      "outputs": [
        {
          "output_type": "display_data",
          "data": {
            "image/png": "[encoded data removed]",
            "text/plain": [
              "<Figure size 720x432 with 1 Axes>"
            ]
          },
          "metadata": {
            "tags": []
          }
        }
      ]
    },
    {
      "cell_type": "code",
      "metadata": {
        "id": "hFMTcIhOlYbG"
      },
      "source": [
        ""
      ],
      "execution_count": 30,
      "outputs": []
    }
  ]
}