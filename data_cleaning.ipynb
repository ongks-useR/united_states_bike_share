{
  "nbformat": 4,
  "nbformat_minor": 0,
  "metadata": {
    "colab": {
      "name": "data_cleaning.ipynb",
      "provenance": [],
      "toc_visible": true,
      "mount_file_id": "1v2xOtI6QUgWYc1QxBFFiiGStjgJLzKuv",
      "authorship_tag": "ABX9TyN71EhTLEz+nJlNnpKsafuk",
      "include_colab_link": true
    },
    "kernelspec": {
      "name": "python3",
      "display_name": "Python 3"
    }
  },
  "cells": [
    {
      "cell_type": "markdown",
      "metadata": {
        "id": "view-in-github",
        "colab_type": "text"
      },
      "source": [
        "<a href=\"https://colab.research.google.com/github/ongks-useR/united_states_bike_share/blob/main/data_cleaning.ipynb\" target=\"_parent\"><img src=\"https://colab.research.google.com/assets/colab-badge.svg\" alt=\"Open In Colab\"/></a>"
      ]
    },
    {
      "cell_type": "markdown",
      "metadata": {
        "id": "Ix5AJrRDbTEg"
      },
      "source": [
        "# ***Bike Sharing in New York, U.S 2019***\n",
        "\n",
        "This is part of my journey towards mastering Python for Data Science.\n",
        "\n",
        "I use United States bike sharing data (particularly New York City) for data cleaning; please visit [bikeshare.com](https://www.citibikenyc.com/system-data) for data."
      ]
    },
    {
      "cell_type": "markdown",
      "metadata": {
        "id": "ZxWaDwZ_dftE"
      },
      "source": [
        "## Python Library"
      ]
    },
    {
      "cell_type": "code",
      "metadata": {
        "id": "MOmJOktQeYKB",
        "colab": {
          "base_uri": "https://localhost:8080/",
          "height": 0
        },
        "outputId": "c134307c-13b5-452b-8b06-dd5edb7c19b2"
      },
      "source": [
        "pip install haversine"
      ],
      "execution_count": 1,
      "outputs": [
        {
          "output_type": "stream",
          "text": [
            "Collecting haversine\n",
            "  Downloading https://files.pythonhosted.org/packages/f4/52/a13286844780c7b1740edbbee8a8f0524e2a6d51c068b59dda39a6a119f5/haversine-2.3.0-py2.py3-none-any.whl\n",
            "Installing collected packages: haversine\n",
            "Successfully installed haversine-2.3.0\n"
          ],
          "name": "stdout"
        }
      ]
    },
    {
      "cell_type": "code",
      "metadata": {
        "id": "sXTSfOOEdAsn"
      },
      "source": [
        "# data analysis\n",
        "import numpy as np\n",
        "import pandas as pd\n",
        "\n",
        "# visualization\n",
        "import matplotlib.pyplot as plt\n",
        "import seaborn as sns\n",
        "\n",
        "# functional loop\n",
        "from functools import reduce\n",
        "\n",
        "# Operating System\n",
        "from glob import glob\n",
        "from os import path\n",
        "from pathlib import Path\n",
        "\n",
        "# calculate distance between geo coordinates\n",
        "from haversine import haversine_vector, Unit"
      ],
      "execution_count": 2,
      "outputs": []
    },
    {
      "cell_type": "markdown",
      "metadata": {
        "id": "EzV01uqjm43z"
      },
      "source": [
        "## ***Lesson 01: Import CSV, efficiently***\n",
        "\n",
        "After trial & error, I find out various ways of import CSV, specifically multiple CSV files. Most courses teach ***Pandas read_csv()*** method for single file, and usually the file size is small for education purpose..\n",
        "\n",
        "However, in reality, an analyst might has to gather multipe CSV files which each file could be huge in size. In this case, bike sharing monthly file is 100 MB+. We will need to analyze 12-month worth of data.\n",
        "\n",
        "\n",
        "Here I demonstrate how the concept of _**Don't Repeat Yourself (DRY)**_ - avoid long & repetitive codes for similar task, is applicable in practical context."
      ]
    },
    {
      "cell_type": "code",
      "metadata": {
        "colab": {
          "base_uri": "https://localhost:8080/"
        },
        "id": "DacR_O_brDCF",
        "outputId": "01f7ebdb-2af1-47da-b93a-7ccaf2fdc579"
      },
      "source": [
        "# list files available in the 'New York Bike Share' directory\n",
        "# 13 files in the directory which we only need file in format \"*-citibike-tripdata.csv\" (i.e. 201901-citibike-tripdata.csv etc)\n",
        "# each file is 100 MB+\n",
        "\n",
        "!ls -lh /content/drive/MyDrive/'New York Bike Share'"
      ],
      "execution_count": null,
      "outputs": [
        {
          "output_type": "stream",
          "text": [
            "total 5.4G\n",
            "-rw------- 1 root root 176M Feb 11  2019 201901-citibike-tripdata.csv\n",
            "-rw------- 1 root root 172M Mar  4  2019 201902-citibike-tripdata.csv\n",
            "-rw------- 1 root root 242M Apr 15  2019 201903-citibike-tripdata.csv\n",
            "-rw------- 1 root root 322M May  6  2019 201904-citibike-tripdata.csv\n",
            "-rw------- 1 root root 351M Jun 11  2019 201905-citibike-tripdata.csv\n",
            "-rw------- 1 root root 387M Jul 15  2019 201906-citibike-tripdata.csv\n",
            "-rw------- 1 root root 397M Aug  5  2019 201907-citibike-tripdata.csv\n",
            "-rw------- 1 root root 426M Sep 16  2019 201908-citibike-tripdata.csv\n",
            "-rw------- 1 root root 443M Oct 11  2019 201909-citibike-tripdata.csv\n",
            "-rw------- 1 root root 379M Nov  5  2019 201910-citibike-tripdata.csv\n",
            "-rw------- 1 root root 268M Dec 20  2019 201911-citibike-tripdata.csv\n",
            "-rw------- 1 root root 173M Jan 21  2020 201912-citibike-tripdata.csv\n",
            "-rw------- 1 root root 1.7G Feb 19 02:04 new_york_bikeshare_2019.csv\n"
          ],
          "name": "stdout"
        }
      ]
    },
    {
      "cell_type": "code",
      "metadata": {
        "id": "Km-Zbfyehb7j",
        "colab": {
          "base_uri": "https://localhost:8080/"
        },
        "outputId": "9c80e1f8-113a-4f09-e581-1e98ba4515f2"
      },
      "source": [
        "'''\n",
        "DON'T RUN... For demo only...\n",
        "\n",
        "Method 1: Inefficient way ~ ~\n",
        "\n",
        "Result: repetitive codes that are error prone.\n",
        "Note: Imagine we have files for 5 years (60 months) within the same directory ??\n",
        "\n",
        "file_01 = pd.read_csv('/content/drive/MyDrive/New York Bike Share/201901-citibike-tripdata.csv')\n",
        "file_02 = pd.read_csv('/content/drive/MyDrive/New York Bike Share/201902-citibike-tripdata.csv')\n",
        "file_03 = pd.read_csv('/content/drive/MyDrive/New York Bike Share/201903-citibike-tripdata.csv')\n",
        "file_04 = pd.read_csv('/content/drive/MyDrive/New York Bike Share/201904-citibike-tripdata.csv')\n",
        "file_05 = pd.read_csv('/content/drive/MyDrive/New York Bike Share/201905-citibike-tripdata.csv')\n",
        "file_06 = pd.read_csv('/content/drive/MyDrive/New York Bike Share/201906-citibike-tripdata.csv')\n",
        "file_07 = pd.read_csv('/content/drive/MyDrive/New York Bike Share/201907-citibike-tripdata.csv')\n",
        "file_08 = pd.read_csv('/content/drive/MyDrive/New York Bike Share/201908-citibike-tripdata.csv')\n",
        "file_09 = pd.read_csv('/content/drive/MyDrive/New York Bike Share/201909-citibike-tripdata.csv')\n",
        "file_10 = pd.read_csv('/content/drive/MyDrive/New York Bike Share/201910-citibike-tripdata.csv')\n",
        "file_11 = pd.read_csv('/content/drive/MyDrive/New York Bike Share/201911-citibike-tripdata.csv')\n",
        "file_12 = pd.read_csv('/content/drive/MyDrive/New York Bike Share/201912-citibike-tripdata.csv')\n",
        "\n",
        "df = pd.concat([file_01, file_02, file_03], ignore_index=True)\n",
        "\n",
        "'''"
      ],
      "execution_count": null,
      "outputs": [
        {
          "output_type": "execute_result",
          "data": {
            "application/vnd.google.colaboratory.intrinsic+json": {
              "type": "string"
            },
            "text/plain": [
              "\"\\nDON'T RUN... For demo only...\\n\\nMethod 1: Inefficient way ~ ~\\n\\nResult: repetitive codes that are error prone.\\nNote: Imagine we have files for 5 years (60 months) within the same directory ??\\n\\nfile_01 = pd.read_csv('/content/drive/MyDrive/New York Bike Share/201901-citibike-tripdata.csv')\\nfile_02 = pd.read_csv('/content/drive/MyDrive/New York Bike Share/201902-citibike-tripdata.csv')\\nfile_03 = pd.read_csv('/content/drive/MyDrive/New York Bike Share/201903-citibike-tripdata.csv')\\nfile_04 = pd.read_csv('/content/drive/MyDrive/New York Bike Share/201904-citibike-tripdata.csv')\\nfile_05 = pd.read_csv('/content/drive/MyDrive/New York Bike Share/201905-citibike-tripdata.csv')\\nfile_06 = pd.read_csv('/content/drive/MyDrive/New York Bike Share/201906-citibike-tripdata.csv')\\nfile_07 = pd.read_csv('/content/drive/MyDrive/New York Bike Share/201907-citibike-tripdata.csv')\\nfile_08 = pd.read_csv('/content/drive/MyDrive/New York Bike Share/201908-citibike-tripdata.csv')\\nfile_09 = pd.read_csv('/content/drive/MyDrive/New York Bike Share/201909-citibike-tripdata.csv')\\nfile_10 = pd.read_csv('/content/drive/MyDrive/New York Bike Share/201910-citibike-tripdata.csv')\\nfile_11 = pd.read_csv('/content/drive/MyDrive/New York Bike Share/201911-citibike-tripdata.csv')\\nfile_12 = pd.read_csv('/content/drive/MyDrive/New York Bike Share/201912-citibike-tripdata.csv')\\n\\ndf = pd.concat([file_01, file_02, file_03], ignore_index=True)\\n\\n\""
            ]
          },
          "metadata": {
            "tags": []
          },
          "execution_count": 5
        }
      ]
    },
    {
      "cell_type": "code",
      "metadata": {
        "colab": {
          "base_uri": "https://localhost:8080/",
          "height": 0
        },
        "id": "UmP6Fod_i-Zb",
        "outputId": "8dbc1572-e301-4a06-f238-c8bca31cbe60"
      },
      "source": [
        "'''\n",
        "Method 2: Efficient way ~ ~\n",
        "\n",
        "Step 1: Getting file names within directory that are required for analysis\n",
        "\n",
        "'''\n",
        "\n",
        "# current path of working directory for jupyter notebook and CSV files in Google Colab\n",
        "file_dir = '/content/drive/MyDrive/New York Bike Share'\n",
        "\n",
        "# getting file names within the directory\n",
        "file_names = glob(path.join(file_dir, '*-citibike-tripdata.csv'))\n",
        "file_names"
      ],
      "execution_count": 3,
      "outputs": [
        {
          "output_type": "execute_result",
          "data": {
            "text/plain": [
              "['/content/drive/MyDrive/New York Bike Share/201901-citibike-tripdata.csv',\n",
              " '/content/drive/MyDrive/New York Bike Share/201902-citibike-tripdata.csv',\n",
              " '/content/drive/MyDrive/New York Bike Share/201903-citibike-tripdata.csv',\n",
              " '/content/drive/MyDrive/New York Bike Share/201904-citibike-tripdata.csv',\n",
              " '/content/drive/MyDrive/New York Bike Share/201905-citibike-tripdata.csv',\n",
              " '/content/drive/MyDrive/New York Bike Share/201906-citibike-tripdata.csv',\n",
              " '/content/drive/MyDrive/New York Bike Share/201907-citibike-tripdata.csv',\n",
              " '/content/drive/MyDrive/New York Bike Share/201908-citibike-tripdata.csv',\n",
              " '/content/drive/MyDrive/New York Bike Share/201909-citibike-tripdata.csv',\n",
              " '/content/drive/MyDrive/New York Bike Share/201910-citibike-tripdata.csv',\n",
              " '/content/drive/MyDrive/New York Bike Share/201911-citibike-tripdata.csv',\n",
              " '/content/drive/MyDrive/New York Bike Share/201912-citibike-tripdata.csv']"
            ]
          },
          "metadata": {
            "tags": []
          },
          "execution_count": 3
        }
      ]
    },
    {
      "cell_type": "code",
      "metadata": {
        "colab": {
          "base_uri": "https://localhost:8080/",
          "height": 0
        },
        "id": "ggU7FxpVs-99",
        "outputId": "7b35359a-44e4-4d69-c5c7-10bfb2fb4c49"
      },
      "source": [
        "# only import 100 line items for quick view of column names and data type\n",
        "# let's leave columns such as 'stop_time', station_id, station_name & bike_id out of this demo\n",
        "\n",
        "pd.read_csv('/content/drive/MyDrive/New York Bike Share/201901-citibike-tripdata.csv', nrows=100).info()"
      ],
      "execution_count": 4,
      "outputs": [
        {
          "output_type": "stream",
          "text": [
            "<class 'pandas.core.frame.DataFrame'>\n",
            "RangeIndex: 100 entries, 0 to 99\n",
            "Data columns (total 15 columns):\n",
            " #   Column                   Non-Null Count  Dtype  \n",
            "---  ------                   --------------  -----  \n",
            " 0   tripduration             100 non-null    int64  \n",
            " 1   starttime                100 non-null    object \n",
            " 2   stoptime                 100 non-null    object \n",
            " 3   start station id         100 non-null    int64  \n",
            " 4   start station name       100 non-null    object \n",
            " 5   start station latitude   100 non-null    float64\n",
            " 6   start station longitude  100 non-null    float64\n",
            " 7   end station id           100 non-null    int64  \n",
            " 8   end station name         100 non-null    object \n",
            " 9   end station latitude     100 non-null    float64\n",
            " 10  end station longitude    100 non-null    float64\n",
            " 11  bikeid                   100 non-null    int64  \n",
            " 12  usertype                 100 non-null    object \n",
            " 13  birth year               100 non-null    int64  \n",
            " 14  gender                   100 non-null    int64  \n",
            "dtypes: float64(4), int64(6), object(5)\n",
            "memory usage: 11.8+ KB\n"
          ],
          "name": "stdout"
        }
      ]
    },
    {
      "cell_type": "code",
      "metadata": {
        "id": "4aWkUQAXrmTW"
      },
      "source": [
        "'''\n",
        "Method 2: Efficient way ~ ~\n",
        "\n",
        "Step 2: Define function to create Pandas DataFrame\n",
        "\n",
        "'''\n",
        "\n",
        "col_index = [0, 1, 5, 6, 9 ,10, 12, 13, 14]\n",
        "\n",
        "col_name = ['duration', \n",
        "            'time_start', \n",
        "            'station_latitude_start', \n",
        "            'station_longitude_start',\n",
        "            'station_latitude_end', \n",
        "            'station_longitude_end', \n",
        "            'user_type', \n",
        "            'birth_year', \n",
        "            'gender']\n",
        "\n",
        "col_type = {\n",
        "    'duration': np.int32,\n",
        "    'station_latitude_start': np.float32,\n",
        "    'station_longitude_start': np.float32,\n",
        "    'station_latitude_end': np.float32,\n",
        "    'station_longitude_end': np.float32,\n",
        "    'user_type': 'category',\n",
        "    'birth_year': np.int32,\n",
        "    'gender': 'category'\n",
        "}\n",
        "\n",
        "# self defined function to create dataframe\n",
        "def create_df(f, size = 100_000):\n",
        "\n",
        "    # create chunks of data frame with 100K per chunk. Result is an iteratable of dataframes\n",
        "    result = pd.read_csv(f, chunksize=size, usecols=col_index, names=col_name, dtype=col_type, parse_dates=['time_start'], header=0)\n",
        "\n",
        "    return result"
      ],
      "execution_count": 5,
      "outputs": []
    },
    {
      "cell_type": "code",
      "metadata": {
        "colab": {
          "base_uri": "https://localhost:8080/",
          "height": 0
        },
        "id": "YvoH9xIeub6o",
        "outputId": "b6d64deb-f9f8-41a3-a9ef-71ae665e43d8"
      },
      "source": [
        "'''\n",
        "Method 2: Efficient way ~ ~\n",
        "\n",
        "Step 3: Use .map() to apply 'create_df' function to each file in 'file_names' simultaneous\n",
        "\n",
        "'''\n",
        "\n",
        "# .map() will apply 'create_df' function to each file in file_names\n",
        "# result >> list of iteratable. Each iterable contains many dataframes with 100,000 rows\n",
        "\n",
        "df = list(map(create_df, file_names))\n",
        "df"
      ],
      "execution_count": 6,
      "outputs": [
        {
          "output_type": "execute_result",
          "data": {
            "text/plain": [
              "[<pandas.io.parsers.TextFileReader at 0x7f7ba0af4890>,\n",
              " <pandas.io.parsers.TextFileReader at 0x7f7b919eff10>,\n",
              " <pandas.io.parsers.TextFileReader at 0x7f7b91a02190>,\n",
              " <pandas.io.parsers.TextFileReader at 0x7f7b91272810>,\n",
              " <pandas.io.parsers.TextFileReader at 0x7f7b91272a10>,\n",
              " <pandas.io.parsers.TextFileReader at 0x7f7b919f5b50>,\n",
              " <pandas.io.parsers.TextFileReader at 0x7f7b919f52d0>,\n",
              " <pandas.io.parsers.TextFileReader at 0x7f7b91a1bf50>,\n",
              " <pandas.io.parsers.TextFileReader at 0x7f7b91272f10>,\n",
              " <pandas.io.parsers.TextFileReader at 0x7f7b91264210>,\n",
              " <pandas.io.parsers.TextFileReader at 0x7f7b912647d0>,\n",
              " <pandas.io.parsers.TextFileReader at 0x7f7b91264190>]"
            ]
          },
          "metadata": {
            "tags": []
          },
          "execution_count": 6
        }
      ]
    },
    {
      "cell_type": "code",
      "metadata": {
        "id": "5aoH3euSvL5q"
      },
      "source": [
        "'''\n",
        "Method 2: Efficient way ~ ~\n",
        "\n",
        "Step 4: apply python 'list comprehension' to get list of DataFrame\n",
        "\n",
        "'''\n",
        "\n",
        "# loop through each iteratable and store each dataframe to list with 'list comprehension'\n",
        "\n",
        "df = [chunk for ls in df for chunk in ls]"
      ],
      "execution_count": 7,
      "outputs": []
    },
    {
      "cell_type": "code",
      "metadata": {
        "colab": {
          "base_uri": "https://localhost:8080/"
        },
        "id": "CHePusZHOe2x",
        "outputId": "b296a0f5-cbc4-4e13-f757-ed11a3ef293f"
      },
      "source": [
        "# let's check one of the dataframe\r\n",
        "# each dataframe contains up to 100,000 line items\r\n",
        "# df[0] index number range from 0 to 99,999\r\n",
        "\r\n",
        "df[0].info()"
      ],
      "execution_count": null,
      "outputs": [
        {
          "output_type": "stream",
          "text": [
            "<class 'pandas.core.frame.DataFrame'>\n",
            "RangeIndex: 100000 entries, 0 to 99999\n",
            "Data columns (total 9 columns):\n",
            " #   Column                   Non-Null Count   Dtype         \n",
            "---  ------                   --------------   -----         \n",
            " 0   duration                 100000 non-null  int32         \n",
            " 1   time_start               100000 non-null  datetime64[ns]\n",
            " 2   station_latitude_start   100000 non-null  float32       \n",
            " 3   station_longitude_start  100000 non-null  float32       \n",
            " 4   station_latitude_end     100000 non-null  float32       \n",
            " 5   station_longitude_end    100000 non-null  float32       \n",
            " 6   user_type                100000 non-null  category      \n",
            " 7   birth_year               100000 non-null  int32         \n",
            " 8   gender                   100000 non-null  category      \n",
            "dtypes: category(2), datetime64[ns](1), float32(4), int32(2)\n",
            "memory usage: 3.2 MB\n"
          ],
          "name": "stdout"
        }
      ]
    },
    {
      "cell_type": "code",
      "metadata": {
        "colab": {
          "base_uri": "https://localhost:8080/"
        },
        "id": "mYXXk7V4zn-y",
        "outputId": "f6129023-4fb6-411f-e5a0-8dc09d2f8c2a"
      },
      "source": [
        "# df[1] index number range from 100,000 to 199,999\n",
        "\n",
        "df[1].info()"
      ],
      "execution_count": null,
      "outputs": [
        {
          "output_type": "stream",
          "text": [
            "<class 'pandas.core.frame.DataFrame'>\n",
            "RangeIndex: 100000 entries, 100000 to 199999\n",
            "Data columns (total 9 columns):\n",
            " #   Column                   Non-Null Count   Dtype         \n",
            "---  ------                   --------------   -----         \n",
            " 0   duration                 100000 non-null  int32         \n",
            " 1   time_start               100000 non-null  datetime64[ns]\n",
            " 2   station_latitude_start   100000 non-null  float32       \n",
            " 3   station_longitude_start  100000 non-null  float32       \n",
            " 4   station_latitude_end     100000 non-null  float32       \n",
            " 5   station_longitude_end    100000 non-null  float32       \n",
            " 6   user_type                100000 non-null  category      \n",
            " 7   birth_year               100000 non-null  int32         \n",
            " 8   gender                   100000 non-null  category      \n",
            "dtypes: category(2), datetime64[ns](1), float32(4), int32(2)\n",
            "memory usage: 3.2 MB\n"
          ],
          "name": "stdout"
        }
      ]
    },
    {
      "cell_type": "code",
      "metadata": {
        "colab": {
          "base_uri": "https://localhost:8080/",
          "height": 0
        },
        "id": "HfB2Un48yba6",
        "outputId": "05b35044-6b72-427b-e562-8a9e5df7c025"
      },
      "source": [
        "'''\n",
        "Method 2: Efficient way ~ ~\n",
        "\n",
        "Step 5: use pd.concat() to merge list of dataframes\n",
        "\n",
        "'''\n",
        "\n",
        "# p.concat() >> append list of dataframe on top of each other to produce master dataframe\n",
        "# note: each dataframe has different index number. parameter 'ignore_index' is set to 'True' and pd.concat() will reset index number after merge.\n",
        "\n",
        "df = pd.concat(df, ignore_index=True)\n",
        "df.info()"
      ],
      "execution_count": 8,
      "outputs": [
        {
          "output_type": "stream",
          "text": [
            "<class 'pandas.core.frame.DataFrame'>\n",
            "RangeIndex: 20551697 entries, 0 to 20551696\n",
            "Data columns (total 9 columns):\n",
            " #   Column                   Dtype         \n",
            "---  ------                   -----         \n",
            " 0   duration                 int32         \n",
            " 1   time_start               datetime64[ns]\n",
            " 2   station_latitude_start   float32       \n",
            " 3   station_longitude_start  float32       \n",
            " 4   station_latitude_end     float32       \n",
            " 5   station_longitude_end    float32       \n",
            " 6   user_type                category      \n",
            " 7   birth_year               int32         \n",
            " 8   gender                   category      \n",
            "dtypes: category(2), datetime64[ns](1), float32(4), int32(2)\n",
            "memory usage: 666.4 MB\n"
          ],
          "name": "stdout"
        }
      ]
    },
    {
      "cell_type": "code",
      "metadata": {
        "colab": {
          "base_uri": "https://localhost:8080/",
          "height": 0
        },
        "id": "rIIQbWyVPoJb",
        "outputId": "4ab6eb8f-f072-4108-e9f6-be7e1ffd314d"
      },
      "source": [
        "# check variables with NaN items\r\n",
        "\r\n",
        "df.isna().sum()"
      ],
      "execution_count": 9,
      "outputs": [
        {
          "output_type": "execute_result",
          "data": {
            "text/plain": [
              "duration                   0\n",
              "time_start                 0\n",
              "station_latitude_start     0\n",
              "station_longitude_start    0\n",
              "station_latitude_end       0\n",
              "station_longitude_end      0\n",
              "user_type                  0\n",
              "birth_year                 0\n",
              "gender                     0\n",
              "dtype: int64"
            ]
          },
          "metadata": {
            "tags": []
          },
          "execution_count": 9
        }
      ]
    },
    {
      "cell_type": "markdown",
      "metadata": {
        "id": "St7Ea8h3PfDn"
      },
      "source": [
        "## ***Lesson 02: Pandas 'Category' Data Type***\r\n",
        "\r\n",
        "Gender data type is set to 'category' when we import CSV with .read_csv() method. I learn that a category will remain in pandas memory/dataframe even I explicitly exclude the line items with gender category '0'.\r\n",
        "\r\n",
        "We can check category of variable with ***.cat.categories*** attribute and remove unwanted category with ***.cat.remove_categories()*** method. Finally, we also can use ***.cat.rename_categories()*** method to rename category."
      ]
    },
    {
      "cell_type": "code",
      "metadata": {
        "id": "Xk4_O7R10DOn",
        "colab": {
          "base_uri": "https://localhost:8080/",
          "height": 0
        },
        "outputId": "b3223e73-38eb-4740-c003-a800bbf1ee61"
      },
      "source": [
        "# Based on data dictionary, 'gender' consists category 0, 1, 2 which category 0 is 'unknown'\r\n",
        "# .unique() method can easily shows unique category for 'gender'\r\n",
        "\r\n",
        "df.gender.unique()"
      ],
      "execution_count": 10,
      "outputs": [
        {
          "output_type": "execute_result",
          "data": {
            "text/plain": [
              "['1', '2', '0']\n",
              "Categories (3, object): ['1', '2', '0']"
            ]
          },
          "metadata": {
            "tags": []
          },
          "execution_count": 10
        }
      ]
    },
    {
      "cell_type": "code",
      "metadata": {
        "colab": {
          "base_uri": "https://localhost:8080/",
          "height": 0
        },
        "id": "amKi3DFtQF0f",
        "outputId": "fc457ded-3104-482a-fee2-11e1ac9cd4ee"
      },
      "source": [
        "# .cat.categories attribute is an alternative to .unique() method\r\n",
        "# ref: https://pandas.pydata.org/pandas-docs/stable/reference/api/pandas.Series.cat.categories.html\r\n",
        "\r\n",
        "df.gender.cat.categories"
      ],
      "execution_count": 11,
      "outputs": [
        {
          "output_type": "execute_result",
          "data": {
            "text/plain": [
              "Index(['0', '1', '2'], dtype='object')"
            ]
          },
          "metadata": {
            "tags": []
          },
          "execution_count": 11
        }
      ]
    },
    {
      "cell_type": "code",
      "metadata": {
        "colab": {
          "base_uri": "https://localhost:8080/",
          "height": 0
        },
        "id": "7KiNJ4VaQKzM",
        "outputId": "e9763228-2bb3-48a0-feb9-38596705df0b"
      },
      "source": [
        "# let's remove category '0' from dataframe\r\n",
        "\r\n",
        "df = df.loc[df.gender != '0', :]\r\n",
        "\r\n",
        "# check again unique values in 'gender'\r\n",
        "\r\n",
        "df.gender.unique()"
      ],
      "execution_count": 12,
      "outputs": [
        {
          "output_type": "execute_result",
          "data": {
            "text/plain": [
              "['1', '2']\n",
              "Categories (2, object): ['1', '2']"
            ]
          },
          "metadata": {
            "tags": []
          },
          "execution_count": 12
        }
      ]
    },
    {
      "cell_type": "code",
      "metadata": {
        "colab": {
          "base_uri": "https://localhost:8080/",
          "height": 0
        },
        "id": "2V39aIlXRJcR",
        "outputId": "442f06bc-9cb2-41d4-e1ae-72dc0bd13c2e"
      },
      "source": [
        "# let's do a summary of percentage of users by gender wtih .value _counts() method \r\n",
        "# 1 >> 'Male', 2 >> 'Female'\r\n",
        "# we will be surprise to see the category '0' is part of the summary, although result shows 0%\r\n",
        "\r\n",
        "df.gender.value_counts(normalize=True)"
      ],
      "execution_count": 13,
      "outputs": [
        {
          "output_type": "execute_result",
          "data": {
            "text/plain": [
              "1    0.739935\n",
              "2    0.260065\n",
              "0    0.000000\n",
              "Name: gender, dtype: float64"
            ]
          },
          "metadata": {
            "tags": []
          },
          "execution_count": 13
        }
      ]
    },
    {
      "cell_type": "code",
      "metadata": {
        "colab": {
          "base_uri": "https://localhost:8080/",
          "height": 0
        },
        "id": "sTBNSf20SE1q",
        "outputId": "7cfe75dc-9cc1-4210-ba81-920a9c1f8ef5"
      },
      "source": [
        "# reason being, category '0' still in pandas memory although we explicitly remove gender with category '0' from dataframe\r\n",
        "\r\n",
        "df.gender.cat.categories"
      ],
      "execution_count": 14,
      "outputs": [
        {
          "output_type": "execute_result",
          "data": {
            "text/plain": [
              "Index(['0', '1', '2'], dtype='object')"
            ]
          },
          "metadata": {
            "tags": []
          },
          "execution_count": 14
        }
      ]
    },
    {
      "cell_type": "code",
      "metadata": {
        "colab": {
          "base_uri": "https://localhost:8080/",
          "height": 0
        },
        "id": "ACcgIB6_TP0x",
        "outputId": "29683d81-0697-4fc5-e83f-69a9190bc513"
      },
      "source": [
        "# .cat.remove_categories() helps to remove unused category from pandas memory\r\n",
        "# ref: https://pandas.pydata.org/pandas-docs/stable/reference/api/pandas.Series.cat.remove_categories.html#pandas.Series.cat.remove_categories\r\n",
        "# set parameter inplace = True; pandas doesn't print result of new category\r\n",
        "\r\n",
        "df.gender.cat.remove_categories(removals = '0', inplace = True)\r\n",
        "\r\n",
        "# category '0' no longer in pandas memory\r\n",
        "\r\n",
        "df.gender.cat.categories"
      ],
      "execution_count": 15,
      "outputs": [
        {
          "output_type": "execute_result",
          "data": {
            "text/plain": [
              "Index(['1', '2'], dtype='object')"
            ]
          },
          "metadata": {
            "tags": []
          },
          "execution_count": 15
        }
      ]
    },
    {
      "cell_type": "code",
      "metadata": {
        "colab": {
          "base_uri": "https://localhost:8080/",
          "height": 0
        },
        "id": "L6lc5xQiT3ND",
        "outputId": "c42d54e5-89eb-43aa-936a-742b194d6ef3"
      },
      "source": [
        "# sumamrise gender percentage....again\r\n",
        "\r\n",
        "df.gender.value_counts(normalize=True)"
      ],
      "execution_count": 16,
      "outputs": [
        {
          "output_type": "execute_result",
          "data": {
            "text/plain": [
              "1    0.739935\n",
              "2    0.260065\n",
              "Name: gender, dtype: float64"
            ]
          },
          "metadata": {
            "tags": []
          },
          "execution_count": 16
        }
      ]
    },
    {
      "cell_type": "code",
      "metadata": {
        "colab": {
          "base_uri": "https://localhost:8080/",
          "height": 0
        },
        "id": "LsUQBuxZUt0G",
        "outputId": "fccd005d-d2a9-4469-8fdc-ad2638b24e23"
      },
      "source": [
        "# category '1' & '2' are not self-explanatory\r\n",
        "# rename the category with .cat.rename_categories() method\r\n",
        "# ref: https://pandas.pydata.org/pandas-docs/stable/reference/api/pandas.Series.cat.rename_categories.html#pandas.Series.cat.rename_categories\r\n",
        "\r\n",
        "df.gender.cat.rename_categories({'1': 'Male', '2': 'Female'}, inplace = True)\r\n",
        "\r\n",
        "# new category name for gender\r\n",
        "\r\n",
        "df.gender.cat.categories"
      ],
      "execution_count": 17,
      "outputs": [
        {
          "output_type": "execute_result",
          "data": {
            "text/plain": [
              "Index(['Male', 'Female'], dtype='object')"
            ]
          },
          "metadata": {
            "tags": []
          },
          "execution_count": 17
        }
      ]
    },
    {
      "cell_type": "code",
      "metadata": {
        "colab": {
          "base_uri": "https://localhost:8080/",
          "height": 0
        },
        "id": "oi5ykqiOVyJu",
        "outputId": "8a521280-eac0-4b9d-f03f-9df5a41058c8"
      },
      "source": [
        "# sumamrise gender percentage....again\r\n",
        "# gender category becomes 'Male' & 'Female'\r\n",
        "\r\n",
        "df.gender.value_counts(normalize=True)"
      ],
      "execution_count": 18,
      "outputs": [
        {
          "output_type": "execute_result",
          "data": {
            "text/plain": [
              "Male      0.739935\n",
              "Female    0.260065\n",
              "Name: gender, dtype: float64"
            ]
          },
          "metadata": {
            "tags": []
          },
          "execution_count": 18
        }
      ]
    },
    {
      "cell_type": "markdown",
      "metadata": {
        "id": "UiTA7xlFX7cE"
      },
      "source": [
        "## ***Lesson 03: Feature Engineering with pandas.cut()***\r\n",
        "\r\n",
        "In bike sharing dataframe, we are given 'birth_year'. Birth year is not very useful for data analysis/visualization.\r\n",
        "\r\n",
        "Imagine birth year range from 1970 to 2020, it is presentable in either histogram/bar chart.\r\n",
        "\r\n",
        "In such scenario, we can perform feature engineering to group birth_year into generation. Example: anyone born between 1981 - 1996 is Generation Y. So, we can analyze bike sharing activity by generation instead of birth_year."
      ]
    },
    {
      "cell_type": "code",
      "metadata": {
        "colab": {
          "base_uri": "https://localhost:8080/",
          "height": 0
        },
        "id": "-oPOzxZWXO97",
        "outputId": "b3671461-d9e9-45fd-a590-477566de0351"
      },
      "source": [
        "# summary of birth_year\r\n",
        "\r\n",
        "df.birth_year.min(), df.birth_year.max()"
      ],
      "execution_count": 19,
      "outputs": [
        {
          "output_type": "execute_result",
          "data": {
            "text/plain": [
              "(1857, 2003)"
            ]
          },
          "metadata": {
            "tags": []
          },
          "execution_count": 19
        }
      ]
    },
    {
      "cell_type": "code",
      "metadata": {
        "colab": {
          "base_uri": "https://localhost:8080/",
          "height": 0
        },
        "id": "OFAFl4ep9v19",
        "outputId": "e475ca16-2bf0-475d-be29-693a9f09181b"
      },
      "source": [
        "# total observations before exclude birth_year < 1928\r\n",
        "# approximately 19M observations\r\n",
        "\r\n",
        "df.shape"
      ],
      "execution_count": 20,
      "outputs": [
        {
          "output_type": "execute_result",
          "data": {
            "text/plain": [
              "(18991389, 9)"
            ]
          },
          "metadata": {
            "tags": []
          },
          "execution_count": 20
        }
      ]
    },
    {
      "cell_type": "code",
      "metadata": {
        "id": "T0fmlw__acBl"
      },
      "source": [
        "# let's only include birth_year from 1928 (silent generation) onward\r\n",
        "\r\n",
        "df = df.query(\" birth_year >= 1928 \").reset_index(drop = True)"
      ],
      "execution_count": 21,
      "outputs": []
    },
    {
      "cell_type": "code",
      "metadata": {
        "colab": {
          "base_uri": "https://localhost:8080/",
          "height": 0
        },
        "id": "zA33wqZF-L7-",
        "outputId": "bf4b1f57-ad31-4c38-c642-14e2d9dd6a76"
      },
      "source": [
        "# total observations after exclude birth_year < 1928\r\n",
        "# approximately 19M observations\r\n",
        "\r\n",
        "df.shape"
      ],
      "execution_count": 22,
      "outputs": [
        {
          "output_type": "execute_result",
          "data": {
            "text/plain": [
              "(18982169, 9)"
            ]
          },
          "metadata": {
            "tags": []
          },
          "execution_count": 22
        }
      ]
    },
    {
      "cell_type": "code",
      "metadata": {
        "id": "-U8C4rIdZpHf"
      },
      "source": [
        "# Method 01:\r\n",
        "# define function like below and apply the function to 'birth_year'\r\n",
        "\r\n",
        "def define_gen(year):\r\n",
        "\r\n",
        "    gen = None\r\n",
        "    \r\n",
        "    if year < 1946:\r\n",
        "        gen = 'silent'\r\n",
        "    elif (year >= 1946) & (year < 1965):\r\n",
        "        gen = 'baby_boomer'\r\n",
        "    elif (year >= 1965) & (year < 1981):\r\n",
        "        gen = 'gen_x'\r\n",
        "    elif (year >= 1981) & (year < 1997):\r\n",
        "        gen = 'gen_y'\r\n",
        "    else:\r\n",
        "        gen = 'gen_z'\r\n",
        "\r\n",
        "    return gen"
      ],
      "execution_count": null,
      "outputs": []
    },
    {
      "cell_type": "code",
      "metadata": {
        "colab": {
          "base_uri": "https://localhost:8080/"
        },
        "id": "eUbHvu_Lc7Xx",
        "outputId": "1d2a9328-8c57-49a9-96c2-d1c525dd4df4"
      },
      "source": [
        "# this method present a huge challenge...it takes very long to perform the operation on large data set, in this case, 19M rows\r\n",
        "# 6+ second for each observation; how much time required for 19M observations ??\r\n",
        "\r\n",
        "%timeit df.birth_year.apply(define_gen)"
      ],
      "execution_count": null,
      "outputs": [
        {
          "output_type": "stream",
          "text": [
            "1 loop, best of 5: 6.06 s per loop\n"
          ],
          "name": "stdout"
        }
      ]
    },
    {
      "cell_type": "code",
      "metadata": {
        "colab": {
          "base_uri": "https://localhost:8080/"
        },
        "id": "8V7voBo8dQNc",
        "outputId": "5de58006-391a-4cf7-ae25-2bdc609ef67c"
      },
      "source": [
        "# we can achieve same result with pd.cut() method, with shorter time\r\n",
        "# ref: https://pandas.pydata.org/pandas-docs/stable/reference/api/pandas.cut.html?highlight=cut#pandas.cut\r\n",
        "\r\n",
        "# 532 milisecond (0.532 second) for each observation; this is 11.6 times faster than applying function to 'birth_year'\r\n",
        "\r\n",
        "bin_range = [1928, 1946, 1965, 1981, 1997, 2016]\r\n",
        "gen_label = ['silent', 'baby_boomer', 'gen_x', 'gen_y', 'gen_z']\r\n",
        "\r\n",
        "%timeit pd.cut(df.birth_year, bins = bin_range, labels = gen_label, include_lowest=True, ordered=False)"
      ],
      "execution_count": null,
      "outputs": [
        {
          "output_type": "stream",
          "text": [
            "1 loop, best of 5: 493 ms per loop\n"
          ],
          "name": "stdout"
        }
      ]
    },
    {
      "cell_type": "code",
      "metadata": {
        "colab": {
          "base_uri": "https://localhost:8080/",
          "height": 0
        },
        "id": "sL4aCtms-_q1",
        "outputId": "21e82eae-a2f9-470e-dcda-fba250fec629"
      },
      "source": [
        "# Gen Y is the largest user group, accounted for 54%\r\n",
        "\r\n",
        "pd.cut(df.birth_year, \r\n",
        "       bins = [1928, 1946, 1965, 1981, 1997, 2016], \r\n",
        "       labels = ['silent', 'baby_boomer', 'gen_x', 'gen_y', 'gen_z'], \r\n",
        "       include_lowest=True, \r\n",
        "       ordered=False).value_counts(normalize=True)"
      ],
      "execution_count": 23,
      "outputs": [
        {
          "output_type": "execute_result",
          "data": {
            "text/plain": [
              "gen_y          0.543800\n",
              "gen_x          0.293460\n",
              "baby_boomer    0.128881\n",
              "gen_z          0.029339\n",
              "silent         0.004520\n",
              "Name: birth_year, dtype: float64"
            ]
          },
          "metadata": {
            "tags": []
          },
          "execution_count": 23
        }
      ]
    },
    {
      "cell_type": "markdown",
      "metadata": {
        "id": "SchSKUJKCJHf"
      },
      "source": [
        "## ***Lesson 04: Numpy for better performance***\r\n",
        "\r\n",
        "We can perform mathematical operation on Pandas Series. However, *Numpy* is more optimal (i.e. faster) when dealing with large data set than Pandas *Series*."
      ]
    },
    {
      "cell_type": "code",
      "metadata": {
        "id": "Q_qZeegQCy7O"
      },
      "source": [
        "# we will use duration, distance and speed for demo\r\n",
        "\r\n",
        "# create coordinates of start_station\r\n",
        "\r\n",
        "coordinate_start = list(zip(df.station_latitude_start.values, df.station_longitude_start.values))"
      ],
      "execution_count": 24,
      "outputs": []
    },
    {
      "cell_type": "code",
      "metadata": {
        "id": "j_tWuHvjiybB"
      },
      "source": [
        "# create coordinates of end_station\r\n",
        "\r\n",
        "coordinate_end = list(zip(df.station_latitude_end.values, df.station_longitude_end.values))"
      ],
      "execution_count": 25,
      "outputs": []
    },
    {
      "cell_type": "code",
      "metadata": {
        "id": "DP3j6grrDmEI"
      },
      "source": [
        "# calculate distance with the help of haversine based on coordinates start & end\r\n",
        "# https://pypi.org/project/haversine/\r\n",
        "\r\n",
        "df['distance'] = haversine_vector(coordinate_start, coordinate_end, Unit.KILOMETERS)"
      ],
      "execution_count": 26,
      "outputs": []
    },
    {
      "cell_type": "code",
      "metadata": {
        "colab": {
          "base_uri": "https://localhost:8080/"
        },
        "id": "UQpnpdaaD9WB",
        "outputId": "c25a3530-59c1-4f49-ad69-8a5744565d9c"
      },
      "source": [
        "# at the moment, 'duration' is in seconds & distance in kilometer\r\n",
        "# we need to calculate 'speed' in kilometer/hour\r\n",
        "\r\n",
        "# let's measure time taken to calculate 'speed' with pandas Series\r\n",
        "# remember: 1 hour ==> 3,600 seconds\r\n",
        "\r\n",
        "%timeit df.distance / (df.duration / (60 * 60))"
      ],
      "execution_count": null,
      "outputs": [
        {
          "output_type": "stream",
          "text": [
            "10 loops, best of 5: 88.6 ms per loop\n"
          ],
          "name": "stdout"
        }
      ]
    },
    {
      "cell_type": "code",
      "metadata": {
        "colab": {
          "base_uri": "https://localhost:8080/"
        },
        "id": "bAD9vg5kE3wj",
        "outputId": "58b4425a-759e-4523-9fb6-2f736efa69d8"
      },
      "source": [
        "# let's measure time taken to calculate 'speed' with Numpy array\r\n",
        "# Numpy divide ==> https://numpy.org/doc/stable/reference/generated/numpy.divide.html#:~:text=divide,-numpy.&text=Returns%20a%20true%20division%20of,this%20returns%20a%20true%20division.\r\n",
        "# remember: 1 hour ==> 3,600 seconds\r\n",
        "\r\n",
        "hour = np.divide(df.duration, 3600)\r\n",
        "\r\n",
        "# reason for better performance: Numpy array is more memory-efficient\r\n",
        "# ref: https://www.geeksforgeeks.org/difference-between-pandas-vs-numpy/\r\n",
        "\r\n",
        "%timeit np.divide(df.distance.values, hour)"
      ],
      "execution_count": null,
      "outputs": [
        {
          "output_type": "stream",
          "text": [
            "10 loops, best of 5: 44.9 ms per loop\n"
          ],
          "name": "stdout"
        }
      ]
    },
    {
      "cell_type": "markdown",
      "metadata": {
        "id": "cRahubw3hR1d"
      },
      "source": [
        "## ***Lesson 05: Create/Replace Variable with pandas.assign()***\r\n",
        "\r\n",
        "In pandas, we tend to use *df['variable'] = pandas action* to create/replace a variable. This method is used multiple times if we want to create few variables: \r\n",
        "\r\n",
        "*df['var_01'] = action_01* <br>\r\n",
        "*df['var_02'] = action_02* <br>\r\n",
        "*df['var_03'] = action_03*\r\n",
        "\r\n",
        "With *.assign()* method, we can create multiple variables with one command.\r\n",
        "Check documentation [here](https://pandas.pydata.org/pandas-docs/stable/reference/api/pandas.DataFrame.assign.html). \r\n",
        "\r\n",
        "By the way, assign() method is inspired by R Tidyverse *mutate()*. Refer [here](https://pandas.pydata.org/docs/getting_started/comparison/comparison_with_r.html#transforming) for more detail."
      ]
    },
    {
      "cell_type": "code",
      "metadata": {
        "id": "zb10g2qSfCOH",
        "colab": {
          "base_uri": "https://localhost:8080/"
        },
        "outputId": "fd785593-4a96-4143-b503-883cfd1f55dc"
      },
      "source": [
        "# reengineer 'birth_year', 'duration' & 'speed' with .assign() and measure time taken\r\n",
        "# turn 'birth_year' into 'generation'\r\n",
        "# turn 'duration' from seconds to minutes\r\n",
        "# create variable 'speed'\r\n",
        "\r\n",
        "%%timeit\r\n",
        "\r\n",
        "df.assign(generation = pd.cut(df.birth_year, bins = bin_range, labels = gen_label, include_lowest=True, ordered=False), \r\n",
        "          duration = np.divide(df.duration.values, 60), \r\n",
        "          speed = np.divide(df.distance.values, hour))"
      ],
      "execution_count": null,
      "outputs": [
        {
          "output_type": "stream",
          "text": [
            "1 loop, best of 5: 878 ms per loop\n"
          ],
          "name": "stdout"
        }
      ]
    },
    {
      "cell_type": "code",
      "metadata": {
        "colab": {
          "base_uri": "https://localhost:8080/",
          "height": 309
        },
        "id": "6wEviq1gJgRC",
        "outputId": "b9949132-9cbc-4585-dc0e-2195d0221a5d"
      },
      "source": [
        "bin_range = [1928, 1946, 1965, 1981, 1997, 2016]\r\n",
        "gen_label = ['silent', 'baby_boomer', 'gen_x', 'gen_y', 'gen_z']\r\n",
        "\r\n",
        "hour = np.divide(df.duration, 3600)\r\n",
        "\r\n",
        "# create/replace variable with one command\r\n",
        "df = df.assign(generation = pd.cut(df.birth_year, bins = bin_range, labels = gen_label, include_lowest=True, ordered=False), \r\n",
        "                duration = np.divide(df.duration.values, 60), \r\n",
        "                speed = np.divide(df.distance.values, hour))\r\n",
        "\r\n",
        "df.head()"
      ],
      "execution_count": 29,
      "outputs": [
        {
          "output_type": "execute_result",
          "data": {
            "text/html": [
              "<div>\n",
              "<style scoped>\n",
              "    .dataframe tbody tr th:only-of-type {\n",
              "        vertical-align: middle;\n",
              "    }\n",
              "\n",
              "    .dataframe tbody tr th {\n",
              "        vertical-align: top;\n",
              "    }\n",
              "\n",
              "    .dataframe thead th {\n",
              "        text-align: right;\n",
              "    }\n",
              "</style>\n",
              "<table border=\"1\" class=\"dataframe\">\n",
              "  <thead>\n",
              "    <tr style=\"text-align: right;\">\n",
              "      <th></th>\n",
              "      <th>duration</th>\n",
              "      <th>time_start</th>\n",
              "      <th>station_latitude_start</th>\n",
              "      <th>station_longitude_start</th>\n",
              "      <th>station_latitude_end</th>\n",
              "      <th>station_longitude_end</th>\n",
              "      <th>user_type</th>\n",
              "      <th>birth_year</th>\n",
              "      <th>gender</th>\n",
              "      <th>distance</th>\n",
              "      <th>generation</th>\n",
              "      <th>speed</th>\n",
              "    </tr>\n",
              "  </thead>\n",
              "  <tbody>\n",
              "    <tr>\n",
              "      <th>0</th>\n",
              "      <td>5.333333</td>\n",
              "      <td>2019-01-01 00:01:47.401</td>\n",
              "      <td>40.778969</td>\n",
              "      <td>-73.973747</td>\n",
              "      <td>40.788219</td>\n",
              "      <td>-73.970413</td>\n",
              "      <td>Subscriber</td>\n",
              "      <td>1971</td>\n",
              "      <td>Male</td>\n",
              "      <td>1.066311</td>\n",
              "      <td>gen_x</td>\n",
              "      <td>11.996004</td>\n",
              "    </tr>\n",
              "    <tr>\n",
              "      <th>1</th>\n",
              "      <td>5.266667</td>\n",
              "      <td>2019-01-01 00:04:43.736</td>\n",
              "      <td>40.751873</td>\n",
              "      <td>-73.977707</td>\n",
              "      <td>40.747803</td>\n",
              "      <td>-73.973442</td>\n",
              "      <td>Subscriber</td>\n",
              "      <td>1964</td>\n",
              "      <td>Male</td>\n",
              "      <td>0.577748</td>\n",
              "      <td>baby_boomer</td>\n",
              "      <td>6.581936</td>\n",
              "    </tr>\n",
              "    <tr>\n",
              "      <th>2</th>\n",
              "      <td>9.850000</td>\n",
              "      <td>2019-01-01 00:06:03.997</td>\n",
              "      <td>40.785248</td>\n",
              "      <td>-73.976677</td>\n",
              "      <td>40.773144</td>\n",
              "      <td>-73.958565</td>\n",
              "      <td>Subscriber</td>\n",
              "      <td>1987</td>\n",
              "      <td>Male</td>\n",
              "      <td>2.034302</td>\n",
              "      <td>gen_y</td>\n",
              "      <td>12.391687</td>\n",
              "    </tr>\n",
              "    <tr>\n",
              "      <th>3</th>\n",
              "      <td>45.316667</td>\n",
              "      <td>2019-01-01 00:07:03.545</td>\n",
              "      <td>40.732220</td>\n",
              "      <td>-73.981659</td>\n",
              "      <td>40.738045</td>\n",
              "      <td>-73.996429</td>\n",
              "      <td>Subscriber</td>\n",
              "      <td>1990</td>\n",
              "      <td>Male</td>\n",
              "      <td>1.403270</td>\n",
              "      <td>gen_y</td>\n",
              "      <td>1.857952</td>\n",
              "    </tr>\n",
              "    <tr>\n",
              "      <th>4</th>\n",
              "      <td>5.050000</td>\n",
              "      <td>2019-01-01 00:07:35.945</td>\n",
              "      <td>40.727436</td>\n",
              "      <td>-73.993790</td>\n",
              "      <td>40.738274</td>\n",
              "      <td>-73.987518</td>\n",
              "      <td>Subscriber</td>\n",
              "      <td>1979</td>\n",
              "      <td>Male</td>\n",
              "      <td>1.316004</td>\n",
              "      <td>gen_x</td>\n",
              "      <td>15.635686</td>\n",
              "    </tr>\n",
              "  </tbody>\n",
              "</table>\n",
              "</div>"
            ],
            "text/plain": [
              "    duration              time_start  ...   generation      speed\n",
              "0   5.333333 2019-01-01 00:01:47.401  ...        gen_x  11.996004\n",
              "1   5.266667 2019-01-01 00:04:43.736  ...  baby_boomer   6.581936\n",
              "2   9.850000 2019-01-01 00:06:03.997  ...        gen_y  12.391687\n",
              "3  45.316667 2019-01-01 00:07:03.545  ...        gen_y   1.857952\n",
              "4   5.050000 2019-01-01 00:07:35.945  ...        gen_x  15.635686\n",
              "\n",
              "[5 rows x 12 columns]"
            ]
          },
          "metadata": {
            "tags": []
          },
          "execution_count": 29
        }
      ]
    },
    {
      "cell_type": "code",
      "metadata": {
        "colab": {
          "base_uri": "https://localhost:8080/",
          "height": 0
        },
        "id": "IEfcVR0_RQLk",
        "outputId": "02370b9d-4d20-4382-f76a-b8589e71f995"
      },
      "source": [
        "df.info()"
      ],
      "execution_count": 30,
      "outputs": [
        {
          "output_type": "stream",
          "text": [
            "<class 'pandas.core.frame.DataFrame'>\n",
            "RangeIndex: 18982169 entries, 0 to 18982168\n",
            "Data columns (total 12 columns):\n",
            " #   Column                   Dtype         \n",
            "---  ------                   -----         \n",
            " 0   duration                 float64       \n",
            " 1   time_start               datetime64[ns]\n",
            " 2   station_latitude_start   float32       \n",
            " 3   station_longitude_start  float32       \n",
            " 4   station_latitude_end     float32       \n",
            " 5   station_longitude_end    float32       \n",
            " 6   user_type                category      \n",
            " 7   birth_year               int32         \n",
            " 8   gender                   category      \n",
            " 9   distance                 float32       \n",
            " 10  generation               category      \n",
            " 11  speed                    float64       \n",
            "dtypes: category(3), datetime64[ns](1), float32(5), float64(2), int32(1)\n",
            "memory usage: 923.2 MB\n"
          ],
          "name": "stdout"
        }
      ]
    },
    {
      "cell_type": "markdown",
      "metadata": {
        "id": "Cx76Bga9R7zG"
      },
      "source": [
        "## ***Lesson 06: Method Chaining***\r\n",
        "\r\n",
        "Proper method chaining improves code readability and cut down intermediate variable assignment; this is especially useful when we need to perform multiple actions at one go.\r\n",
        "\r\n",
        "From previous lessons, we created new variables (distance, generation, and speed) & reengineer duration (from seconds to minutes). Now we observe 'duration', 'distance' and 'speed' are numerical variables with more than 4 decimals. Variables such as latitude & longitude and birth_year are no longer required for analysis.\r\n",
        "\r\n",
        "We can remove & format variables with *Method Chaining*"
      ]
    },
    {
      "cell_type": "code",
      "metadata": {
        "colab": {
          "base_uri": "https://localhost:8080/",
          "height": 204
        },
        "id": "wCg5z-pJRsOM",
        "outputId": "d1dfcc56-fe1d-41a7-f8aa-ac7338d6322f"
      },
      "source": [
        "'''\r\n",
        "Run code for demo only\r\n",
        "\r\n",
        "Method 01: Long method chaining\r\n",
        "\r\n",
        "1. to remove variables\r\n",
        "2. round variables in float type to 2 decimals\r\n",
        "3. change data type of 'speed' from 'float64' to 'float32'\r\n",
        "\r\n",
        "Code is hardly readable !!!\r\n",
        "'''\r\n",
        "\r\n",
        "df.drop(columns=['station_latitude_start', 'station_longitude_start', 'station_latitude_end', 'station_longitude_end', 'birth_year']).round(2).astype({'speed': np.float32}).head()"
      ],
      "execution_count": null,
      "outputs": [
        {
          "output_type": "execute_result",
          "data": {
            "text/html": [
              "<div>\n",
              "<style scoped>\n",
              "    .dataframe tbody tr th:only-of-type {\n",
              "        vertical-align: middle;\n",
              "    }\n",
              "\n",
              "    .dataframe tbody tr th {\n",
              "        vertical-align: top;\n",
              "    }\n",
              "\n",
              "    .dataframe thead th {\n",
              "        text-align: right;\n",
              "    }\n",
              "</style>\n",
              "<table border=\"1\" class=\"dataframe\">\n",
              "  <thead>\n",
              "    <tr style=\"text-align: right;\">\n",
              "      <th></th>\n",
              "      <th>duration</th>\n",
              "      <th>time_start</th>\n",
              "      <th>user_type</th>\n",
              "      <th>gender</th>\n",
              "      <th>distance</th>\n",
              "      <th>generation</th>\n",
              "      <th>speed</th>\n",
              "    </tr>\n",
              "  </thead>\n",
              "  <tbody>\n",
              "    <tr>\n",
              "      <th>0</th>\n",
              "      <td>5.33</td>\n",
              "      <td>2019-01-01 00:01:47.401</td>\n",
              "      <td>Subscriber</td>\n",
              "      <td>Male</td>\n",
              "      <td>1.07</td>\n",
              "      <td>gen_x</td>\n",
              "      <td>12.00</td>\n",
              "    </tr>\n",
              "    <tr>\n",
              "      <th>1</th>\n",
              "      <td>5.27</td>\n",
              "      <td>2019-01-01 00:04:43.736</td>\n",
              "      <td>Subscriber</td>\n",
              "      <td>Male</td>\n",
              "      <td>0.58</td>\n",
              "      <td>baby_boomer</td>\n",
              "      <td>6.58</td>\n",
              "    </tr>\n",
              "    <tr>\n",
              "      <th>2</th>\n",
              "      <td>9.85</td>\n",
              "      <td>2019-01-01 00:06:03.997</td>\n",
              "      <td>Subscriber</td>\n",
              "      <td>Male</td>\n",
              "      <td>2.03</td>\n",
              "      <td>gen_y</td>\n",
              "      <td>12.39</td>\n",
              "    </tr>\n",
              "    <tr>\n",
              "      <th>3</th>\n",
              "      <td>45.32</td>\n",
              "      <td>2019-01-01 00:07:03.545</td>\n",
              "      <td>Subscriber</td>\n",
              "      <td>Male</td>\n",
              "      <td>1.40</td>\n",
              "      <td>gen_y</td>\n",
              "      <td>1.86</td>\n",
              "    </tr>\n",
              "    <tr>\n",
              "      <th>4</th>\n",
              "      <td>5.05</td>\n",
              "      <td>2019-01-01 00:07:35.945</td>\n",
              "      <td>Subscriber</td>\n",
              "      <td>Male</td>\n",
              "      <td>1.32</td>\n",
              "      <td>gen_x</td>\n",
              "      <td>15.64</td>\n",
              "    </tr>\n",
              "  </tbody>\n",
              "</table>\n",
              "</div>"
            ],
            "text/plain": [
              "   duration              time_start   user_type  ... distance   generation  speed\n",
              "0      5.33 2019-01-01 00:01:47.401  Subscriber  ...     1.07        gen_x  12.00\n",
              "1      5.27 2019-01-01 00:04:43.736  Subscriber  ...     0.58  baby_boomer   6.58\n",
              "2      9.85 2019-01-01 00:06:03.997  Subscriber  ...     2.03        gen_y  12.39\n",
              "3     45.32 2019-01-01 00:07:03.545  Subscriber  ...     1.40        gen_y   1.86\n",
              "4      5.05 2019-01-01 00:07:35.945  Subscriber  ...     1.32        gen_x  15.64\n",
              "\n",
              "[5 rows x 7 columns]"
            ]
          },
          "metadata": {
            "tags": []
          },
          "execution_count": 37
        }
      ]
    },
    {
      "cell_type": "code",
      "metadata": {
        "colab": {
          "base_uri": "https://localhost:8080/",
          "height": 204
        },
        "id": "_os4TZZ3Vd9F",
        "outputId": "283e4c05-5807-4b2a-9172-513b4ebd8025"
      },
      "source": [
        "'''\r\n",
        "Run code for demo only\r\n",
        "\r\n",
        "Method 02: Variable reassignment for each step\r\n",
        "\r\n",
        "1. to remove variables\r\n",
        "2. round variables in float type to 2 decimals\r\n",
        "3. change data type of 'speed' from 'float64' to 'float32'\r\n",
        "\r\n",
        "Code is readable but we created unnecessary variables at every step\r\n",
        "'''\r\n",
        "\r\n",
        "# remove variables\r\n",
        "s1 = df.drop(columns=['station_latitude_start', 'station_longitude_start', 'station_latitude_end', 'station_longitude_end', 'birth_year'])\r\n",
        "\r\n",
        "# round numerical variables to 2 decimals\r\n",
        "s2 = s1.round(2)\r\n",
        "\r\n",
        "# change data type of speed to 'float32'\r\n",
        "s3 = s2.astype({'speed': np.float32})\r\n",
        "\r\n",
        "s3.head()"
      ],
      "execution_count": null,
      "outputs": [
        {
          "output_type": "execute_result",
          "data": {
            "text/html": [
              "<div>\n",
              "<style scoped>\n",
              "    .dataframe tbody tr th:only-of-type {\n",
              "        vertical-align: middle;\n",
              "    }\n",
              "\n",
              "    .dataframe tbody tr th {\n",
              "        vertical-align: top;\n",
              "    }\n",
              "\n",
              "    .dataframe thead th {\n",
              "        text-align: right;\n",
              "    }\n",
              "</style>\n",
              "<table border=\"1\" class=\"dataframe\">\n",
              "  <thead>\n",
              "    <tr style=\"text-align: right;\">\n",
              "      <th></th>\n",
              "      <th>duration</th>\n",
              "      <th>time_start</th>\n",
              "      <th>user_type</th>\n",
              "      <th>gender</th>\n",
              "      <th>distance</th>\n",
              "      <th>generation</th>\n",
              "      <th>speed</th>\n",
              "    </tr>\n",
              "  </thead>\n",
              "  <tbody>\n",
              "    <tr>\n",
              "      <th>0</th>\n",
              "      <td>5.33</td>\n",
              "      <td>2019-01-01 00:01:47.401</td>\n",
              "      <td>Subscriber</td>\n",
              "      <td>Male</td>\n",
              "      <td>1.07</td>\n",
              "      <td>gen_x</td>\n",
              "      <td>12.00</td>\n",
              "    </tr>\n",
              "    <tr>\n",
              "      <th>1</th>\n",
              "      <td>5.27</td>\n",
              "      <td>2019-01-01 00:04:43.736</td>\n",
              "      <td>Subscriber</td>\n",
              "      <td>Male</td>\n",
              "      <td>0.58</td>\n",
              "      <td>baby_boomer</td>\n",
              "      <td>6.58</td>\n",
              "    </tr>\n",
              "    <tr>\n",
              "      <th>2</th>\n",
              "      <td>9.85</td>\n",
              "      <td>2019-01-01 00:06:03.997</td>\n",
              "      <td>Subscriber</td>\n",
              "      <td>Male</td>\n",
              "      <td>2.03</td>\n",
              "      <td>gen_y</td>\n",
              "      <td>12.39</td>\n",
              "    </tr>\n",
              "    <tr>\n",
              "      <th>3</th>\n",
              "      <td>45.32</td>\n",
              "      <td>2019-01-01 00:07:03.545</td>\n",
              "      <td>Subscriber</td>\n",
              "      <td>Male</td>\n",
              "      <td>1.40</td>\n",
              "      <td>gen_y</td>\n",
              "      <td>1.86</td>\n",
              "    </tr>\n",
              "    <tr>\n",
              "      <th>4</th>\n",
              "      <td>5.05</td>\n",
              "      <td>2019-01-01 00:07:35.945</td>\n",
              "      <td>Subscriber</td>\n",
              "      <td>Male</td>\n",
              "      <td>1.32</td>\n",
              "      <td>gen_x</td>\n",
              "      <td>15.64</td>\n",
              "    </tr>\n",
              "  </tbody>\n",
              "</table>\n",
              "</div>"
            ],
            "text/plain": [
              "   duration              time_start   user_type  ... distance   generation  speed\n",
              "0      5.33 2019-01-01 00:01:47.401  Subscriber  ...     1.07        gen_x  12.00\n",
              "1      5.27 2019-01-01 00:04:43.736  Subscriber  ...     0.58  baby_boomer   6.58\n",
              "2      9.85 2019-01-01 00:06:03.997  Subscriber  ...     2.03        gen_y  12.39\n",
              "3     45.32 2019-01-01 00:07:03.545  Subscriber  ...     1.40        gen_y   1.86\n",
              "4      5.05 2019-01-01 00:07:35.945  Subscriber  ...     1.32        gen_x  15.64\n",
              "\n",
              "[5 rows x 7 columns]"
            ]
          },
          "metadata": {
            "tags": []
          },
          "execution_count": 38
        }
      ]
    },
    {
      "cell_type": "code",
      "metadata": {
        "colab": {
          "base_uri": "https://localhost:8080/",
          "height": 204
        },
        "id": "7eAsH7bOWpbG",
        "outputId": "5859f918-549d-4057-b01d-299c1f414933"
      },
      "source": [
        "'''\r\n",
        "Actual Version\r\n",
        "\r\n",
        "Method 03: Proper Method Chaining wtih back slash '\\'\r\n",
        "\r\n",
        "1. to remove variables\r\n",
        "2. round variables in float type to 2 decimals\r\n",
        "3. change data type of 'speed' & 'duration' from 'float64' to 'float32'\r\n",
        "\r\n",
        "'''\r\n",
        "\r\n",
        "df = df.drop(columns=['station_latitude_start', 'station_longitude_start', 'station_latitude_end', 'station_longitude_end', 'birth_year'])\\\r\n",
        "        .round(2)\\\r\n",
        "        .astype({'speed': np.float32, 'duration': np.float32})\r\n",
        "\r\n",
        "df.head()"
      ],
      "execution_count": 31,
      "outputs": [
        {
          "output_type": "execute_result",
          "data": {
            "text/html": [
              "<div>\n",
              "<style scoped>\n",
              "    .dataframe tbody tr th:only-of-type {\n",
              "        vertical-align: middle;\n",
              "    }\n",
              "\n",
              "    .dataframe tbody tr th {\n",
              "        vertical-align: top;\n",
              "    }\n",
              "\n",
              "    .dataframe thead th {\n",
              "        text-align: right;\n",
              "    }\n",
              "</style>\n",
              "<table border=\"1\" class=\"dataframe\">\n",
              "  <thead>\n",
              "    <tr style=\"text-align: right;\">\n",
              "      <th></th>\n",
              "      <th>duration</th>\n",
              "      <th>time_start</th>\n",
              "      <th>user_type</th>\n",
              "      <th>gender</th>\n",
              "      <th>distance</th>\n",
              "      <th>generation</th>\n",
              "      <th>speed</th>\n",
              "    </tr>\n",
              "  </thead>\n",
              "  <tbody>\n",
              "    <tr>\n",
              "      <th>0</th>\n",
              "      <td>5.33</td>\n",
              "      <td>2019-01-01 00:01:47.401</td>\n",
              "      <td>Subscriber</td>\n",
              "      <td>Male</td>\n",
              "      <td>1.07</td>\n",
              "      <td>gen_x</td>\n",
              "      <td>12.00</td>\n",
              "    </tr>\n",
              "    <tr>\n",
              "      <th>1</th>\n",
              "      <td>5.27</td>\n",
              "      <td>2019-01-01 00:04:43.736</td>\n",
              "      <td>Subscriber</td>\n",
              "      <td>Male</td>\n",
              "      <td>0.58</td>\n",
              "      <td>baby_boomer</td>\n",
              "      <td>6.58</td>\n",
              "    </tr>\n",
              "    <tr>\n",
              "      <th>2</th>\n",
              "      <td>9.85</td>\n",
              "      <td>2019-01-01 00:06:03.997</td>\n",
              "      <td>Subscriber</td>\n",
              "      <td>Male</td>\n",
              "      <td>2.03</td>\n",
              "      <td>gen_y</td>\n",
              "      <td>12.39</td>\n",
              "    </tr>\n",
              "    <tr>\n",
              "      <th>3</th>\n",
              "      <td>45.32</td>\n",
              "      <td>2019-01-01 00:07:03.545</td>\n",
              "      <td>Subscriber</td>\n",
              "      <td>Male</td>\n",
              "      <td>1.40</td>\n",
              "      <td>gen_y</td>\n",
              "      <td>1.86</td>\n",
              "    </tr>\n",
              "    <tr>\n",
              "      <th>4</th>\n",
              "      <td>5.05</td>\n",
              "      <td>2019-01-01 00:07:35.945</td>\n",
              "      <td>Subscriber</td>\n",
              "      <td>Male</td>\n",
              "      <td>1.32</td>\n",
              "      <td>gen_x</td>\n",
              "      <td>15.64</td>\n",
              "    </tr>\n",
              "  </tbody>\n",
              "</table>\n",
              "</div>"
            ],
            "text/plain": [
              "   duration              time_start   user_type  ... distance   generation  speed\n",
              "0      5.33 2019-01-01 00:01:47.401  Subscriber  ...     1.07        gen_x  12.00\n",
              "1      5.27 2019-01-01 00:04:43.736  Subscriber  ...     0.58  baby_boomer   6.58\n",
              "2      9.85 2019-01-01 00:06:03.997  Subscriber  ...     2.03        gen_y  12.39\n",
              "3     45.32 2019-01-01 00:07:03.545  Subscriber  ...     1.40        gen_y   1.86\n",
              "4      5.05 2019-01-01 00:07:35.945  Subscriber  ...     1.32        gen_x  15.64\n",
              "\n",
              "[5 rows x 7 columns]"
            ]
          },
          "metadata": {
            "tags": []
          },
          "execution_count": 31
        }
      ]
    },
    {
      "cell_type": "code",
      "metadata": {
        "colab": {
          "base_uri": "https://localhost:8080/",
          "height": 0
        },
        "id": "Rf1o9uGMXaSl",
        "outputId": "0528439f-af97-4ead-a574-f71a5d06af10"
      },
      "source": [
        "# let's see the changes\r\n",
        "\r\n",
        "df.info()"
      ],
      "execution_count": 32,
      "outputs": [
        {
          "output_type": "stream",
          "text": [
            "<class 'pandas.core.frame.DataFrame'>\n",
            "RangeIndex: 18982169 entries, 0 to 18982168\n",
            "Data columns (total 7 columns):\n",
            " #   Column      Dtype         \n",
            "---  ------      -----         \n",
            " 0   duration    float32       \n",
            " 1   time_start  datetime64[ns]\n",
            " 2   user_type   category      \n",
            " 3   gender      category      \n",
            " 4   distance    float32       \n",
            " 5   generation  category      \n",
            " 6   speed       float32       \n",
            "dtypes: category(3), datetime64[ns](1), float32(3)\n",
            "memory usage: 416.4 MB\n"
          ],
          "name": "stdout"
        }
      ]
    },
    {
      "cell_type": "markdown",
      "metadata": {
        "id": "vYG6vJjWalZP"
      },
      "source": [
        "## ***Lesson 07: Reindex***\r\n",
        "\r\n",
        "We can change order of variables with *.reindex()*. This is a formal way of reordering variables."
      ]
    },
    {
      "cell_type": "code",
      "metadata": {
        "colab": {
          "base_uri": "https://localhost:8080/",
          "height": 204
        },
        "id": "9HyTN8GjZycV",
        "outputId": "c3845e96-7755-4b21-ccc9-f5300b7d8e4e"
      },
      "source": [
        "# ref: https://pandas.pydata.org/docs/reference/api/pandas.DataFrame.reindex.html?highlight=reindex#pandas.DataFrame.reindex\r\n",
        "\r\n",
        "df = df.reindex(columns = ['time_start', 'user_type', 'gender', 'generation', 'duration', 'distance', 'speed'])\r\n",
        "df.head()"
      ],
      "execution_count": 33,
      "outputs": [
        {
          "output_type": "execute_result",
          "data": {
            "text/html": [
              "<div>\n",
              "<style scoped>\n",
              "    .dataframe tbody tr th:only-of-type {\n",
              "        vertical-align: middle;\n",
              "    }\n",
              "\n",
              "    .dataframe tbody tr th {\n",
              "        vertical-align: top;\n",
              "    }\n",
              "\n",
              "    .dataframe thead th {\n",
              "        text-align: right;\n",
              "    }\n",
              "</style>\n",
              "<table border=\"1\" class=\"dataframe\">\n",
              "  <thead>\n",
              "    <tr style=\"text-align: right;\">\n",
              "      <th></th>\n",
              "      <th>time_start</th>\n",
              "      <th>user_type</th>\n",
              "      <th>gender</th>\n",
              "      <th>generation</th>\n",
              "      <th>duration</th>\n",
              "      <th>distance</th>\n",
              "      <th>speed</th>\n",
              "    </tr>\n",
              "  </thead>\n",
              "  <tbody>\n",
              "    <tr>\n",
              "      <th>0</th>\n",
              "      <td>2019-01-01 00:01:47.401</td>\n",
              "      <td>Subscriber</td>\n",
              "      <td>Male</td>\n",
              "      <td>gen_x</td>\n",
              "      <td>5.33</td>\n",
              "      <td>1.07</td>\n",
              "      <td>12.00</td>\n",
              "    </tr>\n",
              "    <tr>\n",
              "      <th>1</th>\n",
              "      <td>2019-01-01 00:04:43.736</td>\n",
              "      <td>Subscriber</td>\n",
              "      <td>Male</td>\n",
              "      <td>baby_boomer</td>\n",
              "      <td>5.27</td>\n",
              "      <td>0.58</td>\n",
              "      <td>6.58</td>\n",
              "    </tr>\n",
              "    <tr>\n",
              "      <th>2</th>\n",
              "      <td>2019-01-01 00:06:03.997</td>\n",
              "      <td>Subscriber</td>\n",
              "      <td>Male</td>\n",
              "      <td>gen_y</td>\n",
              "      <td>9.85</td>\n",
              "      <td>2.03</td>\n",
              "      <td>12.39</td>\n",
              "    </tr>\n",
              "    <tr>\n",
              "      <th>3</th>\n",
              "      <td>2019-01-01 00:07:03.545</td>\n",
              "      <td>Subscriber</td>\n",
              "      <td>Male</td>\n",
              "      <td>gen_y</td>\n",
              "      <td>45.32</td>\n",
              "      <td>1.40</td>\n",
              "      <td>1.86</td>\n",
              "    </tr>\n",
              "    <tr>\n",
              "      <th>4</th>\n",
              "      <td>2019-01-01 00:07:35.945</td>\n",
              "      <td>Subscriber</td>\n",
              "      <td>Male</td>\n",
              "      <td>gen_x</td>\n",
              "      <td>5.05</td>\n",
              "      <td>1.32</td>\n",
              "      <td>15.64</td>\n",
              "    </tr>\n",
              "  </tbody>\n",
              "</table>\n",
              "</div>"
            ],
            "text/plain": [
              "               time_start   user_type gender  ... duration  distance  speed\n",
              "0 2019-01-01 00:01:47.401  Subscriber   Male  ...     5.33      1.07  12.00\n",
              "1 2019-01-01 00:04:43.736  Subscriber   Male  ...     5.27      0.58   6.58\n",
              "2 2019-01-01 00:06:03.997  Subscriber   Male  ...     9.85      2.03  12.39\n",
              "3 2019-01-01 00:07:03.545  Subscriber   Male  ...    45.32      1.40   1.86\n",
              "4 2019-01-01 00:07:35.945  Subscriber   Male  ...     5.05      1.32  15.64\n",
              "\n",
              "[5 rows x 7 columns]"
            ]
          },
          "metadata": {
            "tags": []
          },
          "execution_count": 33
        }
      ]
    },
    {
      "cell_type": "markdown",
      "metadata": {
        "id": "IPnH5OUBcYxt"
      },
      "source": [
        "## ***Lesson 08: Time Series with resample()***\r\n",
        "\r\n",
        "*.resample()* method in pandas is very useful to organize data by hour, day, week, month etc."
      ]
    },
    {
      "cell_type": "code",
      "metadata": {
        "colab": {
          "base_uri": "https://localhost:8080/",
          "height": 0
        },
        "id": "z_7vBQxLa_p4",
        "outputId": "98ce4652-a0f7-4624-c2ae-65bafb2f8eae"
      },
      "source": [
        "# let's say we want to find out monthly bike usage in 2019\r\n",
        "# ref: https://pandas.pydata.org/docs/reference/api/pandas.DataFrame.resample.html?highlight=resample#pandas.DataFrame.resample\r\n",
        "\r\n",
        "# 'M' >> group by \"month\"\r\n",
        "# parameter 'on' must be set to a 'datetime64' variable\r\n",
        "\r\n",
        "df.resample('M', on = 'time_start')['gender'].count()"
      ],
      "execution_count": 34,
      "outputs": [
        {
          "output_type": "execute_result",
          "data": {
            "text/plain": [
              "time_start\n",
              "2019-01-31     932320\n",
              "2019-02-28     906456\n",
              "2019-03-31    1255656\n",
              "2019-04-30    1627078\n",
              "2019-05-31    1755529\n",
              "2019-06-30    1925806\n",
              "2019-07-31    1984048\n",
              "2019-08-31    2117821\n",
              "2019-09-30    2237988\n",
              "2019-10-31    1938000\n",
              "2019-11-30    1393111\n",
              "2019-12-31     908356\n",
              "Freq: M, Name: gender, dtype: int64"
            ]
          },
          "metadata": {
            "tags": []
          },
          "execution_count": 34
        }
      ]
    },
    {
      "cell_type": "code",
      "metadata": {
        "colab": {
          "base_uri": "https://localhost:8080/",
          "height": 0
        },
        "id": "2F7uqnKkjht8",
        "outputId": "09808145-0c1e-4a9c-f249-1fd06ef8535e"
      },
      "source": [
        "# 'H' >> group by \"Hour\"\n",
        "# parameter 'on' must be set to a 'datetime64' variable\n",
        "\n",
        "df.resample('H', on = 'time_start')['gender'].count()"
      ],
      "execution_count": 35,
      "outputs": [
        {
          "output_type": "execute_result",
          "data": {
            "text/plain": [
              "time_start\n",
              "2019-01-01 00:00:00     125\n",
              "2019-01-01 01:00:00     255\n",
              "2019-01-01 02:00:00     261\n",
              "2019-01-01 03:00:00     179\n",
              "2019-01-01 04:00:00     114\n",
              "                       ... \n",
              "2019-12-31 19:00:00    1086\n",
              "2019-12-31 20:00:00     677\n",
              "2019-12-31 21:00:00     514\n",
              "2019-12-31 22:00:00     488\n",
              "2019-12-31 23:00:00     363\n",
              "Freq: H, Name: gender, Length: 8760, dtype: int64"
            ]
          },
          "metadata": {
            "tags": []
          },
          "execution_count": 35
        }
      ]
    },
    {
      "cell_type": "markdown",
      "metadata": {
        "id": "amQIYVIIeQBj"
      },
      "source": [
        "## ***Lesson 09: Datetime Manipulation with Pandas***\r\n",
        "\r\n",
        "In our dataframe, 'time_start' variable is in 'datetime64' format. We can extract date/time with *.dt* followed by datetime attribute/method (second, hour, day, week, day name, month & month name)."
      ]
    },
    {
      "cell_type": "code",
      "metadata": {
        "colab": {
          "base_uri": "https://localhost:8080/",
          "height": 0
        },
        "id": "S6rp2pfadLIq",
        "outputId": "a61703cd-bb34-4ac4-a5ce-c7f483dd68a3"
      },
      "source": [
        "# example: day\r\n",
        "# ref: https://pandas.pydata.org/docs/reference/api/pandas.Series.dt.day.html?highlight=day#pandas.Series.dt.day\r\n",
        "\r\n",
        "df.time_start[0:100].dt.day"
      ],
      "execution_count": 36,
      "outputs": [
        {
          "output_type": "execute_result",
          "data": {
            "text/plain": [
              "0     1\n",
              "1     1\n",
              "2     1\n",
              "3     1\n",
              "4     1\n",
              "     ..\n",
              "95    1\n",
              "96    1\n",
              "97    1\n",
              "98    1\n",
              "99    1\n",
              "Name: time_start, Length: 100, dtype: int64"
            ]
          },
          "metadata": {
            "tags": []
          },
          "execution_count": 36
        }
      ]
    },
    {
      "cell_type": "code",
      "metadata": {
        "colab": {
          "base_uri": "https://localhost:8080/",
          "height": 0
        },
        "id": "BodJR7PcfuXY",
        "outputId": "c84de457-53c1-4ace-f994-639a866af860"
      },
      "source": [
        "# example: day name (i.e. Monday)\r\n",
        "# ref: https://pandas.pydata.org/docs/reference/api/pandas.Series.dt.day_name.html?highlight=day_name\r\n",
        "\r\n",
        "df.time_start[0:100].dt.day_name()"
      ],
      "execution_count": 37,
      "outputs": [
        {
          "output_type": "execute_result",
          "data": {
            "text/plain": [
              "0     Tuesday\n",
              "1     Tuesday\n",
              "2     Tuesday\n",
              "3     Tuesday\n",
              "4     Tuesday\n",
              "       ...   \n",
              "95    Tuesday\n",
              "96    Tuesday\n",
              "97    Tuesday\n",
              "98    Tuesday\n",
              "99    Tuesday\n",
              "Name: time_start, Length: 100, dtype: object"
            ]
          },
          "metadata": {
            "tags": []
          },
          "execution_count": 37
        }
      ]
    },
    {
      "cell_type": "code",
      "metadata": {
        "colab": {
          "base_uri": "https://localhost:8080/",
          "height": 0
        },
        "id": "yKqcF4CWf8uR",
        "outputId": "76202d3e-a0c7-458d-ba39-8b14d92304e8"
      },
      "source": [
        "# example: month name (i.e. January)\r\n",
        "# ref: https://pandas.pydata.org/docs/reference/api/pandas.Series.dt.month_name.html?highlight=month_name#pandas.Series.dt.month_name\r\n",
        "\r\n",
        "df.time_start[0:100].dt.month_name()"
      ],
      "execution_count": 38,
      "outputs": [
        {
          "output_type": "execute_result",
          "data": {
            "text/plain": [
              "0     January\n",
              "1     January\n",
              "2     January\n",
              "3     January\n",
              "4     January\n",
              "       ...   \n",
              "95    January\n",
              "96    January\n",
              "97    January\n",
              "98    January\n",
              "99    January\n",
              "Name: time_start, Length: 100, dtype: object"
            ]
          },
          "metadata": {
            "tags": []
          },
          "execution_count": 38
        }
      ]
    },
    {
      "cell_type": "markdown",
      "metadata": {
        "id": "BRcwDT4goGT8"
      },
      "source": [
        "## ***Lesson 10: Pandas Groupby***\r\n",
        "\r\n",
        "Groupby can be used together with Count/Sum as an alternative to *resample()*. When done in the right way, we can combine groupby with datetime manipulation. \r\n",
        "\r\n",
        "For example: we can group our data set by month and count activity for each."
      ]
    },
    {
      "cell_type": "code",
      "metadata": {
        "colab": {
          "base_uri": "https://localhost:8080/",
          "height": 0
        },
        "id": "qPQi1n55gYk2",
        "outputId": "3204b4c2-4294-4fd6-bd84-b5e51fb2c53c"
      },
      "source": [
        "# extract 'month name' from 'time_start' and group by month\r\n",
        "# count activity of each month\r\n",
        "\r\n",
        "t = df.groupby(by = df.time_start.dt.month_name())['gender'].count()\r\n",
        "t"
      ],
      "execution_count": 39,
      "outputs": [
        {
          "output_type": "execute_result",
          "data": {
            "text/plain": [
              "time_start\n",
              "April        1627078\n",
              "August       2117821\n",
              "December      908356\n",
              "February      906456\n",
              "January       932320\n",
              "July         1984048\n",
              "June         1925806\n",
              "March        1255656\n",
              "May          1755529\n",
              "November     1393111\n",
              "October      1938000\n",
              "September    2237988\n",
              "Name: gender, dtype: int64"
            ]
          },
          "metadata": {
            "tags": []
          },
          "execution_count": 39
        }
      ]
    },
    {
      "cell_type": "code",
      "metadata": {
        "colab": {
          "base_uri": "https://localhost:8080/",
          "height": 0
        },
        "id": "N1faD3XzkBu1",
        "outputId": "f3b05055-7cdd-47db-b9aa-69664d5c96f1"
      },
      "source": [
        "# current index is sort alphabetically\n",
        "\n",
        "t.index"
      ],
      "execution_count": 40,
      "outputs": [
        {
          "output_type": "execute_result",
          "data": {
            "text/plain": [
              "Index(['April', 'August', 'December', 'February', 'January', 'July', 'June',\n",
              "       'March', 'May', 'November', 'October', 'September'],\n",
              "      dtype='object', name='time_start')"
            ]
          },
          "metadata": {
            "tags": []
          },
          "execution_count": 40
        }
      ]
    },
    {
      "cell_type": "code",
      "metadata": {
        "colab": {
          "base_uri": "https://localhost:8080/",
          "height": 0
        },
        "id": "NhwAXGImkhg4",
        "outputId": "a69097a7-aee0-4be3-dd62-b7bf1d7210ab"
      },
      "source": [
        "# we can sort index by providing list of values\n",
        "\n",
        "t = t.reindex(['January', 'February', 'March', 'April', 'May', 'June',\n",
        "                'July', 'August', 'September', 'October', 'November', 'December'])\n",
        "\n",
        "t"
      ],
      "execution_count": 44,
      "outputs": [
        {
          "output_type": "execute_result",
          "data": {
            "text/plain": [
              "time_start\n",
              "January       932320\n",
              "February      906456\n",
              "March        1255656\n",
              "April        1627078\n",
              "May          1755529\n",
              "June         1925806\n",
              "July         1984048\n",
              "August       2117821\n",
              "September    2237988\n",
              "October      1938000\n",
              "November     1393111\n",
              "December      908356\n",
              "Name: gender, dtype: int64"
            ]
          },
          "metadata": {
            "tags": []
          },
          "execution_count": 44
        }
      ]
    },
    {
      "cell_type": "code",
      "metadata": {
        "colab": {
          "base_uri": "https://localhost:8080/",
          "height": 0
        },
        "id": "5RT48qPZpt9a",
        "outputId": "b26772e8-563b-4175-aa97-5bf2418d1f7e"
      },
      "source": [
        "# group data by \"Hour\" to get bike sharing activity on hourly basis\r\n",
        "\r\n",
        "df.groupby(by = df.time_start.dt.hour)['gender'].count()"
      ],
      "execution_count": 43,
      "outputs": [
        {
          "output_type": "execute_result",
          "data": {
            "text/plain": [
              "time_start\n",
              "0      168082\n",
              "1       94773\n",
              "2       57679\n",
              "3       37360\n",
              "4       41697\n",
              "5      135311\n",
              "6      431501\n",
              "7      906516\n",
              "8     1575432\n",
              "9     1243327\n",
              "10     857928\n",
              "11     877483\n",
              "12    1004565\n",
              "13    1040427\n",
              "14    1072548\n",
              "15    1132770\n",
              "16    1320268\n",
              "17    1861592\n",
              "18    1752979\n",
              "19    1221752\n",
              "20     833847\n",
              "21     584420\n",
              "22     439059\n",
              "23     290853\n",
              "Name: gender, dtype: int64"
            ]
          },
          "metadata": {
            "tags": []
          },
          "execution_count": 43
        }
      ]
    },
    {
      "cell_type": "markdown",
      "metadata": {
        "id": "GKmTj5YQrPac"
      },
      "source": [
        "## ***Lesson 11: String Method***\r\n",
        "\r\n",
        "Pandas String method, *.str* is an conveient way to work with Pandas Series (**NOT list or Numpy array**). The reason it is called *'string'* method: it only works for pandas Series with data type 'string'.\r\n",
        "\r\n",
        "What can we do with string method? Some common applications for pandas Series are:\r\n",
        "\r\n",
        "1. convert string from lower to upper case\r\n",
        "2. slice substring from text\r\n",
        "3. filter data\r\n",
        "4. find & replace specific text\r\n",
        "\r\n",
        "and many more....\r\n",
        "\r\n",
        "Check [documentation](https://pandas.pydata.org/pandas-docs/stable/user_guide/text.html#string-methods) for details"
      ]
    },
    {
      "cell_type": "code",
      "metadata": {
        "id": "FpzLr0ZTqIKw",
        "colab": {
          "base_uri": "https://localhost:8080/",
          "height": 0
        },
        "outputId": "a2bce7f1-d84a-441b-a014-02720e371f79"
      },
      "source": [
        "'''\n",
        "In Lesson 03, we group 'birth_year' into 'generation' category. \n",
        "However, category names are in lower case and separated by underscore '_'\n",
        "\n",
        "'''\n",
        "\n",
        "pd.Series(df.generation.unique())"
      ],
      "execution_count": 49,
      "outputs": [
        {
          "output_type": "execute_result",
          "data": {
            "text/plain": [
              "0          gen_x\n",
              "1    baby_boomer\n",
              "2          gen_y\n",
              "3          gen_z\n",
              "4         silent\n",
              "dtype: category\n",
              "Categories (5, object): ['gen_x', 'baby_boomer', 'gen_y', 'gen_z', 'silent']"
            ]
          },
          "metadata": {
            "tags": []
          },
          "execution_count": 49
        }
      ]
    },
    {
      "cell_type": "code",
      "metadata": {
        "colab": {
          "base_uri": "https://localhost:8080/",
          "height": 0
        },
        "id": "vAn0E8sJoKW_",
        "outputId": "a9fe2eef-eb4c-4de8-87c1-df2cda9ff095"
      },
      "source": [
        "'''\n",
        "example 01: convert text from lower to upper case & replace string\n",
        "\n",
        "with .str.title(), we convert first letter of each word to upper case\n",
        "with .str.replace(), we replace underscore '_' with space ' '\n",
        "\n",
        "'''\n",
        "\n",
        "pd.Series(df.generation.unique())\\\n",
        ".str.title()\\\n",
        ".str.replace('_', ' ')"
      ],
      "execution_count": 51,
      "outputs": [
        {
          "output_type": "execute_result",
          "data": {
            "text/plain": [
              "0          Gen X\n",
              "1    Baby Boomer\n",
              "2          Gen Y\n",
              "3          Gen Z\n",
              "4         Silent\n",
              "dtype: object"
            ]
          },
          "metadata": {
            "tags": []
          },
          "execution_count": 51
        }
      ]
    },
    {
      "cell_type": "code",
      "metadata": {
        "colab": {
          "base_uri": "https://localhost:8080/",
          "height": 0
        },
        "id": "tlA5Wixwow0D",
        "outputId": "f642cf33-9d78-45ad-fead-3b747fa81bc1"
      },
      "source": [
        "'''\n",
        "In Lesson 09, we group 'time_start' by month name. \n",
        "What if we only want first 3-letter from month name?\n",
        "\n",
        "'''\n",
        "\n",
        "t.index"
      ],
      "execution_count": 60,
      "outputs": [
        {
          "output_type": "execute_result",
          "data": {
            "text/plain": [
              "Index(['January', 'February', 'March', 'April', 'May', 'June', 'July',\n",
              "       'August', 'September', 'October', 'November', 'December'],\n",
              "      dtype='object', name='time_start')"
            ]
          },
          "metadata": {
            "tags": []
          },
          "execution_count": 60
        }
      ]
    },
    {
      "cell_type": "code",
      "metadata": {
        "colab": {
          "base_uri": "https://localhost:8080/",
          "height": 0
        },
        "id": "HO8MbSvjqGB5",
        "outputId": "3e672726-f62a-4f56-d2ac-679e4ae01bbf"
      },
      "source": [
        "'''\n",
        "example 02: slice a string\n",
        "\n",
        "slice first 3 letters from month name\n",
        "\n",
        "'''\n",
        "\n",
        "t.index.str[0:3]"
      ],
      "execution_count": 59,
      "outputs": [
        {
          "output_type": "execute_result",
          "data": {
            "text/plain": [
              "Index(['Jan', 'Feb', 'Mar', 'Apr', 'May', 'Jun', 'Jul', 'Aug', 'Sep', 'Oct',\n",
              "       'Nov', 'Dec'],\n",
              "      dtype='object', name='time_start')"
            ]
          },
          "metadata": {
            "tags": []
          },
          "execution_count": 59
        }
      ]
    },
    {
      "cell_type": "code",
      "metadata": {
        "colab": {
          "base_uri": "https://localhost:8080/"
        },
        "id": "S1H2oF2LqiV9",
        "outputId": "0ccce592-baaa-4da7-fa9f-e0b39628902c"
      },
      "source": [
        "'''\n",
        "example 03: filter by rows\n",
        "\n",
        "filter pandas Series index with string ends with 'ber'\n",
        "\n",
        "'''\n",
        "\n",
        "t.index.str.endswith('ber')"
      ],
      "execution_count": 77,
      "outputs": [
        {
          "output_type": "execute_result",
          "data": {
            "text/plain": [
              "array([False, False, False, False, False, False, False, False,  True,\n",
              "        True,  True,  True])"
            ]
          },
          "metadata": {
            "tags": []
          },
          "execution_count": 77
        }
      ]
    },
    {
      "cell_type": "code",
      "metadata": {
        "colab": {
          "base_uri": "https://localhost:8080/"
        },
        "id": "f5B0wU4wrhI4",
        "outputId": "d65e6e84-cd5f-4cbb-dc51-3edecc350adc"
      },
      "source": [
        "# filter pandas Series with index name ends with 'ber'\n",
        "\n",
        "t[t.index.str.endswith('ber')]"
      ],
      "execution_count": 78,
      "outputs": [
        {
          "output_type": "execute_result",
          "data": {
            "text/plain": [
              "time_start\n",
              "September    2237988\n",
              "October      1938000\n",
              "November     1393111\n",
              "December      908356\n",
              "Name: gender, dtype: int64"
            ]
          },
          "metadata": {
            "tags": []
          },
          "execution_count": 78
        }
      ]
    },
    {
      "cell_type": "code",
      "metadata": {
        "colab": {
          "base_uri": "https://localhost:8080/",
          "height": 0
        },
        "id": "XTf-G02vsHB8",
        "outputId": "47e425e0-8622-4241-9d59-c76c064d0f90"
      },
      "source": [
        "'''\n",
        "In this dataframe, we only have 7 columns.\n",
        "What if we to check columns contain 'gen' keyword?\n",
        "\n",
        "'''\n",
        "\n",
        "df.columns.values"
      ],
      "execution_count": 65,
      "outputs": [
        {
          "output_type": "execute_result",
          "data": {
            "text/plain": [
              "array(['time_start', 'user_type', 'gender', 'generation', 'duration',\n",
              "       'distance', 'speed'], dtype=object)"
            ]
          },
          "metadata": {
            "tags": []
          },
          "execution_count": 65
        }
      ]
    },
    {
      "cell_type": "code",
      "metadata": {
        "colab": {
          "base_uri": "https://localhost:8080/",
          "height": 0
        },
        "id": "MsmNJN5IstqL",
        "outputId": "1faf3de0-05ef-4d25-e95b-ae95b06a18c2"
      },
      "source": [
        "'''\n",
        "example 04: filter by columns\n",
        "\n",
        "filter pandas columns index contains 'gen'\n",
        "result >> True / False for matching values\n",
        "\n",
        "'''\n",
        "\n",
        "df.columns.str.contains('gen')"
      ],
      "execution_count": 66,
      "outputs": [
        {
          "output_type": "execute_result",
          "data": {
            "text/plain": [
              "array([False, False,  True,  True, False, False, False])"
            ]
          },
          "metadata": {
            "tags": []
          },
          "execution_count": 66
        }
      ]
    },
    {
      "cell_type": "code",
      "metadata": {
        "colab": {
          "base_uri": "https://localhost:8080/",
          "height": 204
        },
        "id": "xs_Wicz9tN5_",
        "outputId": "9b8b09f8-1114-41a3-8e4f-f4744aebf037"
      },
      "source": [
        "# filter dataframe columns with index name contains 'gen'\n",
        "\n",
        "df.loc[:, df.columns.str.contains('gen')].head()"
      ],
      "execution_count": 69,
      "outputs": [
        {
          "output_type": "execute_result",
          "data": {
            "text/html": [
              "<div>\n",
              "<style scoped>\n",
              "    .dataframe tbody tr th:only-of-type {\n",
              "        vertical-align: middle;\n",
              "    }\n",
              "\n",
              "    .dataframe tbody tr th {\n",
              "        vertical-align: top;\n",
              "    }\n",
              "\n",
              "    .dataframe thead th {\n",
              "        text-align: right;\n",
              "    }\n",
              "</style>\n",
              "<table border=\"1\" class=\"dataframe\">\n",
              "  <thead>\n",
              "    <tr style=\"text-align: right;\">\n",
              "      <th></th>\n",
              "      <th>gender</th>\n",
              "      <th>generation</th>\n",
              "    </tr>\n",
              "  </thead>\n",
              "  <tbody>\n",
              "    <tr>\n",
              "      <th>0</th>\n",
              "      <td>Male</td>\n",
              "      <td>gen_x</td>\n",
              "    </tr>\n",
              "    <tr>\n",
              "      <th>1</th>\n",
              "      <td>Male</td>\n",
              "      <td>baby_boomer</td>\n",
              "    </tr>\n",
              "    <tr>\n",
              "      <th>2</th>\n",
              "      <td>Male</td>\n",
              "      <td>gen_y</td>\n",
              "    </tr>\n",
              "    <tr>\n",
              "      <th>3</th>\n",
              "      <td>Male</td>\n",
              "      <td>gen_y</td>\n",
              "    </tr>\n",
              "    <tr>\n",
              "      <th>4</th>\n",
              "      <td>Male</td>\n",
              "      <td>gen_x</td>\n",
              "    </tr>\n",
              "  </tbody>\n",
              "</table>\n",
              "</div>"
            ],
            "text/plain": [
              "  gender   generation\n",
              "0   Male        gen_x\n",
              "1   Male  baby_boomer\n",
              "2   Male        gen_y\n",
              "3   Male        gen_y\n",
              "4   Male        gen_x"
            ]
          },
          "metadata": {
            "tags": []
          },
          "execution_count": 69
        }
      ]
    },
    {
      "cell_type": "code",
      "metadata": {
        "colab": {
          "base_uri": "https://localhost:8080/"
        },
        "id": "XRvI54hetjkD",
        "outputId": "9cdec619-967a-4ae0-8641-b54572b8ac3b"
      },
      "source": [
        "'''\n",
        "wondering why use .str instead of for-loop + list comprehension?\n",
        "\n",
        "'''\n",
        "\n",
        "month_name = ['January', 'February', np.nan, 'April', 'May', 'June', 'July',\n",
        "                'August', 'September', 'October', 'November', 'December']  \n",
        "\n",
        "month_name"
      ],
      "execution_count": 73,
      "outputs": [
        {
          "output_type": "execute_result",
          "data": {
            "text/plain": [
              "['January',\n",
              " 'February',\n",
              " nan,\n",
              " 'April',\n",
              " 'May',\n",
              " 'June',\n",
              " 'July',\n",
              " 'August',\n",
              " 'September',\n",
              " 'October',\n",
              " 'November',\n",
              " 'December']"
            ]
          },
          "metadata": {
            "tags": []
          },
          "execution_count": 73
        }
      ]
    },
    {
      "cell_type": "code",
      "metadata": {
        "colab": {
          "base_uri": "https://localhost:8080/",
          "height": 215
        },
        "id": "BT-zGBhwu4dE",
        "outputId": "85803b4f-ecb4-4a02-efcc-9c290552a16e"
      },
      "source": [
        "# use of for-loop within list comprehension will fail if there is NaN\n",
        "\n",
        "[word[0:3] for word in month_name]"
      ],
      "execution_count": 71,
      "outputs": [
        {
          "output_type": "error",
          "ename": "TypeError",
          "evalue": "ignored",
          "traceback": [
            "\u001b[0;31m---------------------------------------------------------------------------\u001b[0m",
            "\u001b[0;31mTypeError\u001b[0m                                 Traceback (most recent call last)",
            "\u001b[0;32m<ipython-input-71-ef56d53bd951>\u001b[0m in \u001b[0;36m<module>\u001b[0;34m()\u001b[0m\n\u001b[0;32m----> 1\u001b[0;31m \u001b[0;34m[\u001b[0m\u001b[0mword\u001b[0m\u001b[0;34m[\u001b[0m\u001b[0;36m0\u001b[0m\u001b[0;34m:\u001b[0m\u001b[0;36m3\u001b[0m\u001b[0;34m]\u001b[0m \u001b[0;32mfor\u001b[0m \u001b[0mword\u001b[0m \u001b[0;32min\u001b[0m \u001b[0mmonth_name\u001b[0m\u001b[0;34m]\u001b[0m\u001b[0;34m\u001b[0m\u001b[0;34m\u001b[0m\u001b[0m\n\u001b[0m",
            "\u001b[0;32m<ipython-input-71-ef56d53bd951>\u001b[0m in \u001b[0;36m<listcomp>\u001b[0;34m(.0)\u001b[0m\n\u001b[0;32m----> 1\u001b[0;31m \u001b[0;34m[\u001b[0m\u001b[0mword\u001b[0m\u001b[0;34m[\u001b[0m\u001b[0;36m0\u001b[0m\u001b[0;34m:\u001b[0m\u001b[0;36m3\u001b[0m\u001b[0;34m]\u001b[0m \u001b[0;32mfor\u001b[0m \u001b[0mword\u001b[0m \u001b[0;32min\u001b[0m \u001b[0mmonth_name\u001b[0m\u001b[0;34m]\u001b[0m\u001b[0;34m\u001b[0m\u001b[0;34m\u001b[0m\u001b[0m\n\u001b[0m",
            "\u001b[0;31mTypeError\u001b[0m: 'float' object is not subscriptable"
          ]
        }
      ]
    },
    {
      "cell_type": "code",
      "metadata": {
        "colab": {
          "base_uri": "https://localhost:8080/",
          "height": 273
        },
        "id": "wzCSJwAbwIXo",
        "outputId": "6110ab4e-9b74-42c6-edb6-0bc3e0efb5bf"
      },
      "source": [
        "# apply function to slice the substring fail\n",
        "\n",
        "pd.Series(month_name).apply(lambda word: word[0:3])"
      ],
      "execution_count": 76,
      "outputs": [
        {
          "output_type": "error",
          "ename": "TypeError",
          "evalue": "ignored",
          "traceback": [
            "\u001b[0;31m---------------------------------------------------------------------------\u001b[0m",
            "\u001b[0;31mTypeError\u001b[0m                                 Traceback (most recent call last)",
            "\u001b[0;32m<ipython-input-76-14f68def32b6>\u001b[0m in \u001b[0;36m<module>\u001b[0;34m()\u001b[0m\n\u001b[0;32m----> 1\u001b[0;31m \u001b[0mpd\u001b[0m\u001b[0;34m.\u001b[0m\u001b[0mSeries\u001b[0m\u001b[0;34m(\u001b[0m\u001b[0mmonth_name\u001b[0m\u001b[0;34m)\u001b[0m\u001b[0;34m.\u001b[0m\u001b[0mapply\u001b[0m\u001b[0;34m(\u001b[0m\u001b[0;32mlambda\u001b[0m \u001b[0mword\u001b[0m\u001b[0;34m:\u001b[0m \u001b[0mword\u001b[0m\u001b[0;34m[\u001b[0m\u001b[0;36m0\u001b[0m\u001b[0;34m:\u001b[0m\u001b[0;36m3\u001b[0m\u001b[0;34m]\u001b[0m\u001b[0;34m)\u001b[0m\u001b[0;34m\u001b[0m\u001b[0;34m\u001b[0m\u001b[0m\n\u001b[0m",
            "\u001b[0;32m/usr/local/lib/python3.7/dist-packages/pandas/core/series.py\u001b[0m in \u001b[0;36mapply\u001b[0;34m(self, func, convert_dtype, args, **kwds)\u001b[0m\n\u001b[1;32m   4211\u001b[0m             \u001b[0;32melse\u001b[0m\u001b[0;34m:\u001b[0m\u001b[0;34m\u001b[0m\u001b[0;34m\u001b[0m\u001b[0m\n\u001b[1;32m   4212\u001b[0m                 \u001b[0mvalues\u001b[0m \u001b[0;34m=\u001b[0m \u001b[0mself\u001b[0m\u001b[0;34m.\u001b[0m\u001b[0mastype\u001b[0m\u001b[0;34m(\u001b[0m\u001b[0mobject\u001b[0m\u001b[0;34m)\u001b[0m\u001b[0;34m.\u001b[0m\u001b[0m_values\u001b[0m\u001b[0;34m\u001b[0m\u001b[0;34m\u001b[0m\u001b[0m\n\u001b[0;32m-> 4213\u001b[0;31m                 \u001b[0mmapped\u001b[0m \u001b[0;34m=\u001b[0m \u001b[0mlib\u001b[0m\u001b[0;34m.\u001b[0m\u001b[0mmap_infer\u001b[0m\u001b[0;34m(\u001b[0m\u001b[0mvalues\u001b[0m\u001b[0;34m,\u001b[0m \u001b[0mf\u001b[0m\u001b[0;34m,\u001b[0m \u001b[0mconvert\u001b[0m\u001b[0;34m=\u001b[0m\u001b[0mconvert_dtype\u001b[0m\u001b[0;34m)\u001b[0m\u001b[0;34m\u001b[0m\u001b[0;34m\u001b[0m\u001b[0m\n\u001b[0m\u001b[1;32m   4214\u001b[0m \u001b[0;34m\u001b[0m\u001b[0m\n\u001b[1;32m   4215\u001b[0m         \u001b[0;32mif\u001b[0m \u001b[0mlen\u001b[0m\u001b[0;34m(\u001b[0m\u001b[0mmapped\u001b[0m\u001b[0;34m)\u001b[0m \u001b[0;32mand\u001b[0m \u001b[0misinstance\u001b[0m\u001b[0;34m(\u001b[0m\u001b[0mmapped\u001b[0m\u001b[0;34m[\u001b[0m\u001b[0;36m0\u001b[0m\u001b[0;34m]\u001b[0m\u001b[0;34m,\u001b[0m \u001b[0mSeries\u001b[0m\u001b[0;34m)\u001b[0m\u001b[0;34m:\u001b[0m\u001b[0;34m\u001b[0m\u001b[0;34m\u001b[0m\u001b[0m\n",
            "\u001b[0;32mpandas/_libs/lib.pyx\u001b[0m in \u001b[0;36mpandas._libs.lib.map_infer\u001b[0;34m()\u001b[0m\n",
            "\u001b[0;32m<ipython-input-76-14f68def32b6>\u001b[0m in \u001b[0;36m<lambda>\u001b[0;34m(word)\u001b[0m\n\u001b[0;32m----> 1\u001b[0;31m \u001b[0mpd\u001b[0m\u001b[0;34m.\u001b[0m\u001b[0mSeries\u001b[0m\u001b[0;34m(\u001b[0m\u001b[0mmonth_name\u001b[0m\u001b[0;34m)\u001b[0m\u001b[0;34m.\u001b[0m\u001b[0mapply\u001b[0m\u001b[0;34m(\u001b[0m\u001b[0;32mlambda\u001b[0m \u001b[0mword\u001b[0m\u001b[0;34m:\u001b[0m \u001b[0mword\u001b[0m\u001b[0;34m[\u001b[0m\u001b[0;36m0\u001b[0m\u001b[0;34m:\u001b[0m\u001b[0;36m3\u001b[0m\u001b[0;34m]\u001b[0m\u001b[0;34m)\u001b[0m\u001b[0;34m\u001b[0m\u001b[0;34m\u001b[0m\u001b[0m\n\u001b[0m",
            "\u001b[0;31mTypeError\u001b[0m: 'float' object is not subscriptable"
          ]
        }
      ]
    },
    {
      "cell_type": "code",
      "metadata": {
        "colab": {
          "base_uri": "https://localhost:8080/"
        },
        "id": "wOUFpCDnvCIY",
        "outputId": "f4a04103-40b8-41a0-c20e-308e6afbd7c3"
      },
      "source": [
        "# .str will skip NaN item & operation doesn't produce error\n",
        "\n",
        "pd.Series(month_name).str[0:3]"
      ],
      "execution_count": 72,
      "outputs": [
        {
          "output_type": "execute_result",
          "data": {
            "text/plain": [
              "0     Jan\n",
              "1     Feb\n",
              "2     NaN\n",
              "3     Apr\n",
              "4     May\n",
              "5     Jun\n",
              "6     Jul\n",
              "7     Aug\n",
              "8     Sep\n",
              "9     Oct\n",
              "10    Nov\n",
              "11    Dec\n",
              "dtype: object"
            ]
          },
          "metadata": {
            "tags": []
          },
          "execution_count": 72
        }
      ]
    },
    {
      "cell_type": "code",
      "metadata": {
        "id": "tlBDJBR3vLzP"
      },
      "source": [
        ""
      ],
      "execution_count": null,
      "outputs": []
    }
  ]
}