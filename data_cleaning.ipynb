{
  "nbformat": 4,
  "nbformat_minor": 0,
  "metadata": {
    "colab": {
      "name": "data_cleaning.ipynb",
      "provenance": [],
      "collapsed_sections": [
        "St7Ea8h3PfDn",
        "7u1hHWvrGKan",
        "YfFGwtXNGRJ4"
      ],
      "toc_visible": true,
      "mount_file_id": "1v2xOtI6QUgWYc1QxBFFiiGStjgJLzKuv",
      "authorship_tag": "ABX9TyNwGLTSlbbgS5Irqu98H96v"
    },
    "kernelspec": {
      "name": "python3",
      "display_name": "Python 3"
    }
  },
  "cells": [
    {
      "cell_type": "markdown",
      "metadata": {
        "id": "Ix5AJrRDbTEg"
      },
      "source": [
        "# ***Bike Sharing in New York, U.S 2019***\n",
        "\n",
        "This is part of my journey towards mastering Python for Data Science. Below I documented few lessons learned through out the data cleaning/wrangling process.\n",
        "\n",
        "I use United States bike sharing data (particularly New York City) for data cleaning; please visit [bikeshare.com](https://www.citibikenyc.com/system-data) for data."
      ]
    },
    {
      "cell_type": "markdown",
      "metadata": {
        "id": "ZxWaDwZ_dftE"
      },
      "source": [
        "## Python Library"
      ]
    },
    {
      "cell_type": "code",
      "metadata": {
        "id": "MOmJOktQeYKB",
        "colab": {
          "base_uri": "https://localhost:8080/"
        },
        "outputId": "bea1d199-4b60-4fb7-f291-dccda3fda239"
      },
      "source": [
        "# install haversine if required\n",
        "# use memory_profiler to check memory usage for each command\n",
        "\n",
        "!pip install haversine memory_profiler"
      ],
      "execution_count": 1,
      "outputs": [
        {
          "output_type": "stream",
          "text": [
            "Collecting haversine\n",
            "  Downloading https://files.pythonhosted.org/packages/f4/52/a13286844780c7b1740edbbee8a8f0524e2a6d51c068b59dda39a6a119f5/haversine-2.3.0-py2.py3-none-any.whl\n",
            "Collecting memory_profiler\n",
            "  Downloading https://files.pythonhosted.org/packages/8f/fd/d92b3295657f8837e0177e7b48b32d6651436f0293af42b76d134c3bb489/memory_profiler-0.58.0.tar.gz\n",
            "Requirement already satisfied: psutil in /usr/local/lib/python3.7/dist-packages (from memory_profiler) (5.4.8)\n",
            "Building wheels for collected packages: memory-profiler\n",
            "  Building wheel for memory-profiler (setup.py) ... \u001b[?25l\u001b[?25hdone\n",
            "  Created wheel for memory-profiler: filename=memory_profiler-0.58.0-cp37-none-any.whl size=30180 sha256=d483b655d6e5052b5a3c3c814acd087a7f4a3a50b7f7d9d043d9ea296f6cf4de\n",
            "  Stored in directory: /root/.cache/pip/wheels/02/e4/0b/aaab481fc5dd2a4ea59e78bc7231bb6aae7635ca7ee79f8ae5\n",
            "Successfully built memory-profiler\n",
            "Installing collected packages: haversine, memory-profiler\n",
            "Successfully installed haversine-2.3.0 memory-profiler-0.58.0\n"
          ],
          "name": "stdout"
        }
      ]
    },
    {
      "cell_type": "code",
      "metadata": {
        "id": "sXTSfOOEdAsn"
      },
      "source": [
        "# data analysis\n",
        "import numpy as np\n",
        "import pandas as pd\n",
        "\n",
        "# Operating System\n",
        "from glob import glob\n",
        "from os import path\n",
        "from pathlib import Path\n",
        "\n",
        "# calculate distance between geo coordinates\n",
        "from haversine import haversine_vector, Unit\n",
        "\n",
        "%load_ext memory_profiler"
      ],
      "execution_count": 1,
      "outputs": []
    },
    {
      "cell_type": "markdown",
      "metadata": {
        "id": "EzV01uqjm43z"
      },
      "source": [
        "## Lesson 01: Import CSV, systematically & efficiently\n",
        "\n",
        "After trial & error, I find out various ways of import CSV, specifically multiple CSV files. Most courses teach ***Pandas read_csv()*** method for single file, and usually the file size is small for education purpose..\n",
        "\n",
        "However, in reality, an analyst might has to gather multipe CSV files which each file could be huge in size. In this case, bike sharing monthly file is 100 MB+. We will need to analyze 12-month worth of data.\n",
        "\n",
        "\n",
        "Here I demonstrate how the concept of _**Don't Repeat Yourself (DRY)**_ - avoid long & repetitive codes for similar task, is applicable in practical context."
      ]
    },
    {
      "cell_type": "code",
      "metadata": {
        "colab": {
          "base_uri": "https://localhost:8080/"
        },
        "id": "DacR_O_brDCF",
        "outputId": "d93e69ab-1c9a-45cb-fe85-a81997030f45"
      },
      "source": [
        "# list files available in the 'New York Bike Share' directory\n",
        "# 13 files in the directory which we only need file in format \"*-citibike-tripdata.csv\" (i.e. 201901-citibike-tripdata.csv etc)\n",
        "# each file is 100 MB+\n",
        "\n",
        "!ls -lh /content/drive/MyDrive/'New York Bike Share'"
      ],
      "execution_count": null,
      "outputs": [
        {
          "output_type": "stream",
          "text": [
            "total 5.4G\n",
            "-rw------- 1 root root 176M Feb 11  2019 201901-citibike-tripdata.csv\n",
            "-rw------- 1 root root 172M Mar  4  2019 201902-citibike-tripdata.csv\n",
            "-rw------- 1 root root 242M Apr 15  2019 201903-citibike-tripdata.csv\n",
            "-rw------- 1 root root 322M May  6  2019 201904-citibike-tripdata.csv\n",
            "-rw------- 1 root root 351M Jun 11  2019 201905-citibike-tripdata.csv\n",
            "-rw------- 1 root root 387M Jul 15  2019 201906-citibike-tripdata.csv\n",
            "-rw------- 1 root root 397M Aug  5  2019 201907-citibike-tripdata.csv\n",
            "-rw------- 1 root root 426M Sep 16  2019 201908-citibike-tripdata.csv\n",
            "-rw------- 1 root root 443M Oct 11  2019 201909-citibike-tripdata.csv\n",
            "-rw------- 1 root root 379M Nov  5  2019 201910-citibike-tripdata.csv\n",
            "-rw------- 1 root root 268M Dec 20  2019 201911-citibike-tripdata.csv\n",
            "-rw------- 1 root root 173M Jan 21  2020 201912-citibike-tripdata.csv\n",
            "-rw------- 1 root root 1.7G Feb 19 02:04 new_york_bikeshare_2019.csv\n"
          ],
          "name": "stdout"
        }
      ]
    },
    {
      "cell_type": "markdown",
      "metadata": {
        "id": "0eZDsFEivSSB"
      },
      "source": [
        "### BEFORE: The Inefficient Way"
      ]
    },
    {
      "cell_type": "code",
      "metadata": {
        "id": "Km-Zbfyehb7j"
      },
      "source": [
        "'''\n",
        "DON'T RUN... For demo only...\n",
        "\n",
        "Issue: repetitive codes that require copy + paste and are error prone.\n",
        "Note: Imagine we have files for 5 years (60 months) within the same directory ??\n",
        "\n",
        "file_01 = pd.read_csv('/content/drive/MyDrive/New York Bike Share/201901-citibike-tripdata.csv')\n",
        "file_02 = pd.read_csv('/content/drive/MyDrive/New York Bike Share/201902-citibike-tripdata.csv')\n",
        "file_03 = pd.read_csv('/content/drive/MyDrive/New York Bike Share/201903-citibike-tripdata.csv')\n",
        "file_04 = pd.read_csv('/content/drive/MyDrive/New York Bike Share/201904-citibike-tripdata.csv')\n",
        "file_05 = pd.read_csv('/content/drive/MyDrive/New York Bike Share/201905-citibike-tripdata.csv')\n",
        "file_06 = pd.read_csv('/content/drive/MyDrive/New York Bike Share/201906-citibike-tripdata.csv')\n",
        "file_07 = pd.read_csv('/content/drive/MyDrive/New York Bike Share/201907-citibike-tripdata.csv')\n",
        "file_08 = pd.read_csv('/content/drive/MyDrive/New York Bike Share/201908-citibike-tripdata.csv')\n",
        "file_09 = pd.read_csv('/content/drive/MyDrive/New York Bike Share/201909-citibike-tripdata.csv')\n",
        "file_10 = pd.read_csv('/content/drive/MyDrive/New York Bike Share/201910-citibike-tripdata.csv')\n",
        "file_11 = pd.read_csv('/content/drive/MyDrive/New York Bike Share/201911-citibike-tripdata.csv')\n",
        "file_12 = pd.read_csv('/content/drive/MyDrive/New York Bike Share/201912-citibike-tripdata.csv')\n",
        "\n",
        "df = pd.concat([file_01, file_02, file_03, ....], ignore_index=True)\n",
        "\n",
        "'''"
      ],
      "execution_count": null,
      "outputs": []
    },
    {
      "cell_type": "markdown",
      "metadata": {
        "id": "EwyqvKIpvaOI"
      },
      "source": [
        "### AFTER: The Systematic & Efficient Way"
      ]
    },
    {
      "cell_type": "code",
      "metadata": {
        "colab": {
          "base_uri": "https://localhost:8080/"
        },
        "id": "UmP6Fod_i-Zb",
        "outputId": "4601691f-67cd-4a39-80eb-e5ecbad81da4"
      },
      "source": [
        "'''\n",
        "Step 1: Getting file names within directory that are required for analysis\n",
        "\n",
        "'''\n",
        "\n",
        "# replace 'file_dir' with your working directory\n",
        "# current path of working directory for jupyter notebook and CSV files in Google Colab\n",
        "file_dir = '/content/drive/MyDrive/New York Bike Share'\n",
        "\n",
        "# getting file names within the directory\n",
        "file_names = glob(path.join(file_dir, '*-citibike-tripdata.csv'))\n",
        "file_names"
      ],
      "execution_count": 2,
      "outputs": [
        {
          "output_type": "execute_result",
          "data": {
            "text/plain": [
              "['/content/drive/MyDrive/New York Bike Share/201901-citibike-tripdata.csv',\n",
              " '/content/drive/MyDrive/New York Bike Share/201902-citibike-tripdata.csv',\n",
              " '/content/drive/MyDrive/New York Bike Share/201903-citibike-tripdata.csv',\n",
              " '/content/drive/MyDrive/New York Bike Share/201904-citibike-tripdata.csv',\n",
              " '/content/drive/MyDrive/New York Bike Share/201905-citibike-tripdata.csv',\n",
              " '/content/drive/MyDrive/New York Bike Share/201906-citibike-tripdata.csv',\n",
              " '/content/drive/MyDrive/New York Bike Share/201907-citibike-tripdata.csv',\n",
              " '/content/drive/MyDrive/New York Bike Share/201908-citibike-tripdata.csv',\n",
              " '/content/drive/MyDrive/New York Bike Share/201909-citibike-tripdata.csv',\n",
              " '/content/drive/MyDrive/New York Bike Share/201910-citibike-tripdata.csv',\n",
              " '/content/drive/MyDrive/New York Bike Share/201911-citibike-tripdata.csv',\n",
              " '/content/drive/MyDrive/New York Bike Share/201912-citibike-tripdata.csv']"
            ]
          },
          "metadata": {
            "tags": []
          },
          "execution_count": 2
        }
      ]
    },
    {
      "cell_type": "code",
      "metadata": {
        "colab": {
          "base_uri": "https://localhost:8080/"
        },
        "id": "ggU7FxpVs-99",
        "outputId": "0c6f2378-7a4c-4308-f07a-37233dc13805"
      },
      "source": [
        "# only import 100 line items for quick view of column names and data type\n",
        "# let's leave columns such as 'stop_time', station_id, station_name & bike_id out of this demo\n",
        "\n",
        "pd.read_csv('/content/drive/MyDrive/New York Bike Share/201901-citibike-tripdata.csv', nrows=100).info()"
      ],
      "execution_count": 3,
      "outputs": [
        {
          "output_type": "stream",
          "text": [
            "<class 'pandas.core.frame.DataFrame'>\n",
            "RangeIndex: 100 entries, 0 to 99\n",
            "Data columns (total 15 columns):\n",
            " #   Column                   Non-Null Count  Dtype  \n",
            "---  ------                   --------------  -----  \n",
            " 0   tripduration             100 non-null    int64  \n",
            " 1   starttime                100 non-null    object \n",
            " 2   stoptime                 100 non-null    object \n",
            " 3   start station id         100 non-null    int64  \n",
            " 4   start station name       100 non-null    object \n",
            " 5   start station latitude   100 non-null    float64\n",
            " 6   start station longitude  100 non-null    float64\n",
            " 7   end station id           100 non-null    int64  \n",
            " 8   end station name         100 non-null    object \n",
            " 9   end station latitude     100 non-null    float64\n",
            " 10  end station longitude    100 non-null    float64\n",
            " 11  bikeid                   100 non-null    int64  \n",
            " 12  usertype                 100 non-null    object \n",
            " 13  birth year               100 non-null    int64  \n",
            " 14  gender                   100 non-null    int64  \n",
            "dtypes: float64(4), int64(6), object(5)\n",
            "memory usage: 11.8+ KB\n"
          ],
          "name": "stdout"
        }
      ]
    },
    {
      "cell_type": "code",
      "metadata": {
        "id": "4aWkUQAXrmTW"
      },
      "source": [
        "'''\n",
        "Step 2: Define function to create Pandas DataFrame\n",
        "\n",
        "'''\n",
        "\n",
        "col_index = [0, 1, 5, 6, 9 ,10, 12, 13, 14]\n",
        "\n",
        "col_name = ['duration', \n",
        "            'time_start', \n",
        "            'station_latitude_start', \n",
        "            'station_longitude_start',\n",
        "            'station_latitude_end', \n",
        "            'station_longitude_end', \n",
        "            'user_type', \n",
        "            'birth_year', \n",
        "            'gender']\n",
        "\n",
        "col_type = {\n",
        "    'duration': np.int32,\n",
        "    'station_latitude_start': np.float32,\n",
        "    'station_longitude_start': np.float32,\n",
        "    'station_latitude_end': np.float32,\n",
        "    'station_longitude_end': np.float32,\n",
        "    'user_type': 'category',\n",
        "    'birth_year': np.int32,\n",
        "    'gender': 'category'\n",
        "}\n",
        "\n",
        "# self defined function to create dataframe\n",
        "def create_df(f, size = 100_000):\n",
        "\n",
        "    # create chunks of data frame with 100K per chunk. Result is an iteratable of dataframes\n",
        "    result = pd.read_csv(f, chunksize=size, usecols=col_index, names=col_name, dtype=col_type, parse_dates=['time_start'], header=0)\n",
        "\n",
        "    return result"
      ],
      "execution_count": 4,
      "outputs": []
    },
    {
      "cell_type": "code",
      "metadata": {
        "colab": {
          "base_uri": "https://localhost:8080/"
        },
        "id": "YvoH9xIeub6o",
        "outputId": "ce35221b-e6bc-455b-9166-1ca315f6990f"
      },
      "source": [
        "'''\n",
        "\n",
        "Step 3: Use .map() to apply 'create_df' function to each file in 'file_names'\n",
        "\n",
        "'''\n",
        "\n",
        "# .map() will apply 'create_df' function to each file in file_names\n",
        "# ref: https://realpython.com/python-map-function/#getting-started-with-pythons-map\n",
        "# result >> list of iteratable. Each iterable contains many dataframes with 100,000 rows\n",
        "\n",
        "df = list(map(create_df, file_names))\n",
        "df"
      ],
      "execution_count": 5,
      "outputs": [
        {
          "output_type": "execute_result",
          "data": {
            "text/plain": [
              "[<pandas.io.parsers.TextFileReader at 0x7f20ce82ae10>,\n",
              " <pandas.io.parsers.TextFileReader at 0x7f20ccd9ced0>,\n",
              " <pandas.io.parsers.TextFileReader at 0x7f20ccdd7390>,\n",
              " <pandas.io.parsers.TextFileReader at 0x7f20ccde1dd0>,\n",
              " <pandas.io.parsers.TextFileReader at 0x7f20ccde1b90>,\n",
              " <pandas.io.parsers.TextFileReader at 0x7f20ccd6b5d0>,\n",
              " <pandas.io.parsers.TextFileReader at 0x7f20cefd4290>,\n",
              " <pandas.io.parsers.TextFileReader at 0x7f20ccdd7a90>,\n",
              " <pandas.io.parsers.TextFileReader at 0x7f20cd622a90>,\n",
              " <pandas.io.parsers.TextFileReader at 0x7f20ce8a68d0>,\n",
              " <pandas.io.parsers.TextFileReader at 0x7f20cee91550>,\n",
              " <pandas.io.parsers.TextFileReader at 0x7f20ce82aa90>]"
            ]
          },
          "metadata": {
            "tags": []
          },
          "execution_count": 5
        }
      ]
    },
    {
      "cell_type": "code",
      "metadata": {
        "id": "5aoH3euSvL5q"
      },
      "source": [
        "'''\n",
        "Step 4: apply python 'list comprehension' to get list of DataFrame\n",
        "\n",
        "'''\n",
        "\n",
        "# loop through each iteratable and store each dataframe to list with 'list comprehension'\n",
        "\n",
        "df = [chunk for ls in df for chunk in ls]"
      ],
      "execution_count": 6,
      "outputs": []
    },
    {
      "cell_type": "code",
      "metadata": {
        "colab": {
          "base_uri": "https://localhost:8080/"
        },
        "id": "CHePusZHOe2x",
        "outputId": "6533ec33-470a-4a3c-eb4e-d845da78464a"
      },
      "source": [
        "# let's check one of the dataframe\r\n",
        "# each dataframe contains up to 100,000 line items\r\n",
        "# df[0] index number range from 0 to 99,999\r\n",
        "\r\n",
        "df[0].info()"
      ],
      "execution_count": null,
      "outputs": [
        {
          "output_type": "stream",
          "text": [
            "<class 'pandas.core.frame.DataFrame'>\n",
            "RangeIndex: 100000 entries, 0 to 99999\n",
            "Data columns (total 9 columns):\n",
            " #   Column                   Non-Null Count   Dtype         \n",
            "---  ------                   --------------   -----         \n",
            " 0   duration                 100000 non-null  int32         \n",
            " 1   time_start               100000 non-null  datetime64[ns]\n",
            " 2   station_latitude_start   100000 non-null  float32       \n",
            " 3   station_longitude_start  100000 non-null  float32       \n",
            " 4   station_latitude_end     100000 non-null  float32       \n",
            " 5   station_longitude_end    100000 non-null  float32       \n",
            " 6   user_type                100000 non-null  category      \n",
            " 7   birth_year               100000 non-null  int32         \n",
            " 8   gender                   100000 non-null  category      \n",
            "dtypes: category(2), datetime64[ns](1), float32(4), int32(2)\n",
            "memory usage: 3.2 MB\n"
          ],
          "name": "stdout"
        }
      ]
    },
    {
      "cell_type": "code",
      "metadata": {
        "colab": {
          "base_uri": "https://localhost:8080/"
        },
        "id": "mYXXk7V4zn-y",
        "outputId": "ea9867ee-9f24-4c91-abed-fcc4c7ae4bee"
      },
      "source": [
        "# df[1] index number range from 100,000 to 199,999\n",
        "\n",
        "df[1].info()"
      ],
      "execution_count": null,
      "outputs": [
        {
          "output_type": "stream",
          "text": [
            "<class 'pandas.core.frame.DataFrame'>\n",
            "RangeIndex: 100000 entries, 100000 to 199999\n",
            "Data columns (total 9 columns):\n",
            " #   Column                   Non-Null Count   Dtype         \n",
            "---  ------                   --------------   -----         \n",
            " 0   duration                 100000 non-null  int32         \n",
            " 1   time_start               100000 non-null  datetime64[ns]\n",
            " 2   station_latitude_start   100000 non-null  float32       \n",
            " 3   station_longitude_start  100000 non-null  float32       \n",
            " 4   station_latitude_end     100000 non-null  float32       \n",
            " 5   station_longitude_end    100000 non-null  float32       \n",
            " 6   user_type                100000 non-null  category      \n",
            " 7   birth_year               100000 non-null  int32         \n",
            " 8   gender                   100000 non-null  category      \n",
            "dtypes: category(2), datetime64[ns](1), float32(4), int32(2)\n",
            "memory usage: 3.2 MB\n"
          ],
          "name": "stdout"
        }
      ]
    },
    {
      "cell_type": "code",
      "metadata": {
        "colab": {
          "base_uri": "https://localhost:8080/"
        },
        "id": "HfB2Un48yba6",
        "outputId": "21ff4294-d8f9-40b5-d74e-3813fb930fa7"
      },
      "source": [
        "'''\n",
        "\n",
        "Step 5: use pd.concat() to merge list of dataframes\n",
        "\n",
        "'''\n",
        "\n",
        "# p.concat() >> append list of dataframe on top of each other to produce master dataframe\n",
        "# ref: https://pandas.pydata.org/pandas-docs/stable/reference/api/pandas.concat.html\n",
        "# note: each dataframe has different index number. parameter 'ignore_index' is set to 'True' and pd.concat() will reset index number after merge.\n",
        "\n",
        "df = pd.concat(df, ignore_index=True)\n",
        "df.info()"
      ],
      "execution_count": 7,
      "outputs": [
        {
          "output_type": "stream",
          "text": [
            "<class 'pandas.core.frame.DataFrame'>\n",
            "RangeIndex: 20551697 entries, 0 to 20551696\n",
            "Data columns (total 9 columns):\n",
            " #   Column                   Dtype         \n",
            "---  ------                   -----         \n",
            " 0   duration                 int32         \n",
            " 1   time_start               datetime64[ns]\n",
            " 2   station_latitude_start   float32       \n",
            " 3   station_longitude_start  float32       \n",
            " 4   station_latitude_end     float32       \n",
            " 5   station_longitude_end    float32       \n",
            " 6   user_type                category      \n",
            " 7   birth_year               int32         \n",
            " 8   gender                   category      \n",
            "dtypes: category(2), datetime64[ns](1), float32(4), int32(2)\n",
            "memory usage: 666.4 MB\n"
          ],
          "name": "stdout"
        }
      ]
    },
    {
      "cell_type": "code",
      "metadata": {
        "colab": {
          "base_uri": "https://localhost:8080/"
        },
        "id": "rIIQbWyVPoJb",
        "outputId": "834f0df6-6e25-4989-8629-2d08c4d7eb32"
      },
      "source": [
        "# check variables with NaN items\r\n",
        "\r\n",
        "df.isna().sum()"
      ],
      "execution_count": null,
      "outputs": [
        {
          "output_type": "execute_result",
          "data": {
            "text/plain": [
              "duration                   0\n",
              "time_start                 0\n",
              "station_latitude_start     0\n",
              "station_longitude_start    0\n",
              "station_latitude_end       0\n",
              "station_longitude_end      0\n",
              "user_type                  0\n",
              "birth_year                 0\n",
              "gender                     0\n",
              "dtype: int64"
            ]
          },
          "metadata": {
            "tags": []
          },
          "execution_count": 11
        }
      ]
    },
    {
      "cell_type": "markdown",
      "metadata": {
        "id": "St7Ea8h3PfDn"
      },
      "source": [
        "## Lesson 02: Pandas 'Category' Data Type\r\n",
        "\r\n",
        "Gender data type is set to 'category' when we import CSV with .read_csv() method. I learn that a category will remain in pandas memory/dataframe even I explicitly exclude the line items with gender category '0'.\r\n",
        "\r\n",
        "We can check category of variable with ***.cat.categories*** attribute and remove unwanted category with ***.cat.remove_categories()*** method. Finally, we also can use ***.cat.rename_categories()*** method to rename category."
      ]
    },
    {
      "cell_type": "code",
      "metadata": {
        "id": "Xk4_O7R10DOn",
        "colab": {
          "base_uri": "https://localhost:8080/"
        },
        "outputId": "9248e907-a9c7-4b70-a1e3-f2614bc8c2fa"
      },
      "source": [
        "# Based on data dictionary, 'gender' consists category 0, 1, 2 which category 0 is 'unknown'\r\n",
        "# .unique() method can easily shows unique category for 'gender'\r\n",
        "\r\n",
        "df.gender.unique()"
      ],
      "execution_count": 8,
      "outputs": [
        {
          "output_type": "execute_result",
          "data": {
            "text/plain": [
              "['1', '2', '0']\n",
              "Categories (3, object): ['1', '2', '0']"
            ]
          },
          "metadata": {
            "tags": []
          },
          "execution_count": 8
        }
      ]
    },
    {
      "cell_type": "code",
      "metadata": {
        "colab": {
          "base_uri": "https://localhost:8080/"
        },
        "id": "amKi3DFtQF0f",
        "outputId": "46c2f53f-6e90-4458-c0b7-33ee3a1023f9"
      },
      "source": [
        "# .cat.categories attribute is an alternative to .unique() method\r\n",
        "# ref: https://pandas.pydata.org/pandas-docs/stable/reference/api/pandas.Series.cat.categories.html\r\n",
        "\r\n",
        "df.gender.cat.categories"
      ],
      "execution_count": 9,
      "outputs": [
        {
          "output_type": "execute_result",
          "data": {
            "text/plain": [
              "Index(['0', '1', '2'], dtype='object')"
            ]
          },
          "metadata": {
            "tags": []
          },
          "execution_count": 9
        }
      ]
    },
    {
      "cell_type": "code",
      "metadata": {
        "colab": {
          "base_uri": "https://localhost:8080/"
        },
        "id": "7KiNJ4VaQKzM",
        "outputId": "31c8c4cd-e23f-46e7-d23c-7c6861d4123e"
      },
      "source": [
        "# let's remove category '0' from dataframe\r\n",
        "\r\n",
        "df = df.loc[df.gender != '0', :]\r\n",
        "\r\n",
        "# check again unique values in 'gender'\r\n",
        "\r\n",
        "df.gender.unique()"
      ],
      "execution_count": 10,
      "outputs": [
        {
          "output_type": "execute_result",
          "data": {
            "text/plain": [
              "['1', '2']\n",
              "Categories (2, object): ['1', '2']"
            ]
          },
          "metadata": {
            "tags": []
          },
          "execution_count": 10
        }
      ]
    },
    {
      "cell_type": "code",
      "metadata": {
        "colab": {
          "base_uri": "https://localhost:8080/"
        },
        "id": "2V39aIlXRJcR",
        "outputId": "9cdf148c-9142-4ed4-dd6f-9ba28565f0e4"
      },
      "source": [
        "# let's do a summary of percentage of users by gender wtih .value _counts() method \r\n",
        "# 1 >> 'Male', 2 >> 'Female'\r\n",
        "# we will be surprise to see the category '0' is part of the summary, although result shows 0%\r\n",
        "\r\n",
        "df.gender.value_counts(normalize=True)"
      ],
      "execution_count": 11,
      "outputs": [
        {
          "output_type": "execute_result",
          "data": {
            "text/plain": [
              "1    0.739935\n",
              "2    0.260065\n",
              "0    0.000000\n",
              "Name: gender, dtype: float64"
            ]
          },
          "metadata": {
            "tags": []
          },
          "execution_count": 11
        }
      ]
    },
    {
      "cell_type": "code",
      "metadata": {
        "colab": {
          "base_uri": "https://localhost:8080/"
        },
        "id": "sTBNSf20SE1q",
        "outputId": "dc6af7ff-9e5a-48f5-8512-5d45c7c8790d"
      },
      "source": [
        "# reason being, category '0' still in pandas memory although we explicitly remove gender with category '0' from dataframe\r\n",
        "\r\n",
        "df.gender.cat.categories"
      ],
      "execution_count": 12,
      "outputs": [
        {
          "output_type": "execute_result",
          "data": {
            "text/plain": [
              "Index(['0', '1', '2'], dtype='object')"
            ]
          },
          "metadata": {
            "tags": []
          },
          "execution_count": 12
        }
      ]
    },
    {
      "cell_type": "markdown",
      "metadata": {
        "id": "7u1hHWvrGKan"
      },
      "source": [
        "### remove_categories"
      ]
    },
    {
      "cell_type": "code",
      "metadata": {
        "colab": {
          "base_uri": "https://localhost:8080/"
        },
        "id": "ACcgIB6_TP0x",
        "outputId": "6a300835-0561-45a1-e397-3a6f403481af"
      },
      "source": [
        "# .cat.remove_categories() helps to remove unused category from pandas memory\r\n",
        "# ref: https://pandas.pydata.org/pandas-docs/stable/reference/api/pandas.Series.cat.remove_categories.html#pandas.Series.cat.remove_categories\r\n",
        "# set parameter inplace = True; pandas doesn't print result of new category\r\n",
        "\r\n",
        "df.gender.cat.remove_categories(removals = '0', inplace = True)\r\n",
        "\r\n",
        "# category '0' no longer in pandas memory\r\n",
        "\r\n",
        "df.gender.cat.categories"
      ],
      "execution_count": 13,
      "outputs": [
        {
          "output_type": "execute_result",
          "data": {
            "text/plain": [
              "Index(['1', '2'], dtype='object')"
            ]
          },
          "metadata": {
            "tags": []
          },
          "execution_count": 13
        }
      ]
    },
    {
      "cell_type": "code",
      "metadata": {
        "colab": {
          "base_uri": "https://localhost:8080/"
        },
        "id": "L6lc5xQiT3ND",
        "outputId": "f4217483-55cb-448a-a6df-fd8e1577a607"
      },
      "source": [
        "# sumamrise gender percentage....again\r\n",
        "\r\n",
        "df.gender.value_counts(normalize=True)"
      ],
      "execution_count": 14,
      "outputs": [
        {
          "output_type": "execute_result",
          "data": {
            "text/plain": [
              "1    0.739935\n",
              "2    0.260065\n",
              "Name: gender, dtype: float64"
            ]
          },
          "metadata": {
            "tags": []
          },
          "execution_count": 14
        }
      ]
    },
    {
      "cell_type": "markdown",
      "metadata": {
        "id": "YfFGwtXNGRJ4"
      },
      "source": [
        "### rename_categories"
      ]
    },
    {
      "cell_type": "code",
      "metadata": {
        "colab": {
          "base_uri": "https://localhost:8080/"
        },
        "id": "LsUQBuxZUt0G",
        "outputId": "d097257f-fea8-4328-f39c-c2f0ff3ea4fb"
      },
      "source": [
        "# category '1' & '2' are not self-explanatory\r\n",
        "# rename the category with .cat.rename_categories() method\r\n",
        "# ref: https://pandas.pydata.org/pandas-docs/stable/reference/api/pandas.Series.cat.rename_categories.html#pandas.Series.cat.rename_categories\r\n",
        "\r\n",
        "df.gender.cat.rename_categories({'1': 'Male', '2': 'Female'}, inplace = True)\r\n",
        "\r\n",
        "# new category name for gender\r\n",
        "\r\n",
        "df.gender.cat.categories"
      ],
      "execution_count": 15,
      "outputs": [
        {
          "output_type": "execute_result",
          "data": {
            "text/plain": [
              "Index(['Male', 'Female'], dtype='object')"
            ]
          },
          "metadata": {
            "tags": []
          },
          "execution_count": 15
        }
      ]
    },
    {
      "cell_type": "code",
      "metadata": {
        "colab": {
          "base_uri": "https://localhost:8080/"
        },
        "id": "oi5ykqiOVyJu",
        "outputId": "85eee49f-6810-4add-834e-9f6d6e14dbda"
      },
      "source": [
        "# sumamrise gender percentage....again\r\n",
        "# gender category becomes 'Male' & 'Female'\r\n",
        "\r\n",
        "df.gender.value_counts(normalize=True)"
      ],
      "execution_count": 16,
      "outputs": [
        {
          "output_type": "execute_result",
          "data": {
            "text/plain": [
              "Male      0.739935\n",
              "Female    0.260065\n",
              "Name: gender, dtype: float64"
            ]
          },
          "metadata": {
            "tags": []
          },
          "execution_count": 16
        }
      ]
    },
    {
      "cell_type": "markdown",
      "metadata": {
        "id": "UiTA7xlFX7cE"
      },
      "source": [
        "## Lesson 03: Feature Engineering with pandas.cut()\r\n",
        "\r\n",
        "In bike sharing dataframe, we are given 'birth_year'. Birth year is not very useful for data analysis/visualization.\r\n",
        "\r\n",
        "Imagine birth year range from 1970 to 2020, it is presentable in either histogram/bar chart.\r\n",
        "\r\n",
        "In such scenario, we can perform feature engineering to group birth_year into generation. Example: anyone born between 1981 - 1996 is Generation Y. So, we can analyze bike sharing activity by generation instead of birth_year."
      ]
    },
    {
      "cell_type": "code",
      "metadata": {
        "colab": {
          "base_uri": "https://localhost:8080/"
        },
        "id": "-oPOzxZWXO97",
        "outputId": "70c755e5-a8c5-4ded-baa3-01c643b003c2"
      },
      "source": [
        "# summary of birth_year (min & max)\r\n",
        "\r\n",
        "df.birth_year.min(), df.birth_year.max()"
      ],
      "execution_count": null,
      "outputs": [
        {
          "output_type": "execute_result",
          "data": {
            "text/plain": [
              "(1857, 2003)"
            ]
          },
          "metadata": {
            "tags": []
          },
          "execution_count": 33
        }
      ]
    },
    {
      "cell_type": "code",
      "metadata": {
        "id": "T0fmlw__acBl"
      },
      "source": [
        "# let's only include birth_year from 1928 (silent generation) onward\r\n",
        "\r\n",
        "df = df.query(\" birth_year >= 1928 \").reset_index(drop = True)"
      ],
      "execution_count": 17,
      "outputs": []
    },
    {
      "cell_type": "code",
      "metadata": {
        "colab": {
          "base_uri": "https://localhost:8080/"
        },
        "id": "zA33wqZF-L7-",
        "outputId": "49c20401-3f02-4db3-93fc-8ea3f01686b3"
      },
      "source": [
        "# total observations after exclude birth_year < 1928\r\n",
        "# approximately 19M observations\r\n",
        "\r\n",
        "df.shape"
      ],
      "execution_count": null,
      "outputs": [
        {
          "output_type": "execute_result",
          "data": {
            "text/plain": [
              "(18982169, 9)"
            ]
          },
          "metadata": {
            "tags": []
          },
          "execution_count": 20
        }
      ]
    },
    {
      "cell_type": "markdown",
      "metadata": {
        "id": "PLp5kzKNGh-6"
      },
      "source": [
        "### BEFORE\n",
        "\n",
        "Apply self-defined function to 'birth_year'"
      ]
    },
    {
      "cell_type": "code",
      "metadata": {
        "id": "-U8C4rIdZpHf"
      },
      "source": [
        "def define_gen(year):\r\n",
        "\r\n",
        "    gen = None\r\n",
        "    \r\n",
        "    if year < 1946:\r\n",
        "        gen = 'silent'\r\n",
        "    elif (year >= 1946) & (year < 1965):\r\n",
        "        gen = 'baby_boomer'\r\n",
        "    elif (year >= 1965) & (year < 1981):\r\n",
        "        gen = 'gen_x'\r\n",
        "    elif (year >= 1981) & (year < 1997):\r\n",
        "        gen = 'gen_y'\r\n",
        "    else:\r\n",
        "        gen = 'gen_z'\r\n",
        "\r\n",
        "    return gen"
      ],
      "execution_count": 18,
      "outputs": []
    },
    {
      "cell_type": "code",
      "metadata": {
        "colab": {
          "base_uri": "https://localhost:8080/"
        },
        "id": "eUbHvu_Lc7Xx",
        "outputId": "a7f0ceda-f2e3-46f9-a914-51310c882314"
      },
      "source": [
        "# this method present a huge challenge...it takes very long to perform the operation on large data set, in this case, 19M rows\r\n",
        "# 6+ second for each observation; how much time required for 19M observations ??\r\n",
        "\r\n",
        "%timeit df.birth_year.apply(define_gen)"
      ],
      "execution_count": 19,
      "outputs": [
        {
          "output_type": "stream",
          "text": [
            "1 loop, best of 5: 6.07 s per loop\n"
          ],
          "name": "stdout"
        }
      ]
    },
    {
      "cell_type": "markdown",
      "metadata": {
        "id": "Mf2S0HmhVPOl"
      },
      "source": [
        "### AFTER\n",
        "\n",
        "Apply **pd.cut()** to group birth_year into 'generation'."
      ]
    },
    {
      "cell_type": "code",
      "metadata": {
        "colab": {
          "base_uri": "https://localhost:8080/"
        },
        "id": "8V7voBo8dQNc",
        "outputId": "703069c5-6a29-4b66-ba24-ca7fc3ccf067"
      },
      "source": [
        "# we can achieve same result with pd.cut() method, with shorter time\r\n",
        "# ref: https://pandas.pydata.org/pandas-docs/stable/reference/api/pandas.cut.html?highlight=cut#pandas.cut\r\n",
        "\r\n",
        "# 528 milisecond (0.528 second) for each observation; this is 11x faster than applying function to 'birth_year'\r\n",
        "\r\n",
        "%%timeit \r\n",
        "\r\n",
        "pd.cut(df.birth_year, \r\n",
        "       bins = [1928, 1946, 1965, 1981, 1997, 2016], \r\n",
        "       labels = ['silent', 'baby_boomer', 'gen_x', 'gen_y', 'gen_z'], \r\n",
        "       include_lowest=True, ordered=False)"
      ],
      "execution_count": 20,
      "outputs": [
        {
          "output_type": "stream",
          "text": [
            "1 loop, best of 5: 528 ms per loop\n"
          ],
          "name": "stdout"
        }
      ]
    },
    {
      "cell_type": "code",
      "metadata": {
        "colab": {
          "base_uri": "https://localhost:8080/"
        },
        "id": "sL4aCtms-_q1",
        "outputId": "8280913b-f9a4-442c-ce1a-9e650e7d8cca"
      },
      "source": [
        "# Gen Y is the largest user group, accounted for 54%\r\n",
        "\r\n",
        "pd.cut(df.birth_year, \r\n",
        "       bins = [1928, 1946, 1965, 1981, 1997, 2016], \r\n",
        "       labels = ['silent', 'baby_boomer', 'gen_x', 'gen_y', 'gen_z'], \r\n",
        "       include_lowest=True, \r\n",
        "       ordered=False).value_counts(normalize=True)"
      ],
      "execution_count": 21,
      "outputs": [
        {
          "output_type": "execute_result",
          "data": {
            "text/plain": [
              "gen_y          0.543800\n",
              "gen_x          0.293460\n",
              "baby_boomer    0.128881\n",
              "gen_z          0.029339\n",
              "silent         0.004520\n",
              "Name: birth_year, dtype: float64"
            ]
          },
          "metadata": {
            "tags": []
          },
          "execution_count": 21
        }
      ]
    },
    {
      "cell_type": "markdown",
      "metadata": {
        "id": "5ekDuO4uHjHa"
      },
      "source": [
        "## Lesson 04: Numpy for better performance & Python Haversine\n",
        "\n",
        "1. Make use of Numpy instead of pandas Series/DataFrame to optimize memory usage if index is not required.\n",
        "\n",
        "2. Haversine == > A python library to calculate distance between 2 geometry coordinates."
      ]
    },
    {
      "cell_type": "markdown",
      "metadata": {
        "id": "JH4bo9v4EO96"
      },
      "source": [
        "### BEFORE: Creation of Coordinates with Tuple & List"
      ]
    },
    {
      "cell_type": "code",
      "metadata": {
        "colab": {
          "base_uri": "https://localhost:8080/"
        },
        "id": "kQnZvaJNP1C0",
        "outputId": "b06370ba-a9cb-4726-9da0-9560acb6dc31"
      },
      "source": [
        "# produce coordinates of start_station\n",
        "# memory usage: +/- 5GB\n",
        "\n",
        "%%memit\n",
        "\n",
        "list(zip(df.station_latitude_start.values, df.station_longitude_start.values))"
      ],
      "execution_count": 22,
      "outputs": [
        {
          "output_type": "stream",
          "text": [
            "peak memory: 5406.20 MiB, increment: 2562.55 MiB\n"
          ],
          "name": "stdout"
        }
      ]
    },
    {
      "cell_type": "code",
      "metadata": {
        "colab": {
          "base_uri": "https://localhost:8080/"
        },
        "id": "2YZ5PaaBQNu2",
        "outputId": "9793e968-095e-4878-ecb7-acfd6b66d21c"
      },
      "source": [
        "# produce coordinates of end_station\n",
        "# memory usage: +/- 5GB\n",
        "\n",
        "%%memit\n",
        "\n",
        "list(zip(df.station_latitude_end.values, df.station_longitude_end.values))"
      ],
      "execution_count": 23,
      "outputs": [
        {
          "output_type": "stream",
          "text": [
            "peak memory: 5378.70 MiB, increment: 2633.12 MiB\n"
          ],
          "name": "stdout"
        }
      ]
    },
    {
      "cell_type": "markdown",
      "metadata": {
        "id": "76ObnKwPFac_"
      },
      "source": [
        "### AFTER: Creation of Coordinates with Numpy & Haversine"
      ]
    },
    {
      "cell_type": "code",
      "metadata": {
        "colab": {
          "base_uri": "https://localhost:8080/"
        },
        "id": "Evedy-fuEqal",
        "outputId": "3c96cbc5-e5d8-422a-ea3e-9fc320c5916a"
      },
      "source": [
        "# produce coordinates of start_station\n",
        "# memory usage: +/- 3GB\n",
        "\n",
        "%%memit\n",
        "\n",
        "np.column_stack((df.station_latitude_start.values, df.station_longitude_start.values))"
      ],
      "execution_count": 24,
      "outputs": [
        {
          "output_type": "stream",
          "text": [
            "peak memory: 2746.66 MiB, increment: 0.00 MiB\n"
          ],
          "name": "stdout"
        }
      ]
    },
    {
      "cell_type": "code",
      "metadata": {
        "colab": {
          "base_uri": "https://localhost:8080/"
        },
        "id": "-_trcmSpE78H",
        "outputId": "47d3e08e-f8cd-493e-cd4f-71898011dc5f"
      },
      "source": [
        "# produce coordinates of end_station\n",
        "# memory usage: +/- 3GB\n",
        "\n",
        "%%memit\n",
        "\n",
        "np.column_stack((df.station_latitude_end.values, df.station_longitude_end.values))"
      ],
      "execution_count": 25,
      "outputs": [
        {
          "output_type": "stream",
          "text": [
            "peak memory: 2746.66 MiB, increment: 0.00 MiB\n"
          ],
          "name": "stdout"
        }
      ]
    },
    {
      "cell_type": "code",
      "metadata": {
        "id": "DYuRYd6N038y"
      },
      "source": [
        "# function to calculate distance of 2 coordinates\n",
        "\n",
        "def measure_distance(lat_1, long_1, lat_2, long_2):\n",
        "\n",
        "    # use numpy .column_stack() instead of list to optimize code operation\n",
        "    # ref: https://numpy.org/doc/stable/reference/generated/numpy.column_stack.html\n",
        "    coordinate_start = np.column_stack((lat_1, long_1))\n",
        "    coodrinate_end = np.column_stack((lat_2, long_2))\n",
        "    \n",
        "    # ref: https://pypi.org/project/haversine/\n",
        "    distance = haversine_vector(coordinate_start, coodrinate_end, Unit.KILOMETERS)\n",
        "\n",
        "    return distance"
      ],
      "execution_count": 26,
      "outputs": []
    },
    {
      "cell_type": "code",
      "metadata": {
        "colab": {
          "base_uri": "https://localhost:8080/"
        },
        "id": "vNwvXbL8zLeo",
        "outputId": "82bdea7f-0b8e-4fd7-c683-766fda7d59b7"
      },
      "source": [
        "# produce coordinates & calculate distance with function at one go\n",
        "# measure memory usage : +/- 3GB\n",
        "# conclusion == > it is more memory efficient to wrap everything in a function with Numpy\n",
        "\n",
        "%%memit\n",
        "\n",
        "measure_distance(df.station_latitude_start.values, \n",
        "                 df.station_longitude_start.values, \n",
        "                 df.station_latitude_end.values, \n",
        "                 df.station_longitude_end.values)"
      ],
      "execution_count": 27,
      "outputs": [
        {
          "output_type": "stream",
          "text": [
            "peak memory: 2766.87 MiB, increment: 20.20 MiB\n"
          ],
          "name": "stdout"
        }
      ]
    },
    {
      "cell_type": "code",
      "metadata": {
        "id": "mek1FHHvMyo0"
      },
      "source": [
        "# calculate distance\n",
        "\n",
        "df['distance'] = measure_distance(df.station_latitude_start.values, \n",
        "                                  df.station_longitude_start.values, \n",
        "                                  df.station_latitude_end.values, \n",
        "                                  df.station_longitude_end.values)"
      ],
      "execution_count": 28,
      "outputs": []
    },
    {
      "cell_type": "code",
      "metadata": {
        "colab": {
          "base_uri": "https://localhost:8080/"
        },
        "id": "jYQTg1M4TtyC",
        "outputId": "cb1b01ae-9f61-4480-d879-0f804aa03823"
      },
      "source": [
        "df.distance.values"
      ],
      "execution_count": 29,
      "outputs": [
        {
          "output_type": "execute_result",
          "data": {
            "text/plain": [
              "array([1.0663115, 0.5777477, 2.034302 , ..., 1.9097081, 1.0663526,\n",
              "       5.004961 ], dtype=float32)"
            ]
          },
          "metadata": {
            "tags": []
          },
          "execution_count": 29
        }
      ]
    },
    {
      "cell_type": "markdown",
      "metadata": {
        "id": "SchSKUJKCJHf"
      },
      "source": [
        "## Lesson 05: Numpy for Mathematical Operations\r\n",
        "\r\n",
        "We can perform mathematical operation on Pandas Series. However, *Numpy* is more optimal (i.e. faster) than Pandas *Series* when dealing with large data set."
      ]
    },
    {
      "cell_type": "markdown",
      "metadata": {
        "id": "8123NTb2F1Co"
      },
      "source": [
        "### BEFORE: Calculate Speed with Pandas Series"
      ]
    },
    {
      "cell_type": "code",
      "metadata": {
        "colab": {
          "base_uri": "https://localhost:8080/"
        },
        "id": "UQpnpdaaD9WB",
        "outputId": "51fc7694-9b61-4b6c-a094-fcea6dc6d49f"
      },
      "source": [
        "# at the moment, 'duration' is in seconds & distance in kilometer\r\n",
        "# we need to calculate 'speed' in kilometer/hour\r\n",
        "\r\n",
        "# let's measure time taken to calculate 'speed' with pandas Series\r\n",
        "# remember: 1 hour ==> 3,600 seconds\r\n",
        "\r\n",
        "%timeit df.distance / (df.duration / (60 * 60))"
      ],
      "execution_count": null,
      "outputs": [
        {
          "output_type": "stream",
          "text": [
            "10 loops, best of 5: 97.1 ms per loop\n"
          ],
          "name": "stdout"
        }
      ]
    },
    {
      "cell_type": "markdown",
      "metadata": {
        "id": "0DunC6M9F-x0"
      },
      "source": [
        "### AFTER: Calculate Speed with Numpy Array"
      ]
    },
    {
      "cell_type": "code",
      "metadata": {
        "colab": {
          "base_uri": "https://localhost:8080/"
        },
        "id": "bAD9vg5kE3wj",
        "outputId": "da43214e-f6b9-4b40-f539-98467fb77f04"
      },
      "source": [
        "'''\r\n",
        "measure time taken to calculate 'speed' with Numpy array\r\n",
        "Numpy divide ==> https://numpy.org/doc/stable/reference/generated/numpy.divide.html#:~:text=divide,-numpy.&text=Returns%20a%20true%20division%20of,this%20returns%20a%20true%20division.\r\n",
        "\r\n",
        "reason for better performance: Numpy array is more memory-efficient\r\n",
        "ref: https://www.geeksforgeeks.org/difference-between-pandas-vs-numpy/\r\n",
        "\r\n",
        "'''\r\n",
        "\r\n",
        "# turn duration from 'seconds' to 'hour' with Numpy\r\n",
        "# remember: 1 hour ==> 3,600 seconds\r\n",
        "hour = np.divide(df.duration, 3600)\r\n",
        "\r\n",
        "%timeit np.divide(df.distance.values, hour)"
      ],
      "execution_count": null,
      "outputs": [
        {
          "output_type": "stream",
          "text": [
            "10 loops, best of 5: 46.8 ms per loop\n"
          ],
          "name": "stdout"
        }
      ]
    },
    {
      "cell_type": "markdown",
      "metadata": {
        "id": "cRahubw3hR1d"
      },
      "source": [
        "## Lesson 06: Create/Replace Variable with pandas.assign()\r\n",
        "\r\n",
        "In pandas, we tend to use *df['variable'] = pandas action* to create/replace a variable. This method is used multiple times if we want to create few variables: \r\n",
        "\r\n",
        "*df['var_01'] = action_01* <br>\r\n",
        "*df['var_02'] = action_02* <br>\r\n",
        "*df['var_03'] = action_03*\r\n",
        "\r\n",
        "With *.assign()* method, we can create multiple variables with one command.\r\n",
        "Check documentation [here](https://pandas.pydata.org/pandas-docs/stable/reference/api/pandas.DataFrame.assign.html). \r\n",
        "\r\n",
        "By the way, assign() method is inspired by R Tidyverse *mutate()*. Refer [here](https://pandas.pydata.org/docs/getting_started/comparison/comparison_with_r.html#transforming) for more detail."
      ]
    },
    {
      "cell_type": "code",
      "metadata": {
        "id": "zb10g2qSfCOH",
        "colab": {
          "base_uri": "https://localhost:8080/"
        },
        "outputId": "f5c2a176-23d9-4046-a9e5-1208e6d35459"
      },
      "source": [
        "# reengineer 'birth_year', 'duration' & 'speed' with .assign() and measure time taken\r\n",
        "# turn 'birth_year' into 'generation'\r\n",
        "# turn 'duration' from seconds to minutes\r\n",
        "# create variable 'speed'\r\n",
        "\r\n",
        "%%timeit\r\n",
        "\r\n",
        "df.assign(generation = pd.cut(df.birth_year, bins = [1928, 1946, 1965, 1981, 1997, 2016], labels = ['silent', 'baby_boomer', 'gen_x', 'gen_y', 'gen_z'], include_lowest=True, ordered=False), \r\n",
        "          duration = np.divide(df.duration.values, 60), \r\n",
        "          speed = np.divide(df.distance.values, hour))"
      ],
      "execution_count": null,
      "outputs": [
        {
          "output_type": "stream",
          "text": [
            "1 loop, best of 5: 857 ms per loop\n"
          ],
          "name": "stdout"
        }
      ]
    },
    {
      "cell_type": "code",
      "metadata": {
        "colab": {
          "base_uri": "https://localhost:8080/",
          "height": 309
        },
        "id": "6wEviq1gJgRC",
        "outputId": "646e5b90-af53-4e31-cad7-5f678f1a55d3"
      },
      "source": [
        "hour = np.divide(df.duration, 3600)\r\n",
        "\r\n",
        "# create/replace variable with one command\r\n",
        "df = df.assign(generation = pd.cut(df.birth_year, bins = [1928, 1946, 1965, 1981, 1997, 2016], labels = ['silent', 'baby_boomer', 'gen_x', 'gen_y', 'gen_z'], include_lowest=True, ordered=False), \r\n",
        "                duration = np.divide(df.duration.values, 60), \r\n",
        "                speed = np.divide(df.distance.values, hour))\r\n",
        "\r\n",
        "df.head()"
      ],
      "execution_count": 30,
      "outputs": [
        {
          "output_type": "execute_result",
          "data": {
            "text/html": [
              "<div>\n",
              "<style scoped>\n",
              "    .dataframe tbody tr th:only-of-type {\n",
              "        vertical-align: middle;\n",
              "    }\n",
              "\n",
              "    .dataframe tbody tr th {\n",
              "        vertical-align: top;\n",
              "    }\n",
              "\n",
              "    .dataframe thead th {\n",
              "        text-align: right;\n",
              "    }\n",
              "</style>\n",
              "<table border=\"1\" class=\"dataframe\">\n",
              "  <thead>\n",
              "    <tr style=\"text-align: right;\">\n",
              "      <th></th>\n",
              "      <th>duration</th>\n",
              "      <th>time_start</th>\n",
              "      <th>station_latitude_start</th>\n",
              "      <th>station_longitude_start</th>\n",
              "      <th>station_latitude_end</th>\n",
              "      <th>station_longitude_end</th>\n",
              "      <th>user_type</th>\n",
              "      <th>birth_year</th>\n",
              "      <th>gender</th>\n",
              "      <th>distance</th>\n",
              "      <th>generation</th>\n",
              "      <th>speed</th>\n",
              "    </tr>\n",
              "  </thead>\n",
              "  <tbody>\n",
              "    <tr>\n",
              "      <th>0</th>\n",
              "      <td>5.333333</td>\n",
              "      <td>2019-01-01 00:01:47.401</td>\n",
              "      <td>40.778969</td>\n",
              "      <td>-73.973747</td>\n",
              "      <td>40.788219</td>\n",
              "      <td>-73.970413</td>\n",
              "      <td>Subscriber</td>\n",
              "      <td>1971</td>\n",
              "      <td>Male</td>\n",
              "      <td>1.066311</td>\n",
              "      <td>gen_x</td>\n",
              "      <td>11.996004</td>\n",
              "    </tr>\n",
              "    <tr>\n",
              "      <th>1</th>\n",
              "      <td>5.266667</td>\n",
              "      <td>2019-01-01 00:04:43.736</td>\n",
              "      <td>40.751873</td>\n",
              "      <td>-73.977707</td>\n",
              "      <td>40.747803</td>\n",
              "      <td>-73.973442</td>\n",
              "      <td>Subscriber</td>\n",
              "      <td>1964</td>\n",
              "      <td>Male</td>\n",
              "      <td>0.577748</td>\n",
              "      <td>baby_boomer</td>\n",
              "      <td>6.581936</td>\n",
              "    </tr>\n",
              "    <tr>\n",
              "      <th>2</th>\n",
              "      <td>9.850000</td>\n",
              "      <td>2019-01-01 00:06:03.997</td>\n",
              "      <td>40.785248</td>\n",
              "      <td>-73.976677</td>\n",
              "      <td>40.773144</td>\n",
              "      <td>-73.958565</td>\n",
              "      <td>Subscriber</td>\n",
              "      <td>1987</td>\n",
              "      <td>Male</td>\n",
              "      <td>2.034302</td>\n",
              "      <td>gen_y</td>\n",
              "      <td>12.391687</td>\n",
              "    </tr>\n",
              "    <tr>\n",
              "      <th>3</th>\n",
              "      <td>45.316667</td>\n",
              "      <td>2019-01-01 00:07:03.545</td>\n",
              "      <td>40.732220</td>\n",
              "      <td>-73.981659</td>\n",
              "      <td>40.738045</td>\n",
              "      <td>-73.996429</td>\n",
              "      <td>Subscriber</td>\n",
              "      <td>1990</td>\n",
              "      <td>Male</td>\n",
              "      <td>1.403270</td>\n",
              "      <td>gen_y</td>\n",
              "      <td>1.857952</td>\n",
              "    </tr>\n",
              "    <tr>\n",
              "      <th>4</th>\n",
              "      <td>5.050000</td>\n",
              "      <td>2019-01-01 00:07:35.945</td>\n",
              "      <td>40.727436</td>\n",
              "      <td>-73.993790</td>\n",
              "      <td>40.738274</td>\n",
              "      <td>-73.987518</td>\n",
              "      <td>Subscriber</td>\n",
              "      <td>1979</td>\n",
              "      <td>Male</td>\n",
              "      <td>1.316004</td>\n",
              "      <td>gen_x</td>\n",
              "      <td>15.635686</td>\n",
              "    </tr>\n",
              "  </tbody>\n",
              "</table>\n",
              "</div>"
            ],
            "text/plain": [
              "    duration              time_start  ...   generation      speed\n",
              "0   5.333333 2019-01-01 00:01:47.401  ...        gen_x  11.996004\n",
              "1   5.266667 2019-01-01 00:04:43.736  ...  baby_boomer   6.581936\n",
              "2   9.850000 2019-01-01 00:06:03.997  ...        gen_y  12.391687\n",
              "3  45.316667 2019-01-01 00:07:03.545  ...        gen_y   1.857952\n",
              "4   5.050000 2019-01-01 00:07:35.945  ...        gen_x  15.635686\n",
              "\n",
              "[5 rows x 12 columns]"
            ]
          },
          "metadata": {
            "tags": []
          },
          "execution_count": 30
        }
      ]
    },
    {
      "cell_type": "code",
      "metadata": {
        "colab": {
          "base_uri": "https://localhost:8080/"
        },
        "id": "IEfcVR0_RQLk",
        "outputId": "d5bcfef1-8c3f-43d4-fe03-2672e1c37ade"
      },
      "source": [
        "df.info()"
      ],
      "execution_count": 31,
      "outputs": [
        {
          "output_type": "stream",
          "text": [
            "<class 'pandas.core.frame.DataFrame'>\n",
            "RangeIndex: 18982169 entries, 0 to 18982168\n",
            "Data columns (total 12 columns):\n",
            " #   Column                   Dtype         \n",
            "---  ------                   -----         \n",
            " 0   duration                 float64       \n",
            " 1   time_start               datetime64[ns]\n",
            " 2   station_latitude_start   float32       \n",
            " 3   station_longitude_start  float32       \n",
            " 4   station_latitude_end     float32       \n",
            " 5   station_longitude_end    float32       \n",
            " 6   user_type                category      \n",
            " 7   birth_year               int32         \n",
            " 8   gender                   category      \n",
            " 9   distance                 float32       \n",
            " 10  generation               category      \n",
            " 11  speed                    float64       \n",
            "dtypes: category(3), datetime64[ns](1), float32(5), float64(2), int32(1)\n",
            "memory usage: 923.2 MB\n"
          ],
          "name": "stdout"
        }
      ]
    },
    {
      "cell_type": "markdown",
      "metadata": {
        "id": "Cx76Bga9R7zG"
      },
      "source": [
        "## Lesson 07: Method Chaining\r\n",
        "\r\n",
        "Proper method chaining improves code readability and cut down intermediate variable assignment; this is especially useful when we need to perform multiple actions at one go.\r\n",
        "\r\n",
        "From previous lessons, we created new variables (distance, generation, and speed) & reengineer duration (from seconds to minutes). Now we observe 'duration', 'distance' and 'speed' are numerical variables with more than 4 decimals. Variables such as latitude & longitude and birth_year are no longer required for analysis.\r\n",
        "\r\n",
        "We can remove & format variables with *Method Chaining*"
      ]
    },
    {
      "cell_type": "markdown",
      "metadata": {
        "id": "ra6_a_ngGZOl"
      },
      "source": [
        "### BEFORE"
      ]
    },
    {
      "cell_type": "code",
      "metadata": {
        "colab": {
          "base_uri": "https://localhost:8080/",
          "height": 204
        },
        "id": "wCg5z-pJRsOM",
        "outputId": "d1dfcc56-fe1d-41a7-f8aa-ac7338d6322f"
      },
      "source": [
        "'''\r\n",
        "Run code for demo only\r\n",
        "\r\n",
        "Method 01: Long method chaining\r\n",
        "\r\n",
        "1. to remove variables\r\n",
        "2. round variables in float type to 2 decimals\r\n",
        "3. change data type of 'speed' from 'float64' to 'float32'\r\n",
        "\r\n",
        "Code is hardly readable !!!\r\n",
        "'''\r\n",
        "\r\n",
        "df.drop(columns=['station_latitude_start', 'station_longitude_start', 'station_latitude_end', 'station_longitude_end', 'birth_year']).round(2).astype({'speed': np.float32}).head()"
      ],
      "execution_count": null,
      "outputs": [
        {
          "output_type": "execute_result",
          "data": {
            "text/html": [
              "<div>\n",
              "<style scoped>\n",
              "    .dataframe tbody tr th:only-of-type {\n",
              "        vertical-align: middle;\n",
              "    }\n",
              "\n",
              "    .dataframe tbody tr th {\n",
              "        vertical-align: top;\n",
              "    }\n",
              "\n",
              "    .dataframe thead th {\n",
              "        text-align: right;\n",
              "    }\n",
              "</style>\n",
              "<table border=\"1\" class=\"dataframe\">\n",
              "  <thead>\n",
              "    <tr style=\"text-align: right;\">\n",
              "      <th></th>\n",
              "      <th>duration</th>\n",
              "      <th>time_start</th>\n",
              "      <th>user_type</th>\n",
              "      <th>gender</th>\n",
              "      <th>distance</th>\n",
              "      <th>generation</th>\n",
              "      <th>speed</th>\n",
              "    </tr>\n",
              "  </thead>\n",
              "  <tbody>\n",
              "    <tr>\n",
              "      <th>0</th>\n",
              "      <td>5.33</td>\n",
              "      <td>2019-01-01 00:01:47.401</td>\n",
              "      <td>Subscriber</td>\n",
              "      <td>Male</td>\n",
              "      <td>1.07</td>\n",
              "      <td>gen_x</td>\n",
              "      <td>12.00</td>\n",
              "    </tr>\n",
              "    <tr>\n",
              "      <th>1</th>\n",
              "      <td>5.27</td>\n",
              "      <td>2019-01-01 00:04:43.736</td>\n",
              "      <td>Subscriber</td>\n",
              "      <td>Male</td>\n",
              "      <td>0.58</td>\n",
              "      <td>baby_boomer</td>\n",
              "      <td>6.58</td>\n",
              "    </tr>\n",
              "    <tr>\n",
              "      <th>2</th>\n",
              "      <td>9.85</td>\n",
              "      <td>2019-01-01 00:06:03.997</td>\n",
              "      <td>Subscriber</td>\n",
              "      <td>Male</td>\n",
              "      <td>2.03</td>\n",
              "      <td>gen_y</td>\n",
              "      <td>12.39</td>\n",
              "    </tr>\n",
              "    <tr>\n",
              "      <th>3</th>\n",
              "      <td>45.32</td>\n",
              "      <td>2019-01-01 00:07:03.545</td>\n",
              "      <td>Subscriber</td>\n",
              "      <td>Male</td>\n",
              "      <td>1.40</td>\n",
              "      <td>gen_y</td>\n",
              "      <td>1.86</td>\n",
              "    </tr>\n",
              "    <tr>\n",
              "      <th>4</th>\n",
              "      <td>5.05</td>\n",
              "      <td>2019-01-01 00:07:35.945</td>\n",
              "      <td>Subscriber</td>\n",
              "      <td>Male</td>\n",
              "      <td>1.32</td>\n",
              "      <td>gen_x</td>\n",
              "      <td>15.64</td>\n",
              "    </tr>\n",
              "  </tbody>\n",
              "</table>\n",
              "</div>"
            ],
            "text/plain": [
              "   duration              time_start   user_type  ... distance   generation  speed\n",
              "0      5.33 2019-01-01 00:01:47.401  Subscriber  ...     1.07        gen_x  12.00\n",
              "1      5.27 2019-01-01 00:04:43.736  Subscriber  ...     0.58  baby_boomer   6.58\n",
              "2      9.85 2019-01-01 00:06:03.997  Subscriber  ...     2.03        gen_y  12.39\n",
              "3     45.32 2019-01-01 00:07:03.545  Subscriber  ...     1.40        gen_y   1.86\n",
              "4      5.05 2019-01-01 00:07:35.945  Subscriber  ...     1.32        gen_x  15.64\n",
              "\n",
              "[5 rows x 7 columns]"
            ]
          },
          "metadata": {
            "tags": []
          },
          "execution_count": 37
        }
      ]
    },
    {
      "cell_type": "code",
      "metadata": {
        "colab": {
          "base_uri": "https://localhost:8080/",
          "height": 204
        },
        "id": "_os4TZZ3Vd9F",
        "outputId": "283e4c05-5807-4b2a-9172-513b4ebd8025"
      },
      "source": [
        "'''\r\n",
        "Run code for demo only\r\n",
        "\r\n",
        "Method 02: Variable reassignment for each step\r\n",
        "\r\n",
        "1. to remove variables\r\n",
        "2. round variables in float type to 2 decimals\r\n",
        "3. change data type of 'speed' from 'float64' to 'float32'\r\n",
        "\r\n",
        "Code is readable but we created unnecessary variables at every step\r\n",
        "'''\r\n",
        "\r\n",
        "# remove variables\r\n",
        "s1 = df.drop(columns=['station_latitude_start', 'station_longitude_start', 'station_latitude_end', 'station_longitude_end', 'birth_year'])\r\n",
        "\r\n",
        "# round numerical variables to 2 decimals\r\n",
        "s2 = s1.round(2)\r\n",
        "\r\n",
        "# change data type of speed to 'float32'\r\n",
        "s3 = s2.astype({'speed': np.float32})\r\n",
        "\r\n",
        "s3.head()"
      ],
      "execution_count": null,
      "outputs": [
        {
          "output_type": "execute_result",
          "data": {
            "text/html": [
              "<div>\n",
              "<style scoped>\n",
              "    .dataframe tbody tr th:only-of-type {\n",
              "        vertical-align: middle;\n",
              "    }\n",
              "\n",
              "    .dataframe tbody tr th {\n",
              "        vertical-align: top;\n",
              "    }\n",
              "\n",
              "    .dataframe thead th {\n",
              "        text-align: right;\n",
              "    }\n",
              "</style>\n",
              "<table border=\"1\" class=\"dataframe\">\n",
              "  <thead>\n",
              "    <tr style=\"text-align: right;\">\n",
              "      <th></th>\n",
              "      <th>duration</th>\n",
              "      <th>time_start</th>\n",
              "      <th>user_type</th>\n",
              "      <th>gender</th>\n",
              "      <th>distance</th>\n",
              "      <th>generation</th>\n",
              "      <th>speed</th>\n",
              "    </tr>\n",
              "  </thead>\n",
              "  <tbody>\n",
              "    <tr>\n",
              "      <th>0</th>\n",
              "      <td>5.33</td>\n",
              "      <td>2019-01-01 00:01:47.401</td>\n",
              "      <td>Subscriber</td>\n",
              "      <td>Male</td>\n",
              "      <td>1.07</td>\n",
              "      <td>gen_x</td>\n",
              "      <td>12.00</td>\n",
              "    </tr>\n",
              "    <tr>\n",
              "      <th>1</th>\n",
              "      <td>5.27</td>\n",
              "      <td>2019-01-01 00:04:43.736</td>\n",
              "      <td>Subscriber</td>\n",
              "      <td>Male</td>\n",
              "      <td>0.58</td>\n",
              "      <td>baby_boomer</td>\n",
              "      <td>6.58</td>\n",
              "    </tr>\n",
              "    <tr>\n",
              "      <th>2</th>\n",
              "      <td>9.85</td>\n",
              "      <td>2019-01-01 00:06:03.997</td>\n",
              "      <td>Subscriber</td>\n",
              "      <td>Male</td>\n",
              "      <td>2.03</td>\n",
              "      <td>gen_y</td>\n",
              "      <td>12.39</td>\n",
              "    </tr>\n",
              "    <tr>\n",
              "      <th>3</th>\n",
              "      <td>45.32</td>\n",
              "      <td>2019-01-01 00:07:03.545</td>\n",
              "      <td>Subscriber</td>\n",
              "      <td>Male</td>\n",
              "      <td>1.40</td>\n",
              "      <td>gen_y</td>\n",
              "      <td>1.86</td>\n",
              "    </tr>\n",
              "    <tr>\n",
              "      <th>4</th>\n",
              "      <td>5.05</td>\n",
              "      <td>2019-01-01 00:07:35.945</td>\n",
              "      <td>Subscriber</td>\n",
              "      <td>Male</td>\n",
              "      <td>1.32</td>\n",
              "      <td>gen_x</td>\n",
              "      <td>15.64</td>\n",
              "    </tr>\n",
              "  </tbody>\n",
              "</table>\n",
              "</div>"
            ],
            "text/plain": [
              "   duration              time_start   user_type  ... distance   generation  speed\n",
              "0      5.33 2019-01-01 00:01:47.401  Subscriber  ...     1.07        gen_x  12.00\n",
              "1      5.27 2019-01-01 00:04:43.736  Subscriber  ...     0.58  baby_boomer   6.58\n",
              "2      9.85 2019-01-01 00:06:03.997  Subscriber  ...     2.03        gen_y  12.39\n",
              "3     45.32 2019-01-01 00:07:03.545  Subscriber  ...     1.40        gen_y   1.86\n",
              "4      5.05 2019-01-01 00:07:35.945  Subscriber  ...     1.32        gen_x  15.64\n",
              "\n",
              "[5 rows x 7 columns]"
            ]
          },
          "metadata": {
            "tags": []
          },
          "execution_count": 38
        }
      ]
    },
    {
      "cell_type": "markdown",
      "metadata": {
        "id": "FwreRmuXGg5F"
      },
      "source": [
        "### AFTER"
      ]
    },
    {
      "cell_type": "code",
      "metadata": {
        "colab": {
          "base_uri": "https://localhost:8080/",
          "height": 204
        },
        "id": "7eAsH7bOWpbG",
        "outputId": "1456f262-f5be-460e-be8f-3c1d37cf07aa"
      },
      "source": [
        "'''\r\n",
        "Actual Version\r\n",
        "\r\n",
        "Method 03: Proper Method Chaining wtih back slash '\\'\r\n",
        "\r\n",
        "1. to remove variables\r\n",
        "2. round variables in float type to 2 decimals\r\n",
        "3. change data type of 'speed' & 'duration' from 'float64' to 'float32'\r\n",
        "\r\n",
        "'''\r\n",
        "\r\n",
        "df = df.drop(columns=['station_latitude_start', 'station_longitude_start', 'station_latitude_end', 'station_longitude_end', 'birth_year'])\\\r\n",
        "        .round(2)\\\r\n",
        "        .astype({'speed': np.float32, 'duration': np.float32})\r\n",
        "\r\n",
        "df.head()"
      ],
      "execution_count": 32,
      "outputs": [
        {
          "output_type": "execute_result",
          "data": {
            "text/html": [
              "<div>\n",
              "<style scoped>\n",
              "    .dataframe tbody tr th:only-of-type {\n",
              "        vertical-align: middle;\n",
              "    }\n",
              "\n",
              "    .dataframe tbody tr th {\n",
              "        vertical-align: top;\n",
              "    }\n",
              "\n",
              "    .dataframe thead th {\n",
              "        text-align: right;\n",
              "    }\n",
              "</style>\n",
              "<table border=\"1\" class=\"dataframe\">\n",
              "  <thead>\n",
              "    <tr style=\"text-align: right;\">\n",
              "      <th></th>\n",
              "      <th>duration</th>\n",
              "      <th>time_start</th>\n",
              "      <th>user_type</th>\n",
              "      <th>gender</th>\n",
              "      <th>distance</th>\n",
              "      <th>generation</th>\n",
              "      <th>speed</th>\n",
              "    </tr>\n",
              "  </thead>\n",
              "  <tbody>\n",
              "    <tr>\n",
              "      <th>0</th>\n",
              "      <td>5.33</td>\n",
              "      <td>2019-01-01 00:01:47.401</td>\n",
              "      <td>Subscriber</td>\n",
              "      <td>Male</td>\n",
              "      <td>1.07</td>\n",
              "      <td>gen_x</td>\n",
              "      <td>12.00</td>\n",
              "    </tr>\n",
              "    <tr>\n",
              "      <th>1</th>\n",
              "      <td>5.27</td>\n",
              "      <td>2019-01-01 00:04:43.736</td>\n",
              "      <td>Subscriber</td>\n",
              "      <td>Male</td>\n",
              "      <td>0.58</td>\n",
              "      <td>baby_boomer</td>\n",
              "      <td>6.58</td>\n",
              "    </tr>\n",
              "    <tr>\n",
              "      <th>2</th>\n",
              "      <td>9.85</td>\n",
              "      <td>2019-01-01 00:06:03.997</td>\n",
              "      <td>Subscriber</td>\n",
              "      <td>Male</td>\n",
              "      <td>2.03</td>\n",
              "      <td>gen_y</td>\n",
              "      <td>12.39</td>\n",
              "    </tr>\n",
              "    <tr>\n",
              "      <th>3</th>\n",
              "      <td>45.32</td>\n",
              "      <td>2019-01-01 00:07:03.545</td>\n",
              "      <td>Subscriber</td>\n",
              "      <td>Male</td>\n",
              "      <td>1.40</td>\n",
              "      <td>gen_y</td>\n",
              "      <td>1.86</td>\n",
              "    </tr>\n",
              "    <tr>\n",
              "      <th>4</th>\n",
              "      <td>5.05</td>\n",
              "      <td>2019-01-01 00:07:35.945</td>\n",
              "      <td>Subscriber</td>\n",
              "      <td>Male</td>\n",
              "      <td>1.32</td>\n",
              "      <td>gen_x</td>\n",
              "      <td>15.64</td>\n",
              "    </tr>\n",
              "  </tbody>\n",
              "</table>\n",
              "</div>"
            ],
            "text/plain": [
              "   duration              time_start   user_type  ... distance   generation  speed\n",
              "0      5.33 2019-01-01 00:01:47.401  Subscriber  ...     1.07        gen_x  12.00\n",
              "1      5.27 2019-01-01 00:04:43.736  Subscriber  ...     0.58  baby_boomer   6.58\n",
              "2      9.85 2019-01-01 00:06:03.997  Subscriber  ...     2.03        gen_y  12.39\n",
              "3     45.32 2019-01-01 00:07:03.545  Subscriber  ...     1.40        gen_y   1.86\n",
              "4      5.05 2019-01-01 00:07:35.945  Subscriber  ...     1.32        gen_x  15.64\n",
              "\n",
              "[5 rows x 7 columns]"
            ]
          },
          "metadata": {
            "tags": []
          },
          "execution_count": 32
        }
      ]
    },
    {
      "cell_type": "code",
      "metadata": {
        "colab": {
          "base_uri": "https://localhost:8080/"
        },
        "id": "Rf1o9uGMXaSl",
        "outputId": "60c675f4-027c-40a5-a334-0745395c3a38"
      },
      "source": [
        "# let's see the changes\r\n",
        "\r\n",
        "df.info()"
      ],
      "execution_count": 33,
      "outputs": [
        {
          "output_type": "stream",
          "text": [
            "<class 'pandas.core.frame.DataFrame'>\n",
            "RangeIndex: 18982169 entries, 0 to 18982168\n",
            "Data columns (total 7 columns):\n",
            " #   Column      Dtype         \n",
            "---  ------      -----         \n",
            " 0   duration    float32       \n",
            " 1   time_start  datetime64[ns]\n",
            " 2   user_type   category      \n",
            " 3   gender      category      \n",
            " 4   distance    float32       \n",
            " 5   generation  category      \n",
            " 6   speed       float32       \n",
            "dtypes: category(3), datetime64[ns](1), float32(3)\n",
            "memory usage: 416.4 MB\n"
          ],
          "name": "stdout"
        }
      ]
    },
    {
      "cell_type": "markdown",
      "metadata": {
        "id": "vYG6vJjWalZP"
      },
      "source": [
        "## Lesson 08: Reindex\r\n",
        "\r\n",
        "We can change order of variables with *.reindex()*. This is a formal way of reordering variables."
      ]
    },
    {
      "cell_type": "code",
      "metadata": {
        "colab": {
          "base_uri": "https://localhost:8080/",
          "height": 204
        },
        "id": "9HyTN8GjZycV",
        "outputId": "51ea9716-d47e-4c38-fe8f-5cd8756a20ed"
      },
      "source": [
        "# ref: https://pandas.pydata.org/docs/reference/api/pandas.DataFrame.reindex.html?highlight=reindex#pandas.DataFrame.reindex\r\n",
        "\r\n",
        "df = df.reindex(columns = ['time_start', 'user_type', 'gender', 'generation', 'duration', 'distance', 'speed'])\r\n",
        "df.head()"
      ],
      "execution_count": 34,
      "outputs": [
        {
          "output_type": "execute_result",
          "data": {
            "text/html": [
              "<div>\n",
              "<style scoped>\n",
              "    .dataframe tbody tr th:only-of-type {\n",
              "        vertical-align: middle;\n",
              "    }\n",
              "\n",
              "    .dataframe tbody tr th {\n",
              "        vertical-align: top;\n",
              "    }\n",
              "\n",
              "    .dataframe thead th {\n",
              "        text-align: right;\n",
              "    }\n",
              "</style>\n",
              "<table border=\"1\" class=\"dataframe\">\n",
              "  <thead>\n",
              "    <tr style=\"text-align: right;\">\n",
              "      <th></th>\n",
              "      <th>time_start</th>\n",
              "      <th>user_type</th>\n",
              "      <th>gender</th>\n",
              "      <th>generation</th>\n",
              "      <th>duration</th>\n",
              "      <th>distance</th>\n",
              "      <th>speed</th>\n",
              "    </tr>\n",
              "  </thead>\n",
              "  <tbody>\n",
              "    <tr>\n",
              "      <th>0</th>\n",
              "      <td>2019-01-01 00:01:47.401</td>\n",
              "      <td>Subscriber</td>\n",
              "      <td>Male</td>\n",
              "      <td>gen_x</td>\n",
              "      <td>5.33</td>\n",
              "      <td>1.07</td>\n",
              "      <td>12.00</td>\n",
              "    </tr>\n",
              "    <tr>\n",
              "      <th>1</th>\n",
              "      <td>2019-01-01 00:04:43.736</td>\n",
              "      <td>Subscriber</td>\n",
              "      <td>Male</td>\n",
              "      <td>baby_boomer</td>\n",
              "      <td>5.27</td>\n",
              "      <td>0.58</td>\n",
              "      <td>6.58</td>\n",
              "    </tr>\n",
              "    <tr>\n",
              "      <th>2</th>\n",
              "      <td>2019-01-01 00:06:03.997</td>\n",
              "      <td>Subscriber</td>\n",
              "      <td>Male</td>\n",
              "      <td>gen_y</td>\n",
              "      <td>9.85</td>\n",
              "      <td>2.03</td>\n",
              "      <td>12.39</td>\n",
              "    </tr>\n",
              "    <tr>\n",
              "      <th>3</th>\n",
              "      <td>2019-01-01 00:07:03.545</td>\n",
              "      <td>Subscriber</td>\n",
              "      <td>Male</td>\n",
              "      <td>gen_y</td>\n",
              "      <td>45.32</td>\n",
              "      <td>1.40</td>\n",
              "      <td>1.86</td>\n",
              "    </tr>\n",
              "    <tr>\n",
              "      <th>4</th>\n",
              "      <td>2019-01-01 00:07:35.945</td>\n",
              "      <td>Subscriber</td>\n",
              "      <td>Male</td>\n",
              "      <td>gen_x</td>\n",
              "      <td>5.05</td>\n",
              "      <td>1.32</td>\n",
              "      <td>15.64</td>\n",
              "    </tr>\n",
              "  </tbody>\n",
              "</table>\n",
              "</div>"
            ],
            "text/plain": [
              "               time_start   user_type gender  ... duration  distance  speed\n",
              "0 2019-01-01 00:01:47.401  Subscriber   Male  ...     5.33      1.07  12.00\n",
              "1 2019-01-01 00:04:43.736  Subscriber   Male  ...     5.27      0.58   6.58\n",
              "2 2019-01-01 00:06:03.997  Subscriber   Male  ...     9.85      2.03  12.39\n",
              "3 2019-01-01 00:07:03.545  Subscriber   Male  ...    45.32      1.40   1.86\n",
              "4 2019-01-01 00:07:35.945  Subscriber   Male  ...     5.05      1.32  15.64\n",
              "\n",
              "[5 rows x 7 columns]"
            ]
          },
          "metadata": {
            "tags": []
          },
          "execution_count": 34
        }
      ]
    },
    {
      "cell_type": "markdown",
      "metadata": {
        "id": "IPnH5OUBcYxt"
      },
      "source": [
        "## Lesson 09: Time Series with resample()\r\n",
        "\r\n",
        "*.resample()* method in pandas is very useful to organize data by hour, day, week, month etc."
      ]
    },
    {
      "cell_type": "markdown",
      "metadata": {
        "id": "gfnT0msYWma-"
      },
      "source": [
        "### Group by Month"
      ]
    },
    {
      "cell_type": "code",
      "metadata": {
        "colab": {
          "base_uri": "https://localhost:8080/"
        },
        "id": "z_7vBQxLa_p4",
        "outputId": "05b3e8fd-a0c0-4c37-9ef2-2be93d6eedd8"
      },
      "source": [
        "# let's say we want to find out monthly bike usage in 2019\r\n",
        "# ref: https://pandas.pydata.org/docs/reference/api/pandas.DataFrame.resample.html?highlight=resample#pandas.DataFrame.resample\r\n",
        "\r\n",
        "# 'M' >> group by \"month\"\r\n",
        "# parameter 'on' must be set to a variable with 'datetime64' data type\r\n",
        "\r\n",
        "df.resample('M', on = 'time_start')['gender'].count()"
      ],
      "execution_count": null,
      "outputs": [
        {
          "output_type": "execute_result",
          "data": {
            "text/plain": [
              "time_start\n",
              "2019-01-31     932320\n",
              "2019-02-28     906456\n",
              "2019-03-31    1255656\n",
              "2019-04-30    1627078\n",
              "2019-05-31    1755529\n",
              "2019-06-30    1925806\n",
              "2019-07-31    1984048\n",
              "2019-08-31    2117821\n",
              "2019-09-30    2237988\n",
              "2019-10-31    1938000\n",
              "2019-11-30    1393111\n",
              "2019-12-31     908356\n",
              "Freq: M, Name: gender, dtype: int64"
            ]
          },
          "metadata": {
            "tags": []
          },
          "execution_count": 35
        }
      ]
    },
    {
      "cell_type": "markdown",
      "metadata": {
        "id": "KTYIQxd9W81m"
      },
      "source": [
        "### Group by Hour"
      ]
    },
    {
      "cell_type": "code",
      "metadata": {
        "colab": {
          "base_uri": "https://localhost:8080/"
        },
        "id": "2F7uqnKkjht8",
        "outputId": "e7d7a9db-d03e-4ab0-dd63-1707548551dd"
      },
      "source": [
        "# 'H' >> group by \"Hour\"\n",
        "# parameter 'on' must be set to a 'datetime64' variable\n",
        "\n",
        "df.resample('H', on = 'time_start')['gender'].count()"
      ],
      "execution_count": null,
      "outputs": [
        {
          "output_type": "execute_result",
          "data": {
            "text/plain": [
              "time_start\n",
              "2019-01-01 00:00:00     125\n",
              "2019-01-01 01:00:00     255\n",
              "2019-01-01 02:00:00     261\n",
              "2019-01-01 03:00:00     179\n",
              "2019-01-01 04:00:00     114\n",
              "                       ... \n",
              "2019-12-31 19:00:00    1086\n",
              "2019-12-31 20:00:00     677\n",
              "2019-12-31 21:00:00     514\n",
              "2019-12-31 22:00:00     488\n",
              "2019-12-31 23:00:00     363\n",
              "Freq: H, Name: gender, Length: 8760, dtype: int64"
            ]
          },
          "metadata": {
            "tags": []
          },
          "execution_count": 36
        }
      ]
    },
    {
      "cell_type": "markdown",
      "metadata": {
        "id": "amQIYVIIeQBj"
      },
      "source": [
        "## Lesson 10: Datetime Manipulation with Pandas\r\n",
        "\r\n",
        "In our dataframe, 'time_start' variable is in *datetime64* format. We can extract date/time with *.dt* followed by datetime attribute/method (second, hour, day, week, day name, month & month name)."
      ]
    },
    {
      "cell_type": "code",
      "metadata": {
        "colab": {
          "base_uri": "https://localhost:8080/"
        },
        "id": "S6rp2pfadLIq",
        "outputId": "11a6c0a3-32ba-495f-d25a-b849bb8da5f0"
      },
      "source": [
        "# example: day\r\n",
        "# ref: https://pandas.pydata.org/docs/reference/api/pandas.Series.dt.day.html?highlight=day#pandas.Series.dt.day\r\n",
        "\r\n",
        "# only use 100 observations for demo\r\n",
        "df.time_start[0:100].dt.day"
      ],
      "execution_count": null,
      "outputs": [
        {
          "output_type": "execute_result",
          "data": {
            "text/plain": [
              "0     1\n",
              "1     1\n",
              "2     1\n",
              "3     1\n",
              "4     1\n",
              "     ..\n",
              "95    1\n",
              "96    1\n",
              "97    1\n",
              "98    1\n",
              "99    1\n",
              "Name: time_start, Length: 100, dtype: int64"
            ]
          },
          "metadata": {
            "tags": []
          },
          "execution_count": 37
        }
      ]
    },
    {
      "cell_type": "code",
      "metadata": {
        "colab": {
          "base_uri": "https://localhost:8080/"
        },
        "id": "BodJR7PcfuXY",
        "outputId": "28f94ab6-03cd-44b0-b00a-5f0112a70974"
      },
      "source": [
        "# example: day name (i.e. Monday, Tuesday)\r\n",
        "# ref: https://pandas.pydata.org/docs/reference/api/pandas.Series.dt.day_name.html?highlight=day_name\r\n",
        "\r\n",
        "# only use 100 observations for demo\r\n",
        "df.time_start[0:100].dt.day_name()"
      ],
      "execution_count": null,
      "outputs": [
        {
          "output_type": "execute_result",
          "data": {
            "text/plain": [
              "0     Tuesday\n",
              "1     Tuesday\n",
              "2     Tuesday\n",
              "3     Tuesday\n",
              "4     Tuesday\n",
              "       ...   \n",
              "95    Tuesday\n",
              "96    Tuesday\n",
              "97    Tuesday\n",
              "98    Tuesday\n",
              "99    Tuesday\n",
              "Name: time_start, Length: 100, dtype: object"
            ]
          },
          "metadata": {
            "tags": []
          },
          "execution_count": 38
        }
      ]
    },
    {
      "cell_type": "code",
      "metadata": {
        "colab": {
          "base_uri": "https://localhost:8080/"
        },
        "id": "yKqcF4CWf8uR",
        "outputId": "b359a773-f717-415e-f608-6c63716e0022"
      },
      "source": [
        "# example: month name (i.e. January)\r\n",
        "# ref: https://pandas.pydata.org/docs/reference/api/pandas.Series.dt.month_name.html?highlight=month_name#pandas.Series.dt.month_name\r\n",
        "\r\n",
        "# only use 100 observations for demo\r\n",
        "df.time_start[0:100].dt.month_name()"
      ],
      "execution_count": null,
      "outputs": [
        {
          "output_type": "execute_result",
          "data": {
            "text/plain": [
              "0     January\n",
              "1     January\n",
              "2     January\n",
              "3     January\n",
              "4     January\n",
              "       ...   \n",
              "95    January\n",
              "96    January\n",
              "97    January\n",
              "98    January\n",
              "99    January\n",
              "Name: time_start, Length: 100, dtype: object"
            ]
          },
          "metadata": {
            "tags": []
          },
          "execution_count": 39
        }
      ]
    },
    {
      "cell_type": "markdown",
      "metadata": {
        "id": "BRcwDT4goGT8"
      },
      "source": [
        "## Lesson 11: Pandas Groupby\r\n",
        "\r\n",
        "Groupby can be used together with Count/Sum/Transform. It can be an alternative to *resample()* to group data by datetime variable. When done in the right way, we can combine groupby with datetime manipulation. \r\n",
        "\r\n",
        "For example: we can group our data set by month and count activity for each."
      ]
    },
    {
      "cell_type": "markdown",
      "metadata": {
        "id": "yMGjjxPeX8gK"
      },
      "source": [
        "### Group by Month"
      ]
    },
    {
      "cell_type": "code",
      "metadata": {
        "colab": {
          "base_uri": "https://localhost:8080/"
        },
        "id": "qPQi1n55gYk2",
        "outputId": "f5400fc5-ad05-4481-893c-6420df473006"
      },
      "source": [
        "# extract 'month name' from 'time_start' and group by month\r\n",
        "# count activity of each month\r\n",
        "\r\n",
        "activity_by_month = df.groupby(by = df.time_start.dt.month_name())['gender'].count()\r\n",
        "activity_by_month"
      ],
      "execution_count": 35,
      "outputs": [
        {
          "output_type": "execute_result",
          "data": {
            "text/plain": [
              "time_start\n",
              "April        1627078\n",
              "August       2117821\n",
              "December      908356\n",
              "February      906456\n",
              "January       932320\n",
              "July         1984048\n",
              "June         1925806\n",
              "March        1255656\n",
              "May          1755529\n",
              "November     1393111\n",
              "October      1938000\n",
              "September    2237988\n",
              "Name: gender, dtype: int64"
            ]
          },
          "metadata": {
            "tags": []
          },
          "execution_count": 35
        }
      ]
    },
    {
      "cell_type": "code",
      "metadata": {
        "colab": {
          "base_uri": "https://localhost:8080/"
        },
        "id": "N1faD3XzkBu1",
        "outputId": "212fad71-3370-433c-a0d0-70b7a2e11905"
      },
      "source": [
        "# current index is sort alphabetically\n",
        "\n",
        "activity_by_month.index"
      ],
      "execution_count": 36,
      "outputs": [
        {
          "output_type": "execute_result",
          "data": {
            "text/plain": [
              "Index(['April', 'August', 'December', 'February', 'January', 'July', 'June',\n",
              "       'March', 'May', 'November', 'October', 'September'],\n",
              "      dtype='object', name='time_start')"
            ]
          },
          "metadata": {
            "tags": []
          },
          "execution_count": 36
        }
      ]
    },
    {
      "cell_type": "code",
      "metadata": {
        "colab": {
          "base_uri": "https://localhost:8080/"
        },
        "id": "NhwAXGImkhg4",
        "outputId": "68a2e2ad-52d9-4c2e-aaf7-bf9675c62da9"
      },
      "source": [
        "# we can change order of index with .reindex\n",
        "\n",
        "activity_by_month = activity_by_month.reindex(['January', 'February', 'March', 'April', 'May', 'June',\n",
        "                                                'July', 'August', 'September', 'October', 'November', 'December'])\n",
        "\n",
        "activity_by_month"
      ],
      "execution_count": 37,
      "outputs": [
        {
          "output_type": "execute_result",
          "data": {
            "text/plain": [
              "time_start\n",
              "January       932320\n",
              "February      906456\n",
              "March        1255656\n",
              "April        1627078\n",
              "May          1755529\n",
              "June         1925806\n",
              "July         1984048\n",
              "August       2117821\n",
              "September    2237988\n",
              "October      1938000\n",
              "November     1393111\n",
              "December      908356\n",
              "Name: gender, dtype: int64"
            ]
          },
          "metadata": {
            "tags": []
          },
          "execution_count": 37
        }
      ]
    },
    {
      "cell_type": "markdown",
      "metadata": {
        "id": "A68fncElYh3c"
      },
      "source": [
        "### Group by Hour"
      ]
    },
    {
      "cell_type": "code",
      "metadata": {
        "colab": {
          "base_uri": "https://localhost:8080/"
        },
        "id": "5RT48qPZpt9a",
        "outputId": "c2df8361-62c1-49e6-86d8-e657f29df790"
      },
      "source": [
        "# group data by \"Hour\" to get bike sharing activity on hourly basis\r\n",
        "# note: time_start is in 24-hour period\r\n",
        "\r\n",
        "df.groupby(by = df.time_start.dt.hour)['gender'].count()"
      ],
      "execution_count": null,
      "outputs": [
        {
          "output_type": "execute_result",
          "data": {
            "text/plain": [
              "time_start\n",
              "0      168082\n",
              "1       94773\n",
              "2       57679\n",
              "3       37360\n",
              "4       41697\n",
              "5      135311\n",
              "6      431501\n",
              "7      906516\n",
              "8     1575432\n",
              "9     1243327\n",
              "10     857928\n",
              "11     877483\n",
              "12    1004565\n",
              "13    1040427\n",
              "14    1072548\n",
              "15    1132770\n",
              "16    1320268\n",
              "17    1861592\n",
              "18    1752979\n",
              "19    1221752\n",
              "20     833847\n",
              "21     584420\n",
              "22     439059\n",
              "23     290853\n",
              "Name: gender, dtype: int64"
            ]
          },
          "metadata": {
            "tags": []
          },
          "execution_count": 43
        }
      ]
    },
    {
      "cell_type": "markdown",
      "metadata": {
        "id": "OzpDbYk04OL_"
      },
      "source": [
        "### Groupby & Transform"
      ]
    },
    {
      "cell_type": "code",
      "metadata": {
        "colab": {
          "base_uri": "https://localhost:8080/",
          "height": 173
        },
        "id": "6Cb-2iMs4RXi",
        "outputId": "70c427eb-1bf5-4b69-f178-f3529be4db42"
      },
      "source": [
        "user_by_gender = df.groupby(by = ['user_type', 'gender'], as_index=False)['duration'].count()\n",
        "user_by_gender"
      ],
      "execution_count": 38,
      "outputs": [
        {
          "output_type": "execute_result",
          "data": {
            "text/html": [
              "<div>\n",
              "<style scoped>\n",
              "    .dataframe tbody tr th:only-of-type {\n",
              "        vertical-align: middle;\n",
              "    }\n",
              "\n",
              "    .dataframe tbody tr th {\n",
              "        vertical-align: top;\n",
              "    }\n",
              "\n",
              "    .dataframe thead th {\n",
              "        text-align: right;\n",
              "    }\n",
              "</style>\n",
              "<table border=\"1\" class=\"dataframe\">\n",
              "  <thead>\n",
              "    <tr style=\"text-align: right;\">\n",
              "      <th></th>\n",
              "      <th>user_type</th>\n",
              "      <th>gender</th>\n",
              "      <th>duration</th>\n",
              "    </tr>\n",
              "  </thead>\n",
              "  <tbody>\n",
              "    <tr>\n",
              "      <th>0</th>\n",
              "      <td>Customer</td>\n",
              "      <td>Male</td>\n",
              "      <td>1045906</td>\n",
              "    </tr>\n",
              "    <tr>\n",
              "      <th>1</th>\n",
              "      <td>Customer</td>\n",
              "      <td>Female</td>\n",
              "      <td>585312</td>\n",
              "    </tr>\n",
              "    <tr>\n",
              "      <th>2</th>\n",
              "      <td>Subscriber</td>\n",
              "      <td>Male</td>\n",
              "      <td>12999422</td>\n",
              "    </tr>\n",
              "    <tr>\n",
              "      <th>3</th>\n",
              "      <td>Subscriber</td>\n",
              "      <td>Female</td>\n",
              "      <td>4351529</td>\n",
              "    </tr>\n",
              "  </tbody>\n",
              "</table>\n",
              "</div>"
            ],
            "text/plain": [
              "    user_type  gender  duration\n",
              "0    Customer    Male   1045906\n",
              "1    Customer  Female    585312\n",
              "2  Subscriber    Male  12999422\n",
              "3  Subscriber  Female   4351529"
            ]
          },
          "metadata": {
            "tags": []
          },
          "execution_count": 38
        }
      ]
    },
    {
      "cell_type": "code",
      "metadata": {
        "colab": {
          "base_uri": "https://localhost:8080/",
          "height": 173
        },
        "id": "nQRt8ZPq4uIA",
        "outputId": "5063cf3f-1d8c-4a68-d455-d3bf14d7efe7"
      },
      "source": [
        "# function col.sum() is used to 'transform' total user by user_type when we group the dataframe by 'user_type'\n",
        "\n",
        "user_by_gender.groupby(by = 'user_type').transform(lambda col: col.sum())"
      ],
      "execution_count": 39,
      "outputs": [
        {
          "output_type": "execute_result",
          "data": {
            "text/html": [
              "<div>\n",
              "<style scoped>\n",
              "    .dataframe tbody tr th:only-of-type {\n",
              "        vertical-align: middle;\n",
              "    }\n",
              "\n",
              "    .dataframe tbody tr th {\n",
              "        vertical-align: top;\n",
              "    }\n",
              "\n",
              "    .dataframe thead th {\n",
              "        text-align: right;\n",
              "    }\n",
              "</style>\n",
              "<table border=\"1\" class=\"dataframe\">\n",
              "  <thead>\n",
              "    <tr style=\"text-align: right;\">\n",
              "      <th></th>\n",
              "      <th>duration</th>\n",
              "    </tr>\n",
              "  </thead>\n",
              "  <tbody>\n",
              "    <tr>\n",
              "      <th>0</th>\n",
              "      <td>1631218</td>\n",
              "    </tr>\n",
              "    <tr>\n",
              "      <th>1</th>\n",
              "      <td>1631218</td>\n",
              "    </tr>\n",
              "    <tr>\n",
              "      <th>2</th>\n",
              "      <td>17350951</td>\n",
              "    </tr>\n",
              "    <tr>\n",
              "      <th>3</th>\n",
              "      <td>17350951</td>\n",
              "    </tr>\n",
              "  </tbody>\n",
              "</table>\n",
              "</div>"
            ],
            "text/plain": [
              "   duration\n",
              "0   1631218\n",
              "1   1631218\n",
              "2  17350951\n",
              "3  17350951"
            ]
          },
          "metadata": {
            "tags": []
          },
          "execution_count": 39
        }
      ]
    },
    {
      "cell_type": "code",
      "metadata": {
        "colab": {
          "base_uri": "https://localhost:8080/",
          "height": 173
        },
        "id": "5OosqjSW5GRS",
        "outputId": "2f719696-16e8-4532-e254-42f89893122d"
      },
      "source": [
        "# we take each number in the 'col' (i.e duration), divide by the sum of each user_type group\n",
        "# example: Male Customer 1,046,076 divided by total user 1,631,433 of 'Customer' user_type == > 64%\n",
        "\n",
        "# result == > percentage of Male/Female user by user_type\n",
        "# note: result is in float type, hence we use .round() method to round the number to ZERO decimal & use .astype() method to convert to integer.\n",
        "\n",
        "user_by_gender.groupby(by = 'user_type')\\\n",
        ".transform(lambda col: col / col.sum() * 100)\\\n",
        ".round()\\\n",
        ".astype('int')"
      ],
      "execution_count": 40,
      "outputs": [
        {
          "output_type": "execute_result",
          "data": {
            "text/html": [
              "<div>\n",
              "<style scoped>\n",
              "    .dataframe tbody tr th:only-of-type {\n",
              "        vertical-align: middle;\n",
              "    }\n",
              "\n",
              "    .dataframe tbody tr th {\n",
              "        vertical-align: top;\n",
              "    }\n",
              "\n",
              "    .dataframe thead th {\n",
              "        text-align: right;\n",
              "    }\n",
              "</style>\n",
              "<table border=\"1\" class=\"dataframe\">\n",
              "  <thead>\n",
              "    <tr style=\"text-align: right;\">\n",
              "      <th></th>\n",
              "      <th>duration</th>\n",
              "    </tr>\n",
              "  </thead>\n",
              "  <tbody>\n",
              "    <tr>\n",
              "      <th>0</th>\n",
              "      <td>64</td>\n",
              "    </tr>\n",
              "    <tr>\n",
              "      <th>1</th>\n",
              "      <td>36</td>\n",
              "    </tr>\n",
              "    <tr>\n",
              "      <th>2</th>\n",
              "      <td>75</td>\n",
              "    </tr>\n",
              "    <tr>\n",
              "      <th>3</th>\n",
              "      <td>25</td>\n",
              "    </tr>\n",
              "  </tbody>\n",
              "</table>\n",
              "</div>"
            ],
            "text/plain": [
              "   duration\n",
              "0        64\n",
              "1        36\n",
              "2        75\n",
              "3        25"
            ]
          },
          "metadata": {
            "tags": []
          },
          "execution_count": 40
        }
      ]
    },
    {
      "cell_type": "code",
      "metadata": {
        "colab": {
          "base_uri": "https://localhost:8080/",
          "height": 142
        },
        "id": "tTaDzwx47zhp",
        "outputId": "a8606678-b344-49e6-e9e1-0680f34bfc3f"
      },
      "source": [
        "# Tip == > .apply() method only return summary of total user by user_type\n",
        "\n",
        "user_by_gender.groupby(by = 'user_type').apply(lambda col: col.sum())"
      ],
      "execution_count": 41,
      "outputs": [
        {
          "output_type": "execute_result",
          "data": {
            "text/html": [
              "<div>\n",
              "<style scoped>\n",
              "    .dataframe tbody tr th:only-of-type {\n",
              "        vertical-align: middle;\n",
              "    }\n",
              "\n",
              "    .dataframe tbody tr th {\n",
              "        vertical-align: top;\n",
              "    }\n",
              "\n",
              "    .dataframe thead th {\n",
              "        text-align: right;\n",
              "    }\n",
              "</style>\n",
              "<table border=\"1\" class=\"dataframe\">\n",
              "  <thead>\n",
              "    <tr style=\"text-align: right;\">\n",
              "      <th></th>\n",
              "      <th>duration</th>\n",
              "    </tr>\n",
              "    <tr>\n",
              "      <th>user_type</th>\n",
              "      <th></th>\n",
              "    </tr>\n",
              "  </thead>\n",
              "  <tbody>\n",
              "    <tr>\n",
              "      <th>Customer</th>\n",
              "      <td>1631218</td>\n",
              "    </tr>\n",
              "    <tr>\n",
              "      <th>Subscriber</th>\n",
              "      <td>17350951</td>\n",
              "    </tr>\n",
              "  </tbody>\n",
              "</table>\n",
              "</div>"
            ],
            "text/plain": [
              "            duration\n",
              "user_type           \n",
              "Customer     1631218\n",
              "Subscriber  17350951"
            ]
          },
          "metadata": {
            "tags": []
          },
          "execution_count": 41
        }
      ]
    },
    {
      "cell_type": "markdown",
      "metadata": {
        "id": "GKmTj5YQrPac"
      },
      "source": [
        "## Lesson 12: String Method\r\n",
        "\r\n",
        "Pandas String method, *.str* is an convenient way to work with Pandas Series (**NOT list or Numpy array**). The reason it is called *'string'* method: it only works for pandas Series with 'string' data type.\r\n",
        "\r\n",
        "What can we do with string method? Some common applications for pandas Series are:\r\n",
        "\r\n",
        "1. convert string from lower to upper case\r\n",
        "2. slice substring from text\r\n",
        "3. filter data\r\n",
        "4. find & replace specific text\r\n",
        "\r\n",
        "and many more....\r\n",
        "\r\n",
        "Check [documentation](https://pandas.pydata.org/pandas-docs/stable/user_guide/text.html#string-methods) for details"
      ]
    },
    {
      "cell_type": "markdown",
      "metadata": {
        "id": "faP8dR-KZJGc"
      },
      "source": [
        "### Convert text from lower to upper case & replace string"
      ]
    },
    {
      "cell_type": "code",
      "metadata": {
        "id": "FpzLr0ZTqIKw",
        "colab": {
          "base_uri": "https://localhost:8080/"
        },
        "outputId": "a2bce7f1-d84a-441b-a014-02720e371f79"
      },
      "source": [
        "'''\n",
        "In Lesson 03, we group 'birth_year' into 'generation' category. \n",
        "However, category names are in lower case and separated by underscore '_'\n",
        "\n",
        "'''\n",
        "\n",
        "pd.Series(df.generation.unique())"
      ],
      "execution_count": null,
      "outputs": [
        {
          "output_type": "execute_result",
          "data": {
            "text/plain": [
              "0          gen_x\n",
              "1    baby_boomer\n",
              "2          gen_y\n",
              "3          gen_z\n",
              "4         silent\n",
              "dtype: category\n",
              "Categories (5, object): ['gen_x', 'baby_boomer', 'gen_y', 'gen_z', 'silent']"
            ]
          },
          "metadata": {
            "tags": []
          },
          "execution_count": 49
        }
      ]
    },
    {
      "cell_type": "code",
      "metadata": {
        "colab": {
          "base_uri": "https://localhost:8080/"
        },
        "id": "vAn0E8sJoKW_",
        "outputId": "3206c272-ced1-49b0-b9c4-7b16563897ba"
      },
      "source": [
        "'''\n",
        "with .str.title(), we convert first letter of each word to upper case\n",
        "with .str.replace(), we replace underscore '_' with space ' '\n",
        "\n",
        "reminder !!! .str only works for Series\n",
        "'''\n",
        "\n",
        "pd.Series(df.generation.unique())\\\n",
        ".str.title()\\\n",
        ".str.replace('_', ' ')"
      ],
      "execution_count": null,
      "outputs": [
        {
          "output_type": "execute_result",
          "data": {
            "text/plain": [
              "0          Gen X\n",
              "1    Baby Boomer\n",
              "2          Gen Y\n",
              "3          Gen Z\n",
              "4         Silent\n",
              "dtype: object"
            ]
          },
          "metadata": {
            "tags": []
          },
          "execution_count": 44
        }
      ]
    },
    {
      "cell_type": "code",
      "metadata": {
        "colab": {
          "base_uri": "https://localhost:8080/"
        },
        "id": "xgb5wkyXZ94F",
        "outputId": "2a817c82-0b9b-456e-e8d8-5a601dc93ffc"
      },
      "source": [
        "'''\n",
        "note: .str is a more convenient way to the 'apply' function 'title' & 'replace'\n",
        "\n",
        "title() >> https://www.w3schools.com/python/ref_string_title.asp\n",
        "replace() >> https://www.w3schools.com/python/ref_string_replace.asp\n",
        "\n",
        "'''\n",
        "\n",
        "pd.Series(df.generation.unique()).apply(lambda word: word.title().replace('_', ' '))"
      ],
      "execution_count": null,
      "outputs": [
        {
          "output_type": "execute_result",
          "data": {
            "text/plain": [
              "0          Gen X\n",
              "1    Baby Boomer\n",
              "2          Gen Y\n",
              "3          Gen Z\n",
              "4         Silent\n",
              "dtype: category\n",
              "Categories (5, object): ['Gen X', 'Baby Boomer', 'Gen Y', 'Gen Z', 'Silent']"
            ]
          },
          "metadata": {
            "tags": []
          },
          "execution_count": 45
        }
      ]
    },
    {
      "cell_type": "markdown",
      "metadata": {
        "id": "lBpWPEDPbJc4"
      },
      "source": [
        "### Slice substring from a string"
      ]
    },
    {
      "cell_type": "code",
      "metadata": {
        "colab": {
          "base_uri": "https://localhost:8080/"
        },
        "id": "tlA5Wixwow0D",
        "outputId": "73c69f93-3245-453f-b5ea-d70577df5778"
      },
      "source": [
        "'''\n",
        "In Lesson 09, we group 'time_start' by month name. \n",
        "What if we only want first 3-letter from month name?\n",
        "\n",
        "'''\n",
        "\n",
        "activity_by_month.index"
      ],
      "execution_count": null,
      "outputs": [
        {
          "output_type": "execute_result",
          "data": {
            "text/plain": [
              "Index(['January', 'February', 'March', 'April', 'May', 'June', 'July',\n",
              "       'August', 'September', 'October', 'November', 'December'],\n",
              "      dtype='object', name='time_start')"
            ]
          },
          "metadata": {
            "tags": []
          },
          "execution_count": 46
        }
      ]
    },
    {
      "cell_type": "code",
      "metadata": {
        "colab": {
          "base_uri": "https://localhost:8080/"
        },
        "id": "HO8MbSvjqGB5",
        "outputId": "5f6bd5e4-f987-4ad5-efea-6b564c033b2b"
      },
      "source": [
        "'''\n",
        "slice first 3 letters from month name\n",
        "\n",
        "'''\n",
        "\n",
        "activity_by_month.index.str[0:3]"
      ],
      "execution_count": null,
      "outputs": [
        {
          "output_type": "execute_result",
          "data": {
            "text/plain": [
              "Index(['Jan', 'Feb', 'Mar', 'Apr', 'May', 'Jun', 'Jul', 'Aug', 'Sep', 'Oct',\n",
              "       'Nov', 'Dec'],\n",
              "      dtype='object', name='time_start')"
            ]
          },
          "metadata": {
            "tags": []
          },
          "execution_count": 47
        }
      ]
    },
    {
      "cell_type": "code",
      "metadata": {
        "colab": {
          "base_uri": "https://localhost:8080/"
        },
        "id": "X9C3HsOnbccR",
        "outputId": "118474aa-4c6e-414b-8e8e-f17577fad58e"
      },
      "source": [
        "'''\n",
        "note: .str is an alternative to apply function to slice substring based on index\n",
        "\n",
        "'''\n",
        "\n",
        "pd.Series(activity_by_month.index).apply(lambda word: word[0:3])"
      ],
      "execution_count": null,
      "outputs": [
        {
          "output_type": "execute_result",
          "data": {
            "text/plain": [
              "0     Jan\n",
              "1     Feb\n",
              "2     Mar\n",
              "3     Apr\n",
              "4     May\n",
              "5     Jun\n",
              "6     Jul\n",
              "7     Aug\n",
              "8     Sep\n",
              "9     Oct\n",
              "10    Nov\n",
              "11    Dec\n",
              "Name: time_start, dtype: object"
            ]
          },
          "metadata": {
            "tags": []
          },
          "execution_count": 49
        }
      ]
    },
    {
      "cell_type": "markdown",
      "metadata": {
        "id": "Wn5g8B3xbbBT"
      },
      "source": [
        "### Filter data by rows"
      ]
    },
    {
      "cell_type": "code",
      "metadata": {
        "colab": {
          "base_uri": "https://localhost:8080/"
        },
        "id": "y4rJURWHcOzJ",
        "outputId": "ab33fcb5-cba4-49d9-fd6d-55c09040f7ba"
      },
      "source": [
        "'''\n",
        "imagine we want to view bike sharing data for September, October, November & December\n",
        "\n",
        "'''\n",
        "\n",
        "activity_by_month"
      ],
      "execution_count": null,
      "outputs": [
        {
          "output_type": "execute_result",
          "data": {
            "text/plain": [
              "time_start\n",
              "January       932320\n",
              "February      906456\n",
              "March        1255656\n",
              "April        1627078\n",
              "May          1755529\n",
              "June         1925806\n",
              "July         1984048\n",
              "August       2117821\n",
              "September    2237988\n",
              "October      1938000\n",
              "November     1393111\n",
              "December      908356\n",
              "Name: gender, dtype: int64"
            ]
          },
          "metadata": {
            "tags": []
          },
          "execution_count": 50
        }
      ]
    },
    {
      "cell_type": "code",
      "metadata": {
        "colab": {
          "base_uri": "https://localhost:8080/"
        },
        "id": "S1H2oF2LqiV9",
        "outputId": "25243a9b-f4b5-4bae-be4d-e5481dc85516"
      },
      "source": [
        "'''\n",
        "one thing in common for September, October, November & December >> all ends with 'ber'\n",
        "filter pandas Series index with string ends with 'ber'\n",
        "\n",
        "'''\n",
        "\n",
        "activity_by_month.index.str.endswith('ber')"
      ],
      "execution_count": null,
      "outputs": [
        {
          "output_type": "execute_result",
          "data": {
            "text/plain": [
              "array([False, False, False, False, False, False, False, False,  True,\n",
              "        True,  True,  True])"
            ]
          },
          "metadata": {
            "tags": []
          },
          "execution_count": 51
        }
      ]
    },
    {
      "cell_type": "code",
      "metadata": {
        "colab": {
          "base_uri": "https://localhost:8080/"
        },
        "id": "f5B0wU4wrhI4",
        "outputId": "67736822-4f51-4c2a-b5a9-2e1ac6b2467c"
      },
      "source": [
        "# filter pandas Series with index name ends with 'ber'\n",
        "\n",
        "activity_by_month[activity_by_month.index.str.endswith('ber')]"
      ],
      "execution_count": null,
      "outputs": [
        {
          "output_type": "execute_result",
          "data": {
            "text/plain": [
              "time_start\n",
              "September    2237988\n",
              "October      1938000\n",
              "November     1393111\n",
              "December      908356\n",
              "Name: gender, dtype: int64"
            ]
          },
          "metadata": {
            "tags": []
          },
          "execution_count": 52
        }
      ]
    },
    {
      "cell_type": "markdown",
      "metadata": {
        "id": "WLSPX8nHc1op"
      },
      "source": [
        "### Filter dataframe by columns required"
      ]
    },
    {
      "cell_type": "code",
      "metadata": {
        "colab": {
          "base_uri": "https://localhost:8080/"
        },
        "id": "XTf-G02vsHB8",
        "outputId": "3d527c89-47fa-4d38-8a1d-3257957b761d"
      },
      "source": [
        "'''\n",
        "In this dataframe, we only have 7 columns.\n",
        "What if we want to check columns 'gender' & 'generation'?\n",
        "\n",
        "'''\n",
        "\n",
        "df.columns.values"
      ],
      "execution_count": null,
      "outputs": [
        {
          "output_type": "execute_result",
          "data": {
            "text/plain": [
              "array(['time_start', 'user_type', 'gender', 'generation', 'duration',\n",
              "       'distance', 'speed'], dtype=object)"
            ]
          },
          "metadata": {
            "tags": []
          },
          "execution_count": 53
        }
      ]
    },
    {
      "cell_type": "code",
      "metadata": {
        "colab": {
          "base_uri": "https://localhost:8080/"
        },
        "id": "MsmNJN5IstqL",
        "outputId": "68c28a7c-8182-4bcf-eb4c-85b7af7f415c"
      },
      "source": [
        "'''\n",
        "one thing in common for 'gender' & 'generation' >> contains 'gen' keyword\n",
        "filter pandas columns index contains 'gen'\n",
        "result >> True / False for matching values\n",
        "\n",
        "'''\n",
        "\n",
        "df.columns.str.contains('gen')"
      ],
      "execution_count": null,
      "outputs": [
        {
          "output_type": "execute_result",
          "data": {
            "text/plain": [
              "array([False, False,  True,  True, False, False, False])"
            ]
          },
          "metadata": {
            "tags": []
          },
          "execution_count": 54
        }
      ]
    },
    {
      "cell_type": "code",
      "metadata": {
        "colab": {
          "base_uri": "https://localhost:8080/",
          "height": 204
        },
        "id": "xs_Wicz9tN5_",
        "outputId": "f0eece8a-d370-437e-b94a-190a3c20e767"
      },
      "source": [
        "# filter dataframe columns with index name contains 'gen'\n",
        "# note: useful for dataframe with many columns (I believe you don't want to manually type in many column names, right?)\n",
        "\n",
        "df.loc[:, df.columns.str.contains('gen')].head()"
      ],
      "execution_count": null,
      "outputs": [
        {
          "output_type": "execute_result",
          "data": {
            "text/html": [
              "<div>\n",
              "<style scoped>\n",
              "    .dataframe tbody tr th:only-of-type {\n",
              "        vertical-align: middle;\n",
              "    }\n",
              "\n",
              "    .dataframe tbody tr th {\n",
              "        vertical-align: top;\n",
              "    }\n",
              "\n",
              "    .dataframe thead th {\n",
              "        text-align: right;\n",
              "    }\n",
              "</style>\n",
              "<table border=\"1\" class=\"dataframe\">\n",
              "  <thead>\n",
              "    <tr style=\"text-align: right;\">\n",
              "      <th></th>\n",
              "      <th>gender</th>\n",
              "      <th>generation</th>\n",
              "    </tr>\n",
              "  </thead>\n",
              "  <tbody>\n",
              "    <tr>\n",
              "      <th>0</th>\n",
              "      <td>Male</td>\n",
              "      <td>gen_x</td>\n",
              "    </tr>\n",
              "    <tr>\n",
              "      <th>1</th>\n",
              "      <td>Male</td>\n",
              "      <td>baby_boomer</td>\n",
              "    </tr>\n",
              "    <tr>\n",
              "      <th>2</th>\n",
              "      <td>Male</td>\n",
              "      <td>gen_y</td>\n",
              "    </tr>\n",
              "    <tr>\n",
              "      <th>3</th>\n",
              "      <td>Male</td>\n",
              "      <td>gen_y</td>\n",
              "    </tr>\n",
              "    <tr>\n",
              "      <th>4</th>\n",
              "      <td>Male</td>\n",
              "      <td>gen_x</td>\n",
              "    </tr>\n",
              "  </tbody>\n",
              "</table>\n",
              "</div>"
            ],
            "text/plain": [
              "  gender   generation\n",
              "0   Male        gen_x\n",
              "1   Male  baby_boomer\n",
              "2   Male        gen_y\n",
              "3   Male        gen_y\n",
              "4   Male        gen_x"
            ]
          },
          "metadata": {
            "tags": []
          },
          "execution_count": 55
        }
      ]
    },
    {
      "cell_type": "markdown",
      "metadata": {
        "id": "7pQn1NiudjMV"
      },
      "source": [
        "### *str* vs *for-loop + list comprehension* vs *apply + function*"
      ]
    },
    {
      "cell_type": "code",
      "metadata": {
        "colab": {
          "base_uri": "https://localhost:8080/"
        },
        "id": "XRvI54hetjkD",
        "outputId": "379e479e-ef93-4067-9658-39d30991212d"
      },
      "source": [
        "'''\n",
        "wondering why use .str instead of for-loop + list comprehension or apply + function?\n",
        "imagine you have list of month names, which NaN is part of the list...\n",
        "\n",
        "'''\n",
        "\n",
        "month_name = ['January', 'February', np.nan, 'April', 'May', 'June', 'July',\n",
        "                'August', 'September', 'October', 'November', 'December']  \n",
        "\n",
        "month_name"
      ],
      "execution_count": null,
      "outputs": [
        {
          "output_type": "execute_result",
          "data": {
            "text/plain": [
              "['January',\n",
              " 'February',\n",
              " nan,\n",
              " 'April',\n",
              " 'May',\n",
              " 'June',\n",
              " 'July',\n",
              " 'August',\n",
              " 'September',\n",
              " 'October',\n",
              " 'November',\n",
              " 'December']"
            ]
          },
          "metadata": {
            "tags": []
          },
          "execution_count": 56
        }
      ]
    },
    {
      "cell_type": "code",
      "metadata": {
        "colab": {
          "base_uri": "https://localhost:8080/",
          "height": 283
        },
        "id": "BT-zGBhwu4dE",
        "outputId": "646d235c-30b9-42a5-f630-9149f8dd45fc"
      },
      "source": [
        "# use of for-loop within list comprehension\n",
        "# operation fail if there is NaN\n",
        "\n",
        "[word[0:3] for word in month_name]"
      ],
      "execution_count": null,
      "outputs": [
        {
          "output_type": "error",
          "ename": "TypeError",
          "evalue": "ignored",
          "traceback": [
            "\u001b[0;31m---------------------------------------------------------------------------\u001b[0m",
            "\u001b[0;31mTypeError\u001b[0m                                 Traceback (most recent call last)",
            "\u001b[0;32m<ipython-input-57-398382afecd8>\u001b[0m in \u001b[0;36m<module>\u001b[0;34m()\u001b[0m\n\u001b[1;32m      2\u001b[0m \u001b[0;31m# operation fail if there is NaN\u001b[0m\u001b[0;34m\u001b[0m\u001b[0;34m\u001b[0m\u001b[0;34m\u001b[0m\u001b[0m\n\u001b[1;32m      3\u001b[0m \u001b[0;34m\u001b[0m\u001b[0m\n\u001b[0;32m----> 4\u001b[0;31m \u001b[0;34m[\u001b[0m\u001b[0mword\u001b[0m\u001b[0;34m[\u001b[0m\u001b[0;36m0\u001b[0m\u001b[0;34m:\u001b[0m\u001b[0;36m3\u001b[0m\u001b[0;34m]\u001b[0m \u001b[0;32mfor\u001b[0m \u001b[0mword\u001b[0m \u001b[0;32min\u001b[0m \u001b[0mmonth_name\u001b[0m\u001b[0;34m]\u001b[0m\u001b[0;34m\u001b[0m\u001b[0;34m\u001b[0m\u001b[0m\n\u001b[0m",
            "\u001b[0;32m<ipython-input-57-398382afecd8>\u001b[0m in \u001b[0;36m<listcomp>\u001b[0;34m(.0)\u001b[0m\n\u001b[1;32m      2\u001b[0m \u001b[0;31m# operation fail if there is NaN\u001b[0m\u001b[0;34m\u001b[0m\u001b[0;34m\u001b[0m\u001b[0;34m\u001b[0m\u001b[0m\n\u001b[1;32m      3\u001b[0m \u001b[0;34m\u001b[0m\u001b[0m\n\u001b[0;32m----> 4\u001b[0;31m \u001b[0;34m[\u001b[0m\u001b[0mword\u001b[0m\u001b[0;34m[\u001b[0m\u001b[0;36m0\u001b[0m\u001b[0;34m:\u001b[0m\u001b[0;36m3\u001b[0m\u001b[0;34m]\u001b[0m \u001b[0;32mfor\u001b[0m \u001b[0mword\u001b[0m \u001b[0;32min\u001b[0m \u001b[0mmonth_name\u001b[0m\u001b[0;34m]\u001b[0m\u001b[0;34m\u001b[0m\u001b[0;34m\u001b[0m\u001b[0m\n\u001b[0m",
            "\u001b[0;31mTypeError\u001b[0m: 'float' object is not subscriptable"
          ]
        }
      ]
    },
    {
      "cell_type": "code",
      "metadata": {
        "colab": {
          "base_uri": "https://localhost:8080/",
          "height": 341
        },
        "id": "wzCSJwAbwIXo",
        "outputId": "1b4b057b-3697-4fea-c277-1e2b523d1d32"
      },
      "source": [
        "# apply function to slice the substring\n",
        "# operation fail if there is NaN\n",
        "\n",
        "pd.Series(month_name).apply(lambda word: word[0:3])"
      ],
      "execution_count": null,
      "outputs": [
        {
          "output_type": "error",
          "ename": "TypeError",
          "evalue": "ignored",
          "traceback": [
            "\u001b[0;31m---------------------------------------------------------------------------\u001b[0m",
            "\u001b[0;31mTypeError\u001b[0m                                 Traceback (most recent call last)",
            "\u001b[0;32m<ipython-input-58-f030d5097502>\u001b[0m in \u001b[0;36m<module>\u001b[0;34m()\u001b[0m\n\u001b[1;32m      2\u001b[0m \u001b[0;31m# operation fail if there is NaN\u001b[0m\u001b[0;34m\u001b[0m\u001b[0;34m\u001b[0m\u001b[0;34m\u001b[0m\u001b[0m\n\u001b[1;32m      3\u001b[0m \u001b[0;34m\u001b[0m\u001b[0m\n\u001b[0;32m----> 4\u001b[0;31m \u001b[0mpd\u001b[0m\u001b[0;34m.\u001b[0m\u001b[0mSeries\u001b[0m\u001b[0;34m(\u001b[0m\u001b[0mmonth_name\u001b[0m\u001b[0;34m)\u001b[0m\u001b[0;34m.\u001b[0m\u001b[0mapply\u001b[0m\u001b[0;34m(\u001b[0m\u001b[0;32mlambda\u001b[0m \u001b[0mword\u001b[0m\u001b[0;34m:\u001b[0m \u001b[0mword\u001b[0m\u001b[0;34m[\u001b[0m\u001b[0;36m0\u001b[0m\u001b[0;34m:\u001b[0m\u001b[0;36m3\u001b[0m\u001b[0;34m]\u001b[0m\u001b[0;34m)\u001b[0m\u001b[0;34m\u001b[0m\u001b[0;34m\u001b[0m\u001b[0m\n\u001b[0m",
            "\u001b[0;32m/usr/local/lib/python3.7/dist-packages/pandas/core/series.py\u001b[0m in \u001b[0;36mapply\u001b[0;34m(self, func, convert_dtype, args, **kwds)\u001b[0m\n\u001b[1;32m   4211\u001b[0m             \u001b[0;32melse\u001b[0m\u001b[0;34m:\u001b[0m\u001b[0;34m\u001b[0m\u001b[0;34m\u001b[0m\u001b[0m\n\u001b[1;32m   4212\u001b[0m                 \u001b[0mvalues\u001b[0m \u001b[0;34m=\u001b[0m \u001b[0mself\u001b[0m\u001b[0;34m.\u001b[0m\u001b[0mastype\u001b[0m\u001b[0;34m(\u001b[0m\u001b[0mobject\u001b[0m\u001b[0;34m)\u001b[0m\u001b[0;34m.\u001b[0m\u001b[0m_values\u001b[0m\u001b[0;34m\u001b[0m\u001b[0;34m\u001b[0m\u001b[0m\n\u001b[0;32m-> 4213\u001b[0;31m                 \u001b[0mmapped\u001b[0m \u001b[0;34m=\u001b[0m \u001b[0mlib\u001b[0m\u001b[0;34m.\u001b[0m\u001b[0mmap_infer\u001b[0m\u001b[0;34m(\u001b[0m\u001b[0mvalues\u001b[0m\u001b[0;34m,\u001b[0m \u001b[0mf\u001b[0m\u001b[0;34m,\u001b[0m \u001b[0mconvert\u001b[0m\u001b[0;34m=\u001b[0m\u001b[0mconvert_dtype\u001b[0m\u001b[0;34m)\u001b[0m\u001b[0;34m\u001b[0m\u001b[0;34m\u001b[0m\u001b[0m\n\u001b[0m\u001b[1;32m   4214\u001b[0m \u001b[0;34m\u001b[0m\u001b[0m\n\u001b[1;32m   4215\u001b[0m         \u001b[0;32mif\u001b[0m \u001b[0mlen\u001b[0m\u001b[0;34m(\u001b[0m\u001b[0mmapped\u001b[0m\u001b[0;34m)\u001b[0m \u001b[0;32mand\u001b[0m \u001b[0misinstance\u001b[0m\u001b[0;34m(\u001b[0m\u001b[0mmapped\u001b[0m\u001b[0;34m[\u001b[0m\u001b[0;36m0\u001b[0m\u001b[0;34m]\u001b[0m\u001b[0;34m,\u001b[0m \u001b[0mSeries\u001b[0m\u001b[0;34m)\u001b[0m\u001b[0;34m:\u001b[0m\u001b[0;34m\u001b[0m\u001b[0;34m\u001b[0m\u001b[0m\n",
            "\u001b[0;32mpandas/_libs/lib.pyx\u001b[0m in \u001b[0;36mpandas._libs.lib.map_infer\u001b[0;34m()\u001b[0m\n",
            "\u001b[0;32m<ipython-input-58-f030d5097502>\u001b[0m in \u001b[0;36m<lambda>\u001b[0;34m(word)\u001b[0m\n\u001b[1;32m      2\u001b[0m \u001b[0;31m# operation fail if there is NaN\u001b[0m\u001b[0;34m\u001b[0m\u001b[0;34m\u001b[0m\u001b[0;34m\u001b[0m\u001b[0m\n\u001b[1;32m      3\u001b[0m \u001b[0;34m\u001b[0m\u001b[0m\n\u001b[0;32m----> 4\u001b[0;31m \u001b[0mpd\u001b[0m\u001b[0;34m.\u001b[0m\u001b[0mSeries\u001b[0m\u001b[0;34m(\u001b[0m\u001b[0mmonth_name\u001b[0m\u001b[0;34m)\u001b[0m\u001b[0;34m.\u001b[0m\u001b[0mapply\u001b[0m\u001b[0;34m(\u001b[0m\u001b[0;32mlambda\u001b[0m \u001b[0mword\u001b[0m\u001b[0;34m:\u001b[0m \u001b[0mword\u001b[0m\u001b[0;34m[\u001b[0m\u001b[0;36m0\u001b[0m\u001b[0;34m:\u001b[0m\u001b[0;36m3\u001b[0m\u001b[0;34m]\u001b[0m\u001b[0;34m)\u001b[0m\u001b[0;34m\u001b[0m\u001b[0;34m\u001b[0m\u001b[0m\n\u001b[0m",
            "\u001b[0;31mTypeError\u001b[0m: 'float' object is not subscriptable"
          ]
        }
      ]
    },
    {
      "cell_type": "code",
      "metadata": {
        "colab": {
          "base_uri": "https://localhost:8080/"
        },
        "id": "wOUFpCDnvCIY",
        "outputId": "f56da48b-b769-4655-ff2e-efea89524a65"
      },
      "source": [
        "# .str will skip NaN item\n",
        "# everything just works ...\n",
        "\n",
        "pd.Series(month_name).str[0:3]"
      ],
      "execution_count": null,
      "outputs": [
        {
          "output_type": "execute_result",
          "data": {
            "text/plain": [
              "0     Jan\n",
              "1     Feb\n",
              "2     NaN\n",
              "3     Apr\n",
              "4     May\n",
              "5     Jun\n",
              "6     Jul\n",
              "7     Aug\n",
              "8     Sep\n",
              "9     Oct\n",
              "10    Nov\n",
              "11    Dec\n",
              "dtype: object"
            ]
          },
          "metadata": {
            "tags": []
          },
          "execution_count": 59
        }
      ]
    },
    {
      "cell_type": "markdown",
      "metadata": {
        "id": "qWxOPyIi8YDo"
      },
      "source": [
        "## Lesson 13: select_dtypes\n",
        "\n",
        "*.select_dtypes()* is useful to subset columns by specific data type. This method comes in handy if we want to calculate correlation matrix."
      ]
    },
    {
      "cell_type": "code",
      "metadata": {
        "colab": {
          "base_uri": "https://localhost:8080/"
        },
        "id": "8Xu2V94oCGuZ",
        "outputId": "b47aa865-f22a-42cf-a056-4c760a76ee9d"
      },
      "source": [
        "# imagine we want to find out correlation between variables: duration, distance & speed\n",
        "\n",
        "df.dtypes"
      ],
      "execution_count": null,
      "outputs": [
        {
          "output_type": "execute_result",
          "data": {
            "text/plain": [
              "time_start    datetime64[ns]\n",
              "user_type           category\n",
              "gender              category\n",
              "generation          category\n",
              "duration             float32\n",
              "distance             float32\n",
              "speed                float32\n",
              "dtype: object"
            ]
          },
          "metadata": {
            "tags": []
          },
          "execution_count": 44
        }
      ]
    },
    {
      "cell_type": "code",
      "metadata": {
        "id": "tlBDJBR3vLzP",
        "colab": {
          "base_uri": "https://localhost:8080/",
          "height": 204
        },
        "outputId": "32ece740-cd05-4ac1-a05f-c79e619276d4"
      },
      "source": [
        "# data type for duration, distance & speed is 'float32'\n",
        "# ref: https://pandas.pydata.org/pandas-docs/stable/reference/api/pandas.DataFrame.select_dtypes.html\n",
        "\n",
        "df.select_dtypes(include = np.float32).head()"
      ],
      "execution_count": null,
      "outputs": [
        {
          "output_type": "execute_result",
          "data": {
            "text/html": [
              "<div>\n",
              "<style scoped>\n",
              "    .dataframe tbody tr th:only-of-type {\n",
              "        vertical-align: middle;\n",
              "    }\n",
              "\n",
              "    .dataframe tbody tr th {\n",
              "        vertical-align: top;\n",
              "    }\n",
              "\n",
              "    .dataframe thead th {\n",
              "        text-align: right;\n",
              "    }\n",
              "</style>\n",
              "<table border=\"1\" class=\"dataframe\">\n",
              "  <thead>\n",
              "    <tr style=\"text-align: right;\">\n",
              "      <th></th>\n",
              "      <th>duration</th>\n",
              "      <th>distance</th>\n",
              "      <th>speed</th>\n",
              "    </tr>\n",
              "  </thead>\n",
              "  <tbody>\n",
              "    <tr>\n",
              "      <th>0</th>\n",
              "      <td>5.33</td>\n",
              "      <td>1.07</td>\n",
              "      <td>12.00</td>\n",
              "    </tr>\n",
              "    <tr>\n",
              "      <th>1</th>\n",
              "      <td>5.27</td>\n",
              "      <td>0.58</td>\n",
              "      <td>6.58</td>\n",
              "    </tr>\n",
              "    <tr>\n",
              "      <th>2</th>\n",
              "      <td>9.85</td>\n",
              "      <td>2.03</td>\n",
              "      <td>12.39</td>\n",
              "    </tr>\n",
              "    <tr>\n",
              "      <th>3</th>\n",
              "      <td>45.32</td>\n",
              "      <td>1.40</td>\n",
              "      <td>1.86</td>\n",
              "    </tr>\n",
              "    <tr>\n",
              "      <th>4</th>\n",
              "      <td>5.05</td>\n",
              "      <td>1.32</td>\n",
              "      <td>15.64</td>\n",
              "    </tr>\n",
              "  </tbody>\n",
              "</table>\n",
              "</div>"
            ],
            "text/plain": [
              "   duration  distance  speed\n",
              "0      5.33      1.07  12.00\n",
              "1      5.27      0.58   6.58\n",
              "2      9.85      2.03  12.39\n",
              "3     45.32      1.40   1.86\n",
              "4      5.05      1.32  15.64"
            ]
          },
          "metadata": {
            "tags": []
          },
          "execution_count": 46
        }
      ]
    },
    {
      "cell_type": "code",
      "metadata": {
        "colab": {
          "base_uri": "https://localhost:8080/",
          "height": 142
        },
        "id": "pnsXxH0XB_0_",
        "outputId": "d32fa1da-d9a3-4df0-a100-0ce37248a0c1"
      },
      "source": [
        "# .corr() method is used to obtain correlation matrix\n",
        "# ref: https://pandas.pydata.org/pandas-docs/stable/reference/api/pandas.DataFrame.corr.html?highlight=corr\n",
        "\n",
        "df.select_dtypes(include = np.float32).corr().round(2)"
      ],
      "execution_count": null,
      "outputs": [
        {
          "output_type": "execute_result",
          "data": {
            "text/html": [
              "<div>\n",
              "<style scoped>\n",
              "    .dataframe tbody tr th:only-of-type {\n",
              "        vertical-align: middle;\n",
              "    }\n",
              "\n",
              "    .dataframe tbody tr th {\n",
              "        vertical-align: top;\n",
              "    }\n",
              "\n",
              "    .dataframe thead th {\n",
              "        text-align: right;\n",
              "    }\n",
              "</style>\n",
              "<table border=\"1\" class=\"dataframe\">\n",
              "  <thead>\n",
              "    <tr style=\"text-align: right;\">\n",
              "      <th></th>\n",
              "      <th>duration</th>\n",
              "      <th>distance</th>\n",
              "      <th>speed</th>\n",
              "    </tr>\n",
              "  </thead>\n",
              "  <tbody>\n",
              "    <tr>\n",
              "      <th>duration</th>\n",
              "      <td>1.000000</td>\n",
              "      <td>0.061444</td>\n",
              "      <td>-0.057840</td>\n",
              "    </tr>\n",
              "    <tr>\n",
              "      <th>distance</th>\n",
              "      <td>0.061444</td>\n",
              "      <td>1.000000</td>\n",
              "      <td>0.306654</td>\n",
              "    </tr>\n",
              "    <tr>\n",
              "      <th>speed</th>\n",
              "      <td>-0.057840</td>\n",
              "      <td>0.306654</td>\n",
              "      <td>1.000000</td>\n",
              "    </tr>\n",
              "  </tbody>\n",
              "</table>\n",
              "</div>"
            ],
            "text/plain": [
              "          duration  distance     speed\n",
              "duration  1.000000  0.061444 -0.057840\n",
              "distance  0.061444  1.000000  0.306654\n",
              "speed    -0.057840  0.306654  1.000000"
            ]
          },
          "metadata": {
            "tags": []
          },
          "execution_count": 47
        }
      ]
    },
    {
      "cell_type": "code",
      "metadata": {
        "colab": {
          "base_uri": "https://localhost:8080/",
          "height": 204
        },
        "id": "zqBud1qLCxhC",
        "outputId": "b1439a93-5bee-48a9-99e5-3a4d248dad0d"
      },
      "source": [
        "# subset columns with 'category' data type\n",
        "\n",
        "df.select_dtypes(include = 'category').head()"
      ],
      "execution_count": null,
      "outputs": [
        {
          "output_type": "execute_result",
          "data": {
            "text/html": [
              "<div>\n",
              "<style scoped>\n",
              "    .dataframe tbody tr th:only-of-type {\n",
              "        vertical-align: middle;\n",
              "    }\n",
              "\n",
              "    .dataframe tbody tr th {\n",
              "        vertical-align: top;\n",
              "    }\n",
              "\n",
              "    .dataframe thead th {\n",
              "        text-align: right;\n",
              "    }\n",
              "</style>\n",
              "<table border=\"1\" class=\"dataframe\">\n",
              "  <thead>\n",
              "    <tr style=\"text-align: right;\">\n",
              "      <th></th>\n",
              "      <th>user_type</th>\n",
              "      <th>gender</th>\n",
              "      <th>generation</th>\n",
              "    </tr>\n",
              "  </thead>\n",
              "  <tbody>\n",
              "    <tr>\n",
              "      <th>0</th>\n",
              "      <td>Subscriber</td>\n",
              "      <td>Male</td>\n",
              "      <td>gen_x</td>\n",
              "    </tr>\n",
              "    <tr>\n",
              "      <th>1</th>\n",
              "      <td>Subscriber</td>\n",
              "      <td>Male</td>\n",
              "      <td>baby_boomer</td>\n",
              "    </tr>\n",
              "    <tr>\n",
              "      <th>2</th>\n",
              "      <td>Subscriber</td>\n",
              "      <td>Male</td>\n",
              "      <td>gen_y</td>\n",
              "    </tr>\n",
              "    <tr>\n",
              "      <th>3</th>\n",
              "      <td>Subscriber</td>\n",
              "      <td>Male</td>\n",
              "      <td>gen_y</td>\n",
              "    </tr>\n",
              "    <tr>\n",
              "      <th>4</th>\n",
              "      <td>Subscriber</td>\n",
              "      <td>Male</td>\n",
              "      <td>gen_x</td>\n",
              "    </tr>\n",
              "  </tbody>\n",
              "</table>\n",
              "</div>"
            ],
            "text/plain": [
              "    user_type gender   generation\n",
              "0  Subscriber   Male        gen_x\n",
              "1  Subscriber   Male  baby_boomer\n",
              "2  Subscriber   Male        gen_y\n",
              "3  Subscriber   Male        gen_y\n",
              "4  Subscriber   Male        gen_x"
            ]
          },
          "metadata": {
            "tags": []
          },
          "execution_count": 48
        }
      ]
    },
    {
      "cell_type": "code",
      "metadata": {
        "id": "qoom9OdWDOSJ"
      },
      "source": [
        ""
      ],
      "execution_count": null,
      "outputs": []
    }
  ]
}